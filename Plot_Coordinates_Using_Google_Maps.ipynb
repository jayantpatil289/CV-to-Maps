{
 "cells": [
  {
   "cell_type": "code",
   "execution_count": 1,
   "metadata": {},
   "outputs": [],
   "source": [
    "import matplotlib.pyplot as plt\n",
    "%matplotlib inline\n",
    "from matplotlib.colors import Normalize\n",
    "from matplotlib.cm import ScalarMappable\n",
    "from gmplot import GoogleMapPlotter\n",
    "from random import random"
   ]
  },
  {
   "cell_type": "code",
   "execution_count": 15,
   "metadata": {},
   "outputs": [],
   "source": [
    "import csv"
   ]
  },
  {
   "cell_type": "code",
   "execution_count": 40,
   "metadata": {},
   "outputs": [],
   "source": [
    "class CustomGoogleMapPlotter(GoogleMapPlotter):\n",
    "    def __init__(self, center_lat, center_lng, zoom, apikey='',\n",
    "                 map_type='satellite'):\n",
    "        if apikey == '':\n",
    "            try:\n",
    "                with open('apikey.txt', 'r') as apifile:\n",
    "                    apikey = apifile.readline()\n",
    "            except FileNotFoundError:\n",
    "                pass\n",
    "        super().__init__(center_lat, center_lng, zoom, apikey)\n",
    "\n",
    "        self.map_type = map_type\n",
    "        assert(self.map_type in ['roadmap', 'satellite', 'hybrid', 'terrain'])\n",
    "\n",
    "    def write_map(self,  f):\n",
    "        f.write('\\t\\tvar centerlatlng = new google.maps.LatLng(%f, %f);\\n' %\n",
    "                (self.center[0], self.center[1]))\n",
    "        f.write('\\t\\tvar myOptions = {\\n')\n",
    "        f.write('\\t\\t\\tzoom: %d,\\n' % (self.zoom))\n",
    "        f.write('\\t\\t\\tcenter: centerlatlng,\\n')\n",
    "\n",
    "        # Change this line to allow different map types\n",
    "        f.write('\\t\\t\\tmapTypeId: \\'{}\\'\\n'.format(self.map_type))\n",
    "\n",
    "        f.write('\\t\\t};\\n')\n",
    "        f.write(\n",
    "            '\\t\\tvar map = new google.maps.Map(document.getElementById(\"map_canvas\"), myOptions);\\n')\n",
    "        f.write('\\n')\n",
    "\n",
    "    def color_scatter(self, lats, lngs, values=None, colormap='coolwarm',\n",
    "                      size=None, marker=False, s=None, **kwargs):\n",
    "        def rgb2hex(rgb):\n",
    "            \"\"\" Convert RGBA or RGB to #RRGGBB \"\"\"\n",
    "            rgb = list(rgb[0:3]) # remove alpha if present\n",
    "            rgb = [int(c * 255) for c in rgb]\n",
    "            hexcolor = '#%02x%02x%02x' % tuple(rgb)\n",
    "            return hexcolor\n",
    "\n",
    "        if values is None:\n",
    "            colors = [None for _ in lats]\n",
    "        else:\n",
    "            cmap = plt.get_cmap(colormap)\n",
    "            norm = Normalize(vmin=min(values), vmax=max(values))\n",
    "            scalar_map = ScalarMappable(norm=norm, cmap=cmap)\n",
    "            colors = [rgb2hex(scalar_map.to_rgba(value)) for value in values]\n",
    "        for lat, lon, c in zip(lats, lngs, colors):\n",
    "            self.scatter(lats=[lat], lngs=[lon], c=c, size=size, marker=marker,\n",
    "                         s=s, **kwargs)\n",
    "\n",
    "    def cam_tower_scatter(self, lats, lngs, color=None, size=None, marker=True, c=None, s=None, symbol='o',\n",
    "                          tower_color=None, **kwargs):\n",
    "        color = color or c\n",
    "        size = size or s or 40\n",
    "        kwargs[\"color\"] = color\n",
    "        kwargs[\"size\"] = size\n",
    "        settings = self._process_kwargs(kwargs)\n",
    "        for lat, lng in zip(lats[:-1], lngs[:-1]):\n",
    "            if marker:\n",
    "                self.marker(lat, lng, settings['color'])\n",
    "            else:\n",
    "                self._add_symbol(Symbol(symbol, lat, lng, size), **settings)\n",
    "        if marker:\n",
    "            self.marker(lats[-1], lngs[-1], tower_color)\n",
    "            tower_col = self.color_dict.get(color)\n",
    "            tower_col = self.html_color_codes.get(color,color)\n",
    "            self.points.append((lats[-1], lngs[-1], tower_col[1:], \"no implementation\"))"
   ]
  },
  {
   "cell_type": "code",
   "execution_count": 41,
   "metadata": {},
   "outputs": [],
   "source": [
    "#test code to plot all but the last coordinate in list in one color and the last location in a different color\n",
    "\n",
    "initial_zoom = 12\n",
    "num_pts = 40\n",
    "\n",
    "lats = [37.428]\n",
    "lons = [-122.145]\n",
    "values = [random() * 20]\n",
    "for pt in range(num_pts):\n",
    "    lats.append(lats[-1] + (random() - 0.5)/100)\n",
    "    lons.append(lons[-1] + random()/100)\n",
    "    values.append(values[-1] + random())\n",
    "gmap = CustomGoogleMapPlotter(lats[0], lons[0], initial_zoom,\n",
    "                              map_type='satellite')\n",
    "#gmap.color_scatter(lats, lons, values, colormap='gist_heat')\n",
    "#gmap.scatter(lats,lons,alpha=0.5,c='red',marker=True)\n",
    "gmap.cam_tower_scatter(lats,lons,alpha=0.5,c='red', marker=True, tower_color='blue')\n",
    "\n",
    "gmap.draw(\"mymap_with_tower.html\")"
   ]
  },
  {
   "cell_type": "code",
   "execution_count": 67,
   "metadata": {},
   "outputs": [
    {
     "name": "stdout",
     "output_type": "stream",
     "text": [
      "cam_lats: [38.596667, 38.597111, 38.597333, 38.597389, 38.597389, 38.597389, 38.597389, 38.597472, 38.597778] \n",
      "cam_lons: [-90.640028, -90.640417, -90.640639, -90.640694, -90.640694, -90.640694, -90.640694, -90.640806, -90.641111]\n"
     ]
    }
   ],
   "source": [
    "cam_lats = []\n",
    "cam_lons = []\n",
    "with open('./detection_input_one.csv','r') as f:\n",
    "    reader = csv.DictReader(f)\n",
    "    for row in reader:\n",
    "        cam_lats.append(float(row['lat']))\n",
    "        cam_lons.append(float(row['lon'])*(-1.))\n",
    "        #print(row['lat'],row['lon'])\n",
    "print('cam_lats:',cam_lats,'\\ncam_lons:',cam_lons)"
   ]
  },
  {
   "cell_type": "code",
   "execution_count": 33,
   "metadata": {},
   "outputs": [],
   "source": [
    "initial_zoom = 12\n",
    "gmap = CustomGoogleMapPlotter(cam_lats[0], cam_lons[0], initial_zoom,\n",
    "                              map_type='satellite')\n",
    "gmap.scatter(cam_lats,cam_lons,alpha=0.5,c='red',marker=True)\n",
    "\n",
    "gmap.draw(\"tower_map.html\")"
   ]
  },
  {
   "cell_type": "code",
   "execution_count": 146,
   "metadata": {},
   "outputs": [
    {
     "name": "stdout",
     "output_type": "stream",
     "text": [
      "tower_lats: [38.603696] \n",
      "tower_lons: [-90.635958]\n"
     ]
    }
   ],
   "source": [
    "tower_lats = []\n",
    "tower_lons = []\n",
    "with open('./water_tower_detection.csv','r') as f:\n",
    "    reader = csv.DictReader(f)\n",
    "    for row in reader:\n",
    "        tower_lats.append(float(row['lat']))\n",
    "        tower_lons.append(float(row['lon'])*(-1.))\n",
    "print('tower_lats:',tower_lats,'\\ntower_lons:',tower_lons)"
   ]
  },
  {
   "cell_type": "code",
   "execution_count": 144,
   "metadata": {},
   "outputs": [],
   "source": [
    "all_lats = cam_lats + tower_lats\n",
    "all_lons = cam_lons + tower_lons"
   ]
  },
  {
   "cell_type": "code",
   "execution_count": 145,
   "metadata": {},
   "outputs": [],
   "source": [
    "initial_zoom = 12\n",
    "gmap = CustomGoogleMapPlotter(all_lats[0], all_lons[0], initial_zoom,\n",
    "                              map_type='satellite')\n",
    "gmap.cam_tower_scatter(all_lats,all_lons,alpha=0.5,c='red', marker=True, tower_color='blue')\n",
    "gmap.draw(\"tower_map_att17.html\")"
   ]
  },
  {
   "cell_type": "code",
   "execution_count": null,
   "metadata": {},
   "outputs": [],
   "source": []
  },
  {
   "cell_type": "code",
   "execution_count": null,
   "metadata": {},
   "outputs": [],
   "source": []
  },
  {
   "cell_type": "code",
   "execution_count": 59,
   "metadata": {},
   "outputs": [
    {
     "name": "stdout",
     "output_type": "stream",
     "text": [
      "cam_lats: [51.509827, 51.509827, 51.509827, 51.509827, 51.509827, 51.509827, 51.509834, 51.50983, 51.50983, 51.50983, 51.50983, 51.509856, 51.509856, 51.509856, 51.509856, 51.509856, 51.509866, 51.509866, 51.509866, 51.509866, 51.50989, 51.50989, 51.50992, 51.50992, 51.509938, 51.510193, 51.510193, 51.510261, 51.510261, 51.510261, 51.510295, 51.510295, 51.510371, 51.510415, 51.510415, 51.510462, 51.510462, 51.510462, 51.510462, 51.510577, 51.510577, 51.510577, 51.510577, 51.510577, 51.510664, 51.510664, 51.510664, 51.511296, 51.511373, 51.511373, 51.511518, 51.511518, 51.511518, 51.511579, 51.511579, 51.511579, 51.511643, 51.511643, 51.511643, 51.511643, 51.511643, 51.511643, 51.511741, 51.511741, 51.511741, 51.511741, 51.511741, 51.5117, 51.5117, 51.5117, 51.5117, 51.511822, 51.511822, 51.511822, 51.511822, 51.511822, 51.511822, 51.511822, 51.511903, 51.511903, 51.511903, 51.511903, 51.511903, 51.511903, 51.511946, 51.511946, 51.511987, 51.511987, 51.511987, 51.511987, 51.511987, 51.511987, 51.512031, 51.512031, 51.512031, 51.512077, 51.512077, 51.512077, 51.512121, 51.512121, 51.512121, 51.512121, 51.512165, 51.512165, 51.512165, 51.512165, 51.512165, 51.512277, 51.512277, 51.512277, 51.512566, 51.512752, 51.512752, 51.512827, 51.512906, 51.512906, 51.512906, 51.512906, 51.512983, 51.512983, 51.51306, 51.51306, 51.51306, 51.513099, 51.513099, 51.513099, 51.513099, 51.51318, 51.51318, 51.51318, 51.513267, 51.513267, 51.513267, 51.513267, 51.513267, 51.513352, 51.513352, 51.513352, 51.513352, 51.513391, 51.513391, 51.513391, 51.513391, 51.51347, 51.51347, 51.513561, 51.513561, 51.513561, 51.513606, 51.513606, 51.513606, 51.513606, 51.513692, 51.513692, 51.513692, 51.513692, 51.513692, 51.513692, 51.513692, 51.513704, 51.513704, 51.513704, 51.513704, 51.513704, 51.513704, 51.513704, 51.513704, 51.513704, 51.513781, 51.513781, 51.513781, 51.513781, 51.513781] \n",
      "cam_lons: [-0.136377, -0.136377, -0.136377, -0.136515, -0.136515, -0.136515, -0.13665, -0.136185, -0.136185, -0.136185, -0.136185, -0.136014, -0.136014, -0.136014, -0.136014, -0.136014, -0.135939, -0.135939, -0.135939, -0.135939, -0.135788, -0.135788, -0.135633, -0.135633, -0.135551, -0.137999, -0.137999, -0.138122, -0.138122, -0.138122, -0.138171, -0.138171, -0.138257, -0.138298, -0.138298, -0.138328, -0.138328, -0.138328, -0.138328, -0.138403, -0.138403, -0.138403, -0.138403, -0.138403, -0.138474, -0.138474, -0.138474, -0.138999, -0.139071, -0.139071, -0.139196, -0.139196, -0.139196, -0.139234, -0.139234, -0.139234, -0.139252, -0.139252, -0.139252, -0.139252, -0.139252, -0.139252, -0.139401, -0.139401, -0.139401, -0.139401, -0.139401, -0.139364, -0.139364, -0.139364, -0.139364, -0.139473, -0.139473, -0.139473, -0.139473, -0.139473, -0.139473, -0.139473, -0.139546, -0.139546, -0.139546, -0.139546, -0.139546, -0.139546, -0.139583, -0.139583, -0.13962, -0.13962, -0.13962, -0.13962, -0.13962, -0.13962, -0.139658, -0.139658, -0.139658, -0.139699, -0.139699, -0.139699, -0.139737, -0.139737, -0.139737, -0.139737, -0.139776, -0.139776, -0.139776, -0.139776, -0.139776, -0.139942, -0.139942, -0.139942, -0.140185, -0.140295, -0.140295, -0.140362, -0.140431, -0.140431, -0.140431, -0.140431, -0.140497, -0.140497, -0.14056, -0.14056, -0.14056, -0.140592, -0.140592, -0.140592, -0.140592, -0.140658, -0.140658, -0.140658, -0.140728, -0.140728, -0.140728, -0.140728, -0.140728, -0.140798, -0.140798, -0.140798, -0.140798, -0.140836, -0.140836, -0.140836, -0.140836, -0.140917, -0.140917, -0.141003, -0.141003, -0.141003, -0.141044, -0.141044, -0.141044, -0.141044, -0.141121, -0.141121, -0.141121, -0.141121, -0.141121, -0.141121, -0.141121, -0.141211, -0.141211, -0.141211, -0.141211, -0.141211, -0.141211, -0.141211, -0.141211, -0.141211, -0.141267, -0.141267, -0.141267, -0.141267, -0.141267]\n"
     ]
    }
   ],
   "source": [
    "cam_lats = []\n",
    "cam_lons = []\n",
    "with open('./detection_input_paper.csv','r') as f:\n",
    "    reader = csv.DictReader(f)\n",
    "    for row in reader:\n",
    "        cam_lats.append(float(row['lat']))\n",
    "        cam_lons.append(float(row['lon']))\n",
    "print('cam_lats:',cam_lats,'\\ncam_lons:',cam_lons)"
   ]
  },
  {
   "cell_type": "code",
   "execution_count": 60,
   "metadata": {},
   "outputs": [],
   "source": [
    "initial_zoom = 12\n",
    "gmap = CustomGoogleMapPlotter(cam_lats[0], cam_lons[0], initial_zoom,\n",
    "                              map_type='satellite')\n",
    "gmap.scatter(cam_lats,cam_lons,alpha=0.5,c='red',marker=True)\n",
    "\n",
    "gmap.draw(\"paper_map.html\")"
   ]
  },
  {
   "cell_type": "code",
   "execution_count": null,
   "metadata": {},
   "outputs": [],
   "source": []
  }
 ],
 "metadata": {
  "kernelspec": {
   "display_name": "Python 3",
   "language": "python",
   "name": "python3"
  },
  "language_info": {
   "codemirror_mode": {
    "name": "ipython",
    "version": 3
   },
   "file_extension": ".py",
   "mimetype": "text/x-python",
   "name": "python",
   "nbconvert_exporter": "python",
   "pygments_lexer": "ipython3",
   "version": "3.7.3"
  }
 },
 "nbformat": 4,
 "nbformat_minor": 2
}
