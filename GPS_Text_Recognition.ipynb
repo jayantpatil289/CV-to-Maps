{
 "cells": [
  {
   "cell_type": "code",
   "execution_count": 1,
   "metadata": {},
   "outputs": [],
   "source": [
    "from PIL import Image, ImageOps\n",
    "import pytesseract"
   ]
  },
  {
   "cell_type": "code",
   "execution_count": 2,
   "metadata": {},
   "outputs": [],
   "source": [
    "import os\n",
    "import cv2"
   ]
  },
  {
   "cell_type": "code",
   "execution_count": 3,
   "metadata": {},
   "outputs": [],
   "source": [
    "import numpy as np\n",
    "import matplotlib.pyplot as plt\n",
    "%matplotlib inline"
   ]
  },
  {
   "cell_type": "code",
   "execution_count": 4,
   "metadata": {},
   "outputs": [],
   "source": [
    "import string"
   ]
  },
  {
   "cell_type": "code",
   "execution_count": 37,
   "metadata": {},
   "outputs": [],
   "source": [
    "import re"
   ]
  },
  {
   "cell_type": "code",
   "execution_count": 179,
   "metadata": {},
   "outputs": [],
   "source": [
    "import copy"
   ]
  },
  {
   "cell_type": "code",
   "execution_count": 428,
   "metadata": {},
   "outputs": [],
   "source": [
    "import json"
   ]
  },
  {
   "cell_type": "code",
   "execution_count": 4,
   "metadata": {},
   "outputs": [
    {
     "name": "stdout",
     "output_type": "stream",
     "text": [
      "###################frame46.jpg###################\n",
      "KISS Mol Roe\n",
      "W77? 02' 23.1\"\n",
      "###################frame47.jpg###################\n",
      "KIS eto Roe\n",
      "W77? 02' 23.1\"\n",
      "###################frame45.jpg###################\n",
      "KIS Mtoe\n",
      "W77? 02' 23.3\"\n",
      "###################frame44.jpg###################\n",
      "LIS aa oX oy at\n",
      "W77° 02' 24.2\"\n",
      "###################frame50.jpg###################\n",
      "KISS etl Roe\n",
      "W77° 02' 21.9\"\n",
      "###################frame40.jpg###################\n",
      "IRIS aa X aos\n",
      "77° 02' 30.9\"\n",
      "###################frame41.jpg###################\n",
      "RIS ea eto Ro\n",
      "W77? 02' 29.1\"\n",
      "###################frame43.jpg###################\n",
      "N38° 53' 57.5\"\n",
      "W77° 02' 25.8\"\n",
      "###################frame42.jpg###################\n",
      "DIS aatoX aol tb\n",
      "W77? 02' 27.3\"\n",
      "###################frame25.jpg###################\n",
      "N38° 54' 05.6\"\n",
      "77° 02' 49.9\"\n",
      "###################frame31.jpg###################\n",
      "KISS Uo\n",
      "W77° 02' 46.1\"\n",
      "###################frame30.jpg###################\n",
      "DIS aak oe da Oo\n",
      "W77° 02' 47.8\"\n",
      "###################frame24.jpg###################\n",
      "KIS aaher oO\n",
      "W77° 02' 51.6\"\n",
      "###################frame32.jpg###################\n",
      "KISS Ro\n",
      "W77° 02' 44.3\"\n",
      "###################frame26.jpg###################\n",
      "KIS ero\n",
      "77° 02' 49.1\"\n",
      "###################frame27.jpg###################\n",
      "DIS er\n",
      "Ya eal as\n",
      "###################frame33.jpg###################\n",
      "KT Sete OS eo\n",
      "Ya eal 7S Oe\n",
      "###################frame37.jpg###################\n",
      "Disha ol 108 sa\n",
      "W77? 02' 36.2\" |\n",
      "###################frame23.jpg###################\n",
      "KIS aer oo\n",
      "W77° 02' 53.3\"\n",
      "###################frame22.jpg###################\n",
      "KIS eaer\n",
      "W77° 02' 55.2\"\n",
      "###################frame36.jpg###################\n",
      "N38° 54' 01.6\"\n",
      "W77° 02' 38.2\" _\n",
      "###################frame34.jpg###################\n",
      "N38° 54' 02.8\" —\n",
      "A Ta aa Ye a\n",
      "###################frame35.jpg###################\n",
      "DIS aa or aaa\n",
      "A doa Oa 10)\n",
      "###################frame21.jpg###################\n",
      "KIS aater oe\n",
      "77° 02' 57.0\"\n",
      "###################frame38.jpg###################\n",
      "LTS oe Oa\n",
      "W77? 02' 34.2\"\n",
      "###################frame39.jpg###################\n",
      "LIS aaoX aos\n",
      "W77? 02' 32.4\"\n",
      "###################frame29.jpg###################\n",
      "KIS aaer oo\n",
      "a eal ato oe\n",
      "###################frame28.jpg###################\n",
      "KISS ec ao\n",
      "a eal at\n",
      "###################frame49.jpg###################\n",
      "N38° 53' 56.1\"\n",
      "W77°? 02' 22.1\"\n",
      "###################frame48.jpg###################\n",
      "DIS ack aol\n",
      "W77? 02' 22.9\"\n"
     ]
    }
   ],
   "source": [
    "indir = './txt_boxes/test/'\n",
    "for root, dirs, filenames in os.walk(indir):\n",
    "    for filename in filenames:\n",
    "        print('###################' + filename + '###################')\n",
    "        im = Image.open(indir + filename)\n",
    "        #region = crop_box(im)\n",
    "        #text = pytesseract.image_to_string(region, lang='eng', config='--oem 1 --psm 1') #oem 1 means Neural Nets LSTM engine\n",
    "        text = pytesseract.image_to_string(im, lang='eng')\n",
    "        print(text)"
   ]
  },
  {
   "cell_type": "code",
   "execution_count": 53,
   "metadata": {},
   "outputs": [
    {
     "name": "stdout",
     "output_type": "stream",
     "text": [
      "###################frame46.jpg###################\n",
      "N38° 53' 56.5\"\n",
      "###################frame47.jpg###################\n",
      "N38° 53' 56.5\"\n",
      "###################frame45.jpg###################\n",
      "N38° 53' 56.8\"\n",
      "###################frame44.jpg###################\n",
      "N38° §3' 57.1\"\n",
      "###################frame50.jpg###################\n",
      "N38° 53' 55.5\"\n",
      "###################frame40.jpg###################\n",
      "N38° 53' 59.1\"\n",
      "###################frame41.jpg###################\n",
      "N38° §3' 58.6\"\n",
      "###################frame43.jpg###################\n",
      "N38° 53' 57.5\"\n",
      "###################frame42.jpg###################\n",
      "N38° 53' 58.1\"\n",
      "###################frame25.jpg###################\n",
      "N38° 54' 05.6\"\n",
      "###################frame31.jpg###################\n",
      "N38° 54' 04.6\"\n",
      "###################frame30.jpg###################\n",
      "N38° 54' 05.1\"\n",
      "###################frame24.jpg###################\n",
      "N38° 54' 06.0\"\n",
      "###################frame32.jpg###################\n",
      "N38° 54' 03.9\"\n",
      "###################frame26.jpg###################\n",
      "N38° 54' 05.4\"\n",
      "###################frame27.jpg###################\n",
      "N38° 54' 05.4\"\n",
      "###################frame33.jpg###################\n",
      "N38? 54' 03.3\"\n",
      "###################frame37.jpg###################\n",
      "N38° 54' 00.8\"\n",
      "###################frame23.jpg###################\n",
      "N38° 54' 06.5\"\n",
      "###################frame22.jpg###################\n",
      "N38° 54' 07.0\"\n",
      "###################frame36.jpg###################\n",
      "N38° 54' 01.6\"\n",
      "###################frame34.jpg###################\n",
      "N38° 54' 02.8\"\n",
      "###################frame35.jpg###################\n",
      "N38° 54' 02.2\"\n",
      "###################frame21.jpg###################\n",
      "N38° 54' 07.6\"\n",
      "###################frame38.jpg###################\n",
      "N38° 54' 00.2\"\n",
      "###################frame39.jpg###################\n",
      "N38° 53' 59.7\"\n",
      "###################frame29.jpg###################\n",
      "N38° 54' 05.3\"\n",
      "###################frame28.jpg###################\n",
      "N38° 54' 05.4\"\n",
      "###################frame49.jpg###################\n",
      "N38° 53' 56.1\"\n",
      "###################frame48.jpg###################\n",
      "N38° §3' 56.4\" *\n"
     ]
    }
   ],
   "source": [
    "indir = './txt_boxes/test/'\n",
    "for root, dirs, filenames in os.walk(indir):\n",
    "    for filename in filenames:\n",
    "        print('###################' + filename + '###################')\n",
    "        image = cv2.imread(indir + filename)\n",
    "        gray_image = cv2.cvtColor(image, cv2.COLOR_BGR2GRAY)\n",
    "        \n",
    "        result = cv2.threshold(gray_image,120,255,cv2.THRESH_BINARY)[1]\n",
    "        \n",
    "        #new_image = cv2.threshold(gray_image,190,255,cv2.THRESH_BINARY)[1]\n",
    "        #kernel = np.ones((1,1), np.uint8)\n",
    "        #result = cv2.dilate(new_image, kernel, iterations=1)\n",
    "        \n",
    "        result = cv2.bitwise_not(result)\n",
    "        \n",
    "        #im = Image.open(indir + filename)\n",
    "        #region = crop_box(im)\n",
    "        #text = pytesseract.image_to_string(region, lang='eng', config='--oem 1 --psm 1') #oem 1 means Neural Nets LSTM engine\n",
    "        \n",
    "        #plt.imshow(result, cmap='Greys')\n",
    "        #plt.show()\n",
    "        \n",
    "        text = pytesseract.image_to_string(result, lang='eng')\n",
    "        print(text.split('\\n')[0])"
   ]
  },
  {
   "cell_type": "code",
   "execution_count": 5,
   "metadata": {},
   "outputs": [
    {
     "name": "stdout",
     "output_type": "stream",
     "text": [
      "°\n"
     ]
    }
   ],
   "source": [
    "degree_sign = u'\\N{DEGREE SIGN}'\n",
    "print(degree_sign)"
   ]
  },
  {
   "cell_type": "code",
   "execution_count": 93,
   "metadata": {},
   "outputs": [
    {
     "name": "stdout",
     "output_type": "stream",
     "text": [
      "Loop counter:  100\n",
      "Loop counter:  200\n",
      "Loop counter:  300\n",
      "Loop counter:  400\n",
      "Loop counter:  500\n",
      "Loop counter:  600\n",
      "Loop counter:  700\n",
      "Loop counter:  800\n",
      "Loop counter:  900\n",
      "Loop counter:  1000\n",
      "Loop counter:  1100\n",
      "Loop counter:  1200\n",
      "Loop counter:  1300\n",
      "Loop counter:  1400\n",
      "Loop counter:  1500\n",
      "Loop counter:  1600\n",
      "Loop counter:  1700\n",
      "Loop counter:  1800\n",
      "Loop counter:  1900\n",
      "Loop counter:  2000\n",
      "Loop counter:  2100\n",
      "Loop counter:  2200\n",
      "Loop counter:  2300\n",
      "Loop counter:  2400\n",
      "Loop counter:  2500\n",
      "Loop counter:  2600\n",
      "Loop counter:  2700\n",
      "Loop counter:  2800\n",
      "Loop counter:  2900\n",
      "Loop counter:  3000\n",
      "Loop counter:  3100\n",
      "Loop counter:  3200\n",
      "Loop counter:  3300\n",
      "Loop counter:  3400\n",
      "Loop counter:  3500\n",
      "Loop counter:  3600\n",
      "Loop counter:  3700\n",
      "Loop counter:  3800\n",
      "Loop counter:  3900\n",
      "Loop counter:  4000\n",
      "Loop counter:  4100\n",
      "Loop counter:  4200\n",
      "Loop counter:  4300\n",
      "Loop counter:  4400\n",
      "Loop counter:  4500\n",
      "Loop counter:  4600\n",
      "Loop counter:  4700\n",
      "Loop counter:  4800\n",
      "Loop counter:  4900\n",
      "Loop counter:  5000\n",
      "Loop counter:  5100\n",
      "Loop counter:  5200\n",
      "Loop counter:  5300\n",
      "Loop counter:  5400\n",
      "Loop counter:  5500\n",
      "Loop counter:  5600\n",
      "Loop counter:  5700\n",
      "Loop counter:  5800\n",
      "Loop counter:  5900\n",
      "Loop counter:  6000\n",
      "Loop counter:  6100\n",
      "Loop counter:  6200\n",
      "Loop counter:  6300\n",
      "Loop counter:  6400\n",
      "Loop counter:  6500\n",
      "Loop counter:  6600\n",
      "Loop counter:  6700\n",
      "Loop counter:  6800\n",
      "Loop counter:  6900\n",
      "Loop counter:  7000\n",
      "Loop counter:  7100\n",
      "Loop counter:  7200\n",
      "Loop counter:  7300\n",
      "Loop counter:  7400\n",
      "Loop counter:  7500\n",
      "Loop counter:  7600\n",
      "Loop counter:  7700\n",
      "Loop counter:  7800\n",
      "Loop counter:  7900\n",
      "Loop counter:  8000\n",
      "Loop counter:  8100\n",
      "Loop counter:  8200\n",
      "Loop counter:  8300\n",
      "Loop counter:  8400\n",
      "Loop counter:  8500\n",
      "Loop counter:  8600\n",
      "Loop counter:  8700\n",
      "Loop counter:  8800\n",
      "Loop counter:  8900\n",
      "Loop counter:  9000\n",
      "Loop counter:  9100\n",
      "Loop counter:  9200\n",
      "Loop counter:  9300\n",
      "Loop counter:  9400\n",
      "Loop counter:  9500\n",
      "Loop counter:  9600\n",
      "Loop counter:  9700\n",
      "Loop counter:  9800\n",
      "Loop counter:  9900\n",
      "Loop counter:  10000\n",
      "Loop counter:  10100\n",
      "Loop counter:  10200\n",
      "Loop counter:  10300\n",
      "Loop counter:  10400\n",
      "Loop counter:  10500\n",
      "Loop counter:  10600\n",
      "Loop counter:  10700\n",
      "Loop counter:  10800\n",
      "Loop counter:  10900\n",
      "Loop counter:  11000\n",
      "Loop counter:  11100\n",
      "Loop counter:  11200\n",
      "Loop counter:  11300\n",
      "Loop counter:  11400\n",
      "Loop counter:  11500\n",
      "Loop counter:  11600\n",
      "Loop counter:  11700\n",
      "Loop counter:  11800\n",
      "Loop counter:  11900\n",
      "Loop counter:  12000\n",
      "Loop counter:  12100\n",
      "Loop counter:  12200\n",
      "Loop counter:  12300\n",
      "Loop counter:  12400\n",
      "Loop counter:  12500\n",
      "Loop counter:  12600\n",
      "Loop counter:  12700\n",
      "Loop counter:  12800\n",
      "Loop counter:  12900\n",
      "Loop counter:  13000\n",
      "Loop counter:  13100\n",
      "Loop counter:  13200\n",
      "Loop counter:  13300\n",
      "Loop counter:  13400\n",
      "Loop counter:  13500\n",
      "Loop counter:  13600\n",
      "Loop counter:  13700\n",
      "Loop counter:  13800\n",
      "Loop counter:  13900\n",
      "Loop counter:  14000\n",
      "Loop counter:  14100\n",
      "Loop counter:  14200\n",
      "Loop counter:  14300\n",
      "Loop counter:  14400\n",
      "Loop counter:  14500\n",
      "Loop counter:  14600\n",
      "Loop counter:  14700\n",
      "Loop counter:  14800\n",
      "Loop counter:  14900\n",
      "Loop counter:  15000\n",
      "Loop counter:  15100\n",
      "Loop counter:  15200\n",
      "Loop counter:  15300\n",
      "Loop counter:  15400\n",
      "Loop counter:  15500\n",
      "Loop counter:  15600\n",
      "Loop counter:  15700\n",
      "Loop counter:  15800\n",
      "Loop counter:  15900\n",
      "Loop counter:  16000\n",
      "Loop counter:  16100\n",
      "Loop counter:  16200\n",
      "Loop counter:  16300\n",
      "Loop counter:  16400\n",
      "Loop counter:  16500\n",
      "Loop counter:  16600\n",
      "Loop counter:  16700\n",
      "Loop counter:  16800\n",
      "Loop counter:  16900\n",
      "Loop counter:  17000\n",
      "Loop counter:  17100\n",
      "Loop counter:  17200\n",
      "Loop counter:  17300\n",
      "Loop counter:  17400\n",
      "Loop counter:  17500\n",
      "Loop counter:  17600\n",
      "Loop counter:  17700\n",
      "Loop counter:  17800\n",
      "Loop counter:  17900\n",
      "Loop counter:  18000\n",
      "Loop counter:  18100\n",
      "Loop counter:  18200\n",
      "Loop counter:  18300\n",
      "Loop counter:  18400\n",
      "Loop counter:  18500\n",
      "Loop counter:  18600\n",
      "Loop counter:  18700\n",
      "Loop counter:  18800\n",
      "Loop counter:  18900\n",
      "Loop counter:  19000\n",
      "Loop counter:  19100\n",
      "Loop counter:  19200\n",
      "Loop counter:  19300\n",
      "Loop counter:  19400\n",
      "Loop counter:  19500\n",
      "Loop counter:  19600\n",
      "Loop counter:  19700\n",
      "Loop counter:  19800\n",
      "Loop counter:  19900\n",
      "Loop counter:  20000\n",
      "Loop counter:  20100\n",
      "Loop counter:  20200\n",
      "Loop counter:  20300\n",
      "Loop counter:  20400\n",
      "Loop counter:  20500\n",
      "Loop counter:  20600\n",
      "Loop counter:  20700\n",
      "Loop counter:  20800\n",
      "Loop counter:  20900\n",
      "Loop counter:  21000\n",
      "Loop counter:  21100\n",
      "Loop counter:  21200\n",
      "Loop counter:  21300\n",
      "Loop counter:  21400\n",
      "Loop counter:  21500\n",
      "Loop counter:  21600\n",
      "Loop counter:  21700\n",
      "Loop counter:  21800\n",
      "Loop counter:  21900\n",
      "Loop counter:  22000\n",
      "Loop counter:  22100\n",
      "Loop counter:  22200\n",
      "Loop counter:  22300\n",
      "Loop counter:  22400\n",
      "Loop counter:  22500\n",
      "Loop counter:  22600\n",
      "Loop counter:  22700\n",
      "Loop counter:  22800\n",
      "Loop counter:  22900\n",
      "Loop counter:  23000\n",
      "Loop counter:  23100\n",
      "Loop counter:  23200\n",
      "Loop counter:  23300\n",
      "Loop counter:  23400\n",
      "Loop counter:  23500\n",
      "Loop counter:  23600\n",
      "Loop counter:  23700\n",
      "Loop counter:  23800\n",
      "Loop counter:  23900\n",
      "Loop counter:  24000\n",
      "Loop counter:  24100\n",
      "Loop counter:  24200\n",
      "Loop counter:  24300\n",
      "Loop counter:  24400\n",
      "Loop counter:  24500\n",
      "Loop counter:  24600\n",
      "Loop counter:  24700\n",
      "Loop counter:  24800\n",
      "Loop counter:  24900\n",
      "Loop counter:  25000\n",
      "Loop counter:  25100\n",
      "Loop counter:  25200\n",
      "Loop counter:  25300\n",
      "Loop counter:  25400\n",
      "Loop counter:  25500\n",
      "Loop counter:  25600\n",
      "Loop counter:  25700\n",
      "Loop counter:  25800\n",
      "Loop counter:  25900\n",
      "Loop counter:  26000\n",
      "Loop counter:  26100\n",
      "Loop counter:  26200\n",
      "Loop counter:  26300\n",
      "Loop counter:  26400\n",
      "Loop counter:  26500\n",
      "Loop counter:  26600\n",
      "Loop counter:  26700\n",
      "Loop counter:  26800\n",
      "Loop counter:  26900\n",
      "Loop counter:  27000\n",
      "Loop counter:  27100\n",
      "Loop counter:  27200\n",
      "Loop counter:  27300\n",
      "Loop counter:  27400\n",
      "Loop counter:  27500\n",
      "Loop counter:  27600\n",
      "Loop counter:  27700\n",
      "Loop counter:  27800\n",
      "Loop counter:  27900\n",
      "Loop counter:  28000\n",
      "Loop counter:  28100\n",
      "Loop counter:  28200\n",
      "Loop counter:  28300\n",
      "Loop counter:  28400\n",
      "Loop counter:  28500\n",
      "Loop counter:  28600\n",
      "Loop counter:  28700\n",
      "Loop counter:  28800\n",
      "Loop counter:  28900\n",
      "Loop counter:  29000\n",
      "Loop counter:  29100\n",
      "Loop counter:  29200\n",
      "Loop counter:  29300\n",
      "Loop counter:  29400\n",
      "Loop counter:  29500\n",
      "Loop counter:  29600\n",
      "Loop counter:  29700\n",
      "Loop counter:  29800\n",
      "Loop counter:  29900\n",
      "Loop counter:  30000\n",
      "Loop counter:  30100\n",
      "Loop counter:  30200\n",
      "Loop counter:  30300\n",
      "Loop counter:  30400\n",
      "Loop counter:  30500\n",
      "Loop counter:  30600\n",
      "Loop counter:  30700\n",
      "Loop counter:  30800\n",
      "Loop counter:  30900\n",
      "Loop counter:  31000\n",
      "Loop counter:  31100\n",
      "Loop counter:  31200\n",
      "Loop counter:  31300\n",
      "Loop counter:  31400\n",
      "Loop counter:  31500\n",
      "Loop counter:  31600\n",
      "Loop counter:  31700\n",
      "Loop counter:  31800\n",
      "Loop counter:  31900\n",
      "Loop counter:  32000\n",
      "Loop counter:  32100\n",
      "Loop counter:  32200\n",
      "Loop counter:  32300\n",
      "Loop counter:  32400\n",
      "Loop counter:  32500\n",
      "Loop counter:  32600\n",
      "Loop counter:  32700\n",
      "Loop counter:  32800\n",
      "Loop counter:  32900\n",
      "Loop counter:  33000\n",
      "Loop counter:  33100\n",
      "Loop counter:  33200\n",
      "Loop counter:  33300\n",
      "Loop counter:  33400\n",
      "Loop counter:  33500\n",
      "Loop counter:  33600\n",
      "Loop counter:  33700\n",
      "Loop counter:  33800\n",
      "Loop counter:  33900\n",
      "Loop counter:  34000\n",
      "Loop counter:  34100\n",
      "Loop counter:  34200\n",
      "Loop counter:  34300\n",
      "Loop counter:  34400\n",
      "Loop counter:  34500\n",
      "Loop counter:  34600\n",
      "Loop counter:  34700\n",
      "Loop counter:  34800\n",
      "Loop counter:  34900\n",
      "Loop counter:  35000\n",
      "Loop counter:  35100\n",
      "Loop counter:  35200\n",
      "Loop counter:  35300\n",
      "Loop counter:  35400\n",
      "Loop counter:  35500\n",
      "Loop counter:  35600\n",
      "Loop counter:  35700\n",
      "Loop counter:  35800\n",
      "Loop counter:  35900\n",
      "Loop counter:  36000\n",
      "Loop counter:  36100\n",
      "Loop counter:  36200\n",
      "Loop counter:  36300\n",
      "Loop counter:  36400\n",
      "Loop counter:  36500\n",
      "Loop counter:  36600\n",
      "Loop counter:  36700\n",
      "Loop counter:  36800\n",
      "Loop counter:  36900\n",
      "Loop counter:  37000\n",
      "Loop counter:  37100\n",
      "Loop counter:  37200\n",
      "Loop counter:  37300\n",
      "Loop counter:  37400\n",
      "Loop counter:  37500\n",
      "Loop counter:  37600\n",
      "Loop counter:  37700\n",
      "Loop counter:  37800\n",
      "Loop counter:  37900\n",
      "Loop counter:  38000\n",
      "Loop counter:  38100\n",
      "Loop counter:  38200\n",
      "Loop counter:  38300\n",
      "Loop counter:  38400\n",
      "Loop counter:  38500\n",
      "Loop counter:  38600\n",
      "Loop counter:  38700\n",
      "Loop counter:  38800\n",
      "Loop counter:  38900\n",
      "Loop counter:  39000\n",
      "Loop counter:  39100\n",
      "Loop counter:  39200\n",
      "Loop counter:  39300\n",
      "Loop counter:  39400\n",
      "Loop counter:  39500\n"
     ]
    }
   ],
   "source": [
    "indir = './txt_boxes/gps_box/'\n",
    "\n",
    "image_dict = {}\n",
    "bad_lats = {}\n",
    "bad_lons = {}\n",
    "imgs_w_ie = []\n",
    "degree_sign = u'\\N{DEGREE SIGN}'\n",
    "remove = string.punctuation + string.ascii_uppercase + degree_sign + '’' + '”'\n",
    "remove = remove.replace(\".\", \"\") # don't remove periods\n",
    "\n",
    "def lat_txt_to_float(line, bad_lats, dict_key):\n",
    "    mod_string = line.translate({ord(char): None for char in remove})\n",
    "    #print(mod_string)\n",
    "    pattern = re.compile(\"(\\d{2}\\s\\d{2}\\s\\d{2}\\.\\d)\")\n",
    "    if not(re.match(pattern, mod_string)):\n",
    "        bad_lats[dict_key] = mod_string\n",
    "    else:\n",
    "        try:\n",
    "            return float(mod_string.split(' ')[0]) + float(mod_string.split(' ')[1])/60 + \\\n",
    "                     float(mod_string.split(' ')[2][:4])/3600\n",
    "        except ValueError as e:\n",
    "            raise ValueError(f\"Check image: {filename.split('/')[-1]}\") from e\n",
    "            \n",
    "def lon_txt_to_float(line, bad_lons, dict_key):\n",
    "    mod_string = line.translate({ord(char): None for char in remove})\n",
    "    #print(mod_string)\n",
    "    pattern = re.compile(\"(\\d{2,3}\\s\\d{2}\\s\\d{2}\\.\\d)\")\n",
    "    if not(re.match(pattern, mod_string)):\n",
    "        bad_lons[dict_key] = mod_string\n",
    "    else:\n",
    "        try:\n",
    "            return float(mod_string.split(' ')[0]) + float(mod_string.split(' ')[1])/60 + \\\n",
    "                     float(mod_string.split(' ')[2][:4])/3600\n",
    "        except ValueError as e:\n",
    "            raise ValueError(f\"Check image: {filename.split('/')[-1]}\") from e\n",
    "\n",
    "loop_counter = 0\n",
    "\n",
    "for entry in os.scandir(indir):\n",
    "    loop_counter += 1\n",
    "    if loop_counter % 100 == 0:\n",
    "        print(\"Loop counter: \", loop_counter)\n",
    "    GPS_dict = {}\n",
    "    filename = entry.path\n",
    "    #print('###################' + filename.split('/')[-1] + '###################')\n",
    "    image = cv2.imread(filename)\n",
    "    gray_image = cv2.cvtColor(image, cv2.COLOR_BGR2GRAY)\n",
    "\n",
    "    result = cv2.threshold(gray_image,120,255,cv2.THRESH_BINARY)[1]\n",
    "\n",
    "    #new_image = cv2.threshold(gray_image,190,255,cv2.THRESH_BINARY)[1]\n",
    "    #kernel = np.ones((1,1), np.uint8)\n",
    "    #result = cv2.dilate(new_image, kernel, iterations=1)\n",
    "\n",
    "    result = cv2.bitwise_not(result)\n",
    "\n",
    "    #im = Image.open(indir + filename)\n",
    "    #region = crop_box(im)\n",
    "    #text = pytesseract.image_to_string(region, lang='eng', config='--oem 1 --psm 1') #oem 1 means Neural Nets LSTM engine\n",
    "\n",
    "    #plt.imshow(result, cmap='Greys')\n",
    "    #plt.show()\n",
    "                             \n",
    "    #text = pytesseract.image_to_string(result, lang='eng', config='-c tessedit_char_whitelist=’WN0123456789.° --oem 0')\n",
    "    text = pytesseract.image_to_string(result, lang='eng', config=\"\"\"-c tessedit_char_whitelist=’WN0123456789.°\\\\'\\\\\" --oem 0\"\"\")\n",
    "    #text = pytesseract.image_to_string(result, lang='eng')\n",
    "    \n",
    "    dict_key = filename.split('/')[-1].split('.')[0]\n",
    "    \n",
    "    try:\n",
    "        GPS_dict['Lat'] = lat_txt_to_float(text.split('\\n')[0], bad_lats, dict_key)\n",
    "    except IndexError:\n",
    "        imgs_w_ie.append({dict_key:('Lat',text)})\n",
    "\n",
    "    try:\n",
    "        GPS_dict['Lon'] = lon_txt_to_float(text.split('\\n')[1], bad_lons, dict_key)\n",
    "    except IndexError:\n",
    "        imgs_w_ie.append({dict_key:('Lon',text)})\n",
    "    \n",
    "    image_dict[dict_key] = GPS_dict\n",
    "    \n",
    "    #print(text.split('\\n')[0])\n",
    "    \n",
    "#print(bad_lats)\n",
    "#print(bad_lons)"
   ]
  },
  {
   "cell_type": "code",
   "execution_count": 100,
   "metadata": {},
   "outputs": [
    {
     "data": {
      "text/plain": [
       "39524"
      ]
     },
     "execution_count": 100,
     "metadata": {},
     "output_type": "execute_result"
    }
   ],
   "source": [
    "len(image_dict)"
   ]
  },
  {
   "cell_type": "code",
   "execution_count": 94,
   "metadata": {},
   "outputs": [
    {
     "data": {
      "text/plain": [
       "5089"
      ]
     },
     "execution_count": 94,
     "metadata": {},
     "output_type": "execute_result"
    }
   ],
   "source": [
    "len(bad_lons)"
   ]
  },
  {
   "cell_type": "code",
   "execution_count": 139,
   "metadata": {},
   "outputs": [
    {
     "data": {
      "text/plain": [
       "{'frame28907': '111 42 21 .6',\n",
       " 'frame6817': '84 00 35. 2 3',\n",
       " 'frame14998': '94 35 51 .9',\n",
       " 'frame17249': '97 52 41 .3',\n",
       " 'frame19516': '1011128.8.',\n",
       " 'frame16625': '96 59 241',\n",
       " 'frame6195': '831052.5 .',\n",
       " 'frame39188': '122 09 01 .8',\n",
       " 'frame18146': '99 18 41 .6',\n",
       " 'frame13013': '91 41 58 4'}"
      ]
     },
     "execution_count": 139,
     "metadata": {},
     "output_type": "execute_result"
    }
   ],
   "source": [
    "#print a 10-sample of key-value pairs from bad_lons\n",
    "{k: v for i, (k,v) in enumerate(dict((k, bad_lons[k]) for k in bad_lons.keys()).items()) if i < 10}"
   ]
  },
  {
   "cell_type": "code",
   "execution_count": 140,
   "metadata": {},
   "outputs": [
    {
     "data": {
      "text/plain": [
       "{'frame30190': '41  50 43.0',\n",
       " 'frame8184': '3815 00.1 5',\n",
       " 'frame6817': '38 04 03. 7  .',\n",
       " 'frame10532': '38 19 01 .0',\n",
       " 'frame25589': '4010 21.1',\n",
       " 'frame13985': '38 57 31 .0',\n",
       " 'frame30184': '41  50 18.6',\n",
       " 'frame3953': '37 43 51 .8',\n",
       " 'frame13013': '38 54 41 .5',\n",
       " 'frame24867': '39 4113.5 '}"
      ]
     },
     "execution_count": 140,
     "metadata": {},
     "output_type": "execute_result"
    }
   ],
   "source": [
    "#print a 10-sample of key-value pairs from bad_lats\n",
    "{k: v for i, (k,v) in enumerate(dict((k, bad_lats[k]) for k in bad_lats.keys()).items()) if i < 10}"
   ]
  },
  {
   "cell_type": "code",
   "execution_count": 95,
   "metadata": {},
   "outputs": [
    {
     "data": {
      "text/plain": [
       "2075"
      ]
     },
     "execution_count": 95,
     "metadata": {},
     "output_type": "execute_result"
    }
   ],
   "source": [
    "len(bad_lats)"
   ]
  },
  {
   "cell_type": "code",
   "execution_count": 101,
   "metadata": {},
   "outputs": [
    {
     "data": {
      "text/plain": [
       "486"
      ]
     },
     "execution_count": 101,
     "metadata": {},
     "output_type": "execute_result"
    }
   ],
   "source": [
    "#how many frames have both poorly OCR'd latitude and longitude values\n",
    "len(bad_lats.keys() & bad_lons.keys())"
   ]
  },
  {
   "cell_type": "code",
   "execution_count": 103,
   "metadata": {},
   "outputs": [
    {
     "data": {
      "text/plain": [
       "2075"
      ]
     },
     "execution_count": 103,
     "metadata": {},
     "output_type": "execute_result"
    }
   ],
   "source": [
    "len(image_dict.keys() & bad_lats.keys())"
   ]
  },
  {
   "cell_type": "code",
   "execution_count": 104,
   "metadata": {},
   "outputs": [
    {
     "data": {
      "text/plain": [
       "5089"
      ]
     },
     "execution_count": 104,
     "metadata": {},
     "output_type": "execute_result"
    }
   ],
   "source": [
    "len(image_dict.keys() & bad_lons.keys())"
   ]
  },
  {
   "cell_type": "code",
   "execution_count": 121,
   "metadata": {},
   "outputs": [
    {
     "data": {
      "text/plain": [
       "2075"
      ]
     },
     "execution_count": 121,
     "metadata": {},
     "output_type": "execute_result"
    }
   ],
   "source": [
    "#size of dictionary containing key-value pairs from image_dict for keys that are also found in bad_lats dictionary\n",
    "len(dict((k, image_dict[k]) for k in (image_dict.keys() & bad_lats.keys())))"
   ]
  },
  {
   "cell_type": "code",
   "execution_count": 117,
   "metadata": {},
   "outputs": [
    {
     "data": {
      "text/plain": [
       "{'frame8359': {'Lat': None, 'Lon': 85.89155555555556},\n",
       " 'frame6845': {'Lat': None, 'Lon': 84.04952777777778},\n",
       " 'frame7862': {'Lat': None, 'Lon': 85.25738888888888},\n",
       " 'frame32668': {'Lat': None, 'Lon': 115.90894444444444},\n",
       " 'frame467': {'Lat': None, 'Lon': 77.46622222222223},\n",
       " 'frame36963': {'Lat': None, 'Lon': None},\n",
       " 'frame24656': {'Lat': None, 'Lon': 107.78122222222223},\n",
       " 'frame6392': {'Lat': None, 'Lon': 83.43738888888889},\n",
       " 'frame9776': {'Lat': None, 'Lon': 87.869},\n",
       " 'frame5612': {'Lat': None, 'Lon': 82.36247222222222}}"
      ]
     },
     "execution_count": 117,
     "metadata": {},
     "output_type": "execute_result"
    }
   ],
   "source": [
    "#print a 10-sample of key-value pairs from image_dict for keys that are also found in bad_lats dictionary\n",
    "{k: v for i, (k,v) in enumerate(dict((k, image_dict[k]) for k in (image_dict.keys() & bad_lats.keys())).items()) if i < 10}"
   ]
  },
  {
   "cell_type": "code",
   "execution_count": 136,
   "metadata": {},
   "outputs": [
    {
     "name": "stdout",
     "output_type": "stream",
     "text": [
      "Only Lat none: 1571 \n",
      "Only Lon none: 4603 \n",
      "Both none: 486\n"
     ]
    }
   ],
   "source": [
    "n_none_lats, n_none_lons, n_none_both = (0,0,0)\n",
    "#subset image_dict to frames that are NOT found in imgs_w_ie list of dictionaries\n",
    "missing_keys = set().union(*(d.keys() for d in imgs_w_ie))\n",
    "image_dict_rstr = dict((k, image_dict[k]) for k in (image_dict.keys() - missing_keys))\n",
    "#count frames in image_dict that have None values in one or both of Lat and Lon\n",
    "for gps_dict in image_dict_rstr.values():\n",
    "    if (gps_dict['Lat'] is None) & (gps_dict['Lon'] is None):\n",
    "        n_none_both += 1\n",
    "    elif gps_dict['Lat'] is None:\n",
    "        n_none_lats += 1\n",
    "    elif gps_dict['Lon'] is None:\n",
    "        n_none_lons += 1\n",
    "print(\"Only Lat none:\", n_none_lats, \"\\nOnly Lon none:\", n_none_lons, \"\\nBoth none:\", n_none_both)"
   ]
  },
  {
   "cell_type": "code",
   "execution_count": 137,
   "metadata": {},
   "outputs": [
    {
     "data": {
      "text/plain": [
       "39506"
      ]
     },
     "execution_count": 137,
     "metadata": {},
     "output_type": "execute_result"
    }
   ],
   "source": [
    "len(image_dict_rstr)"
   ]
  },
  {
   "cell_type": "code",
   "execution_count": 138,
   "metadata": {},
   "outputs": [
    {
     "data": {
      "text/plain": [
       "2057"
      ]
     },
     "execution_count": 138,
     "metadata": {},
     "output_type": "execute_result"
    }
   ],
   "source": [
    "#subset bad_lats dictionary to frames that are NOT found in imgs_w_ie list of dictionaries\n",
    "missing_keys = set().union(*(d.keys() for d in imgs_w_ie))\n",
    "bad_lats_rstr = dict((k, image_dict[k]) for k in (bad_lats.keys() - missing_keys))\n",
    "len(bad_lats_rstr)"
   ]
  },
  {
   "cell_type": "code",
   "execution_count": 96,
   "metadata": {},
   "outputs": [
    {
     "name": "stdout",
     "output_type": "stream",
     "text": [
      "{7: 1757, 8: 274, 9: 11, 5: 3, 1: 6, 0: 20, 6: 3, 4: 1}\n"
     ]
    }
   ],
   "source": [
    "lat_n_digits = {}\n",
    "for value in bad_lats.values():\n",
    "    n_digits = sum(c.isdigit() for c in value)\n",
    "    if n_digits not in lat_n_digits:\n",
    "        lat_n_digits[n_digits] = 1\n",
    "    else:\n",
    "        lat_n_digits[n_digits] += 1\n",
    "print(lat_n_digits)"
   ]
  },
  {
   "cell_type": "code",
   "execution_count": 87,
   "metadata": {},
   "outputs": [
    {
     "name": "stdout",
     "output_type": "stream",
     "text": [
      "frame12124 , 38 381371 1\n",
      "frame147 , 1\n",
      "frame37987 , 47 0145.41 5\n",
      "frame4623 , 38 130211 1\n",
      "frame8151 , 381419.5 5 1\n",
      "frame2108 , 38 03 2411 1\n",
      "frame9470 , 38 10 2570 3\n",
      "frame8961 , 38 124941 1\n",
      "frame22008 , \n",
      "frame5473 , 38 25 1\n",
      "frame8619 , 38 143013 1\n",
      "frame39538 , \n",
      "frame39539 , \n",
      "frame39103 , 47 331177 5\n",
      "frame22735 , 1\n",
      "frame5589 , 38 251911 1\n",
      "frame3271 , 37 47 15. \n",
      "frame652 , \n",
      "frame39529 , \n",
      "frame39531 , \n",
      "frame5541 , 38 24 58 \n",
      "frame39530 , \n",
      "frame12010 , \n",
      "frame39532 , \n",
      "frame29292 , 7\n",
      "frame39533 , \n",
      "frame9755 , 38 11 33 01 1\n",
      "frame39537 , \n",
      "frame39536 , \n",
      "frame8128 , 38114010.0\n",
      "frame39534 , \n",
      "frame39051 , 47 32 173.4 3\n",
      "frame39535 , \n",
      "frame4288 , 1\n",
      "frame4370 , 38 05 \n",
      "frame24884 , 39 42 010.0 1 \n",
      "frame4373 ,  05 58.8\n",
      "frame39021 , 47 32 419. 5 5\n",
      "frame4428 , 38 06 51 .0 11\n",
      "frame3347 , 4\n",
      "frame39544 , \n",
      "frame4362 , 38 051773  1\n",
      "frame4438 , 3807 28.7 51\n",
      "frame38138 , 47 034 22. 54 5\n",
      "frame39540 , \n",
      "frame23914 , 39 39 010.0 5\n",
      "frame39541 , \n",
      "frame5484 , 38 25 00.  .\n",
      "frame39543 , \n",
      "frame39542 , \n",
      "frame23297 , 39 33 4 1\n"
     ]
    }
   ],
   "source": [
    "for key, value in bad_lats.items():\n",
    "    if sum(c.isdigit() for c in value) not in (7,8):\n",
    "        print(key, ',', value)"
   ]
  },
  {
   "cell_type": "code",
   "execution_count": 97,
   "metadata": {},
   "outputs": [
    {
     "name": "stdout",
     "output_type": "stream",
     "text": [
      "{8: 2769, 7: 1912, 10: 16, 5: 8, 9: 154, 0: 157, 6: 72, 11: 1}\n"
     ]
    }
   ],
   "source": [
    "lon_n_digits = {}\n",
    "for value in bad_lons.values():\n",
    "    n_digits = sum(c.isdigit() for c in value)\n",
    "    if n_digits not in lon_n_digits:\n",
    "        lon_n_digits[n_digits] = 1\n",
    "    else:\n",
    "        lon_n_digits[n_digits] += 1\n",
    "print(lon_n_digits)"
   ]
  },
  {
   "cell_type": "code",
   "execution_count": 98,
   "metadata": {},
   "outputs": [
    {
     "name": "stdout",
     "output_type": "stream",
     "text": [
      "{'8, starts with 1': 2454, '8, starts with other': 315}\n"
     ]
    }
   ],
   "source": [
    "lon_8_digits = {'8, starts with 1': 0, '8, starts with other': 0}\n",
    "for value in bad_lons.values():\n",
    "    n_digits = sum(c.isdigit() for c in value)\n",
    "    if n_digits == 8:\n",
    "        first_digit_1 = (value[0] == '1')\n",
    "        if first_digit_1:\n",
    "            lon_8_digits['8, starts with 1'] += 1\n",
    "        else:\n",
    "            lon_8_digits['8, starts with other'] += 1\n",
    "print(lon_8_digits)"
   ]
  },
  {
   "cell_type": "code",
   "execution_count": 92,
   "metadata": {},
   "outputs": [
    {
     "name": "stdout",
     "output_type": "stream",
     "text": [
      "frame36536 , 1191431.81\n",
      "frame22543 , 105 25 3515\n",
      "frame38916 , 121 491832\n",
      "frame36873 , 119 44 2313\n",
      "frame22351 , 1051118.61\n",
      "frame36324 , 1191815.31\n",
      "frame36325 , 1191810.05\n",
      "frame7671 , 85 001774 1\n",
      "frame19661 , 101 25.12.33\n",
      "frame38877 , 121  46 27.6.1\n",
      "frame19932 , 101 5213.33\n",
      "frame20380 , 102 3410.03\n",
      "frame19663 , 101  25 24.31\n",
      "frame38861 , 121 44. 47.94\n",
      "frame39202 , 122 09. 50.41\n",
      "frame38450 , 12116 23.77\n",
      "frame38322 , 121 05 010.0.\n",
      "frame27564 , 110 23. 54.41\n",
      "frame25400 , 108 12 010.0\n",
      "frame24087 , 107 11.21.87\n",
      "frame37560 , 120 28 3251\n",
      "frame39217 , 122 100311\n",
      "frame19662 , 101 2918.31\n",
      "frame28246 , 11115 24.65\n",
      "frame19058 , 100 41 08 31\n",
      "frame38531 , 121 21  13.01\n",
      "frame24124 , 107 13. 25.71\n",
      "frame19276 , 100 54 010.0\n",
      "frame20420 , 102 33. 40.21\n",
      "frame28256 , 11115 39.21\n",
      "frame19666 , 101 25. 42.33\n",
      "frame36336 , 1191710.21\n",
      "frame39010 , 121 57. 03.51\n",
      "frame22418 , 105 1558.41\n",
      "frame35414 , 118 27. 52.03\n",
      "frame27819 , 110 45. 02.71\n",
      "frame18828 , 100 1335.01\n",
      "frame28080 , 111 0917.82\n",
      "frame31512 , 114 1628.31\n",
      "frame36269 , 1191955.22\n",
      "frame24123 , 10713 24.12\n",
      "frame27172 , 109 59. 20.21\n",
      "frame28269 , 111 15139. 7\n",
      "frame35238 , 1181831.34\n",
      "frame20782 , 103 13. 52.13\n",
      "frame19665 , 101 253631\n",
      "frame39238 , 122 10. 25.55\n",
      "frame21463 , 104 02 010.0\n",
      "frame23248 , 106 12. 16.71\n",
      "frame24043 , 107 09. 0221\n",
      "frame4355 , 81 22 5540 1\n",
      "frame19880 , 101 4712.11\n",
      "frame27601 , 110 2616.55\n",
      "frame23473 , 106 24 31 .7 5\n",
      "frame37823 , 120 26 4843\n",
      "frame6109 , 83 0314.11 1\n",
      "frame34342 , 117 33 010.0\n",
      "frame39128 , 122 06 2747\n",
      "frame19987 , 101 5614.81\n",
      "frame23366 , 106 16 4544\n",
      "frame25071 , 107 5713.14\n",
      "frame33983 , 117 16 010.0\n",
      "frame19429 , 101 041321\n",
      "frame36353 , 119 15. 33.23\n",
      "frame27510 , 110 2013.51\n",
      "frame36346 , 1191614.21\n",
      "frame29064 , 111 54 0631\n",
      "frame20915 , 103 2710.41\n",
      "frame39459 , 122 160215\n",
      "frame35277 , 1 18 20 50.41\n",
      "frame28226 , 111 1901.21\n",
      "frame30455 , 112 50. 07.21\n",
      "frame24391 , 107 31 3846\n",
      "frame4084 , 81 1504.11 1\n",
      "frame24436 , 107 35 010.0\n",
      "frame27895 , 110 5113.11\n",
      "frame20042 , 102 0113.51\n",
      "frame38619 , 1217 24 34.6\n",
      "frame24218 , 107 13. 42.61\n",
      "frame25310 , 108 06 4145\n",
      "frame35314 , 118 22. 42.15\n",
      "frame38181 , 120 52 14 11\n",
      "frame19167 , 100 5020.81\n",
      "frame38988 , 121 55 27. 81\n",
      "frame19985 , 101 5902.81\n",
      "frame20692 , 103 04.54.11\n",
      "frame19573 , 1011710.21\n",
      "frame19215 , 100 52 010.0\n",
      "frame19956 , 10154 33.11\n",
      "frame34973 , 118 00. 43.21\n",
      "frame35310 , 1 18 22 3951\n",
      "frame38620 , 1217 24 34.1\n",
      "frame20047 , 102 02. 13.4 1\n",
      "frame38392 , 1211116.63\n",
      "frame31639 , 114 27. 48.01\n",
      "frame20046 , 102 02. 07.41\n",
      "frame35477 , 118 3019.31\n",
      "frame28340 , 11118 09.51\n",
      "frame38184 , 120 523113\n",
      "frame20668 , 103 02.32.1 1\n",
      "frame38966 , 121 53. 41.53\n",
      "frame23836 , 106 51 45. 0 1.\n",
      "frame23411 , 106 192631\n",
      "frame20050 , 102 02. 31.51\n",
      "frame23968 , 107 0415.01\n",
      "frame35688 , 118 42. 55.21\n",
      "frame24785 , 107 5118.51\n",
      "frame36343 , 1191631.31\n",
      "frame24035 , 107 08 3221\n",
      "frame37075 , 120 02 310.4\n",
      "frame19149 , 100 4920.31\n",
      "frame8336 , 85 514442 1\n",
      "frame27138 , 109 5923.31\n",
      "frame35266 , 118 20 21 .31\n",
      "frame25263 , 108 0325.61\n",
      "frame24831 , 107 53. 37.23\n",
      "frame36010 , 1191311.02\n",
      "frame19839 , 101  42 57.41\n",
      "frame19434 , 101 0413.21\n",
      "frame24005 , 107 06 5247\n",
      "frame28367 , 11119 39.77\n",
      "frame35450 , 118 27. 52.11\n",
      "frame33035 , 116 2113.91\n",
      "frame38148 , 120 49 013.0\n",
      "frame39242 , 122 117 41.8\n",
      "frame33009 , 1161921.41\n",
      "frame24373 , 107 30 010.0\n",
      "frame19958 , 101 54. 42.61\n",
      "frame39108 , 122 05 0161\n",
      "frame24171 , 107 15 5121\n",
      "frame38599 , 121 24 010.0\n",
      "frame35718 , 118 45 5032\n",
      "frame26980 , 109 45 51 .71\n",
      "frame11335 , 90 024 24. 94\n",
      "frame34189 , 117 23 010.0\n",
      "frame28205 , 1111333.81\n",
      "frame28198 , 1111300.51\n",
      "frame19422 , 101 03. 31.23\n",
      "frame27645 , 110 300311\n",
      "frame38995 , 121 56 01 .37\n",
      "frame38956 , 121 52. 44.91\n",
      "frame19754 , 101 3419.01\n",
      "frame32066 , 115 04. 15.41\n",
      "frame38749 , 121  35 09.11.\n",
      "frame19618 , 101 211654\n",
      "frame27912 , 110 523811\n",
      "frame35331 , 118 233131\n",
      "frame38371 , 121 0952.71\n",
      "frame24002 , 107 06 4049\n",
      "frame27278 , 110 04 03. 2  1\n",
      "frame19396 , 101 0118.91\n",
      "frame29269 , 111 5328.31\n",
      "frame35640 , 1184101.91\n",
      "frame19433 , 101 0417.33\n",
      "frame38172 , 120 5110.01\n",
      "frame35330 , 118 23. 28.81\n",
      "frame19792 , 1013816.41\n",
      "frame19989 , 101 5616.84\n",
      "frame26774 , 109 33. 45.73\n",
      "frame19221 , 10052 10.11\n",
      "frame19223 , 100 5211.55\n",
      "frame27911 , 110 52 35. 01\n",
      "frame35326 , 118 23 15 73\n",
      "frame23975 , 107 0501.01\n",
      "frame19425 , 101  03 49.31\n",
      "frame23752 , 106 44 40. 81\n",
      "frame28148 , 11110 010.0\n",
      "frame38398 , 1211140.41\n",
      "frame27284 , 110 04 03. 24\n",
      "frame38830 , 121  42 09.71\n",
      "frame27910 , 110 52 31. 31\n",
      "frame27086 , 109 5415.91\n",
      "frame21568 , 104 0915.13\n",
      "frame28202 , 1111319.21\n",
      "frame35253 , 118 19.34.17\n",
      "frame22562 , 105 261031\n",
      "frame38274 , 121 0054.91\n",
      "frame31522 , 1141718.81\n",
      "frame27630 , 110 28 5342\n",
      "frame19899 , 101 4956.01\n",
      "frame38857 , 121 4415.93\n",
      "frame19641 , 101 23.14.01\n",
      "frame22172 , 104 5919.11\n",
      "frame27591 , 110 25 2211\n",
      "frame24067 , 107 10.21.31\n",
      "frame38315 , 121 0410.11\n",
      "frame19683 , 101 2713.94\n",
      "frame19697 , 101  28 47.81\n",
      "frame18825 , 100 1319.51\n",
      "frame31521 , 1141713.71\n",
      "frame39169 , 122 03. 23.0 1\n",
      "frame39380 , 122 19. 17.93\n",
      "frame19911 , 101  50 07.61\n",
      "frame19642 , 101 23.19.13\n",
      "frame36110 , 119 22. 57.71\n",
      "frame39223 , 122 10 0513\n",
      "frame29018 , 111 50.15.21\n",
      "frame35425 , 118 27. 34.71.\n",
      "frame28312 , 11117 35.51\n",
      "frame25421 , 108 13. 47.11\n",
      "frame38896 , 121 4717.53\n",
      "frame23285 , 106 13. 23.21\n",
      "frame38855 , 121 441611\n",
      "frame37353 , 120 25 01 .41\n",
      "frame36918 , 119 43. 27.27\n",
      "frame26048 , 108 54. 02.71\n",
      "frame39140 , 122 07. 21.1 1\n",
      "frame20159 , 102 1311.71\n",
      "frame29155 , 111 55 1041\n",
      "frame29790 , 112 0311.6 2\n",
      "frame19690 , 101  2306.01\n",
      "frame23054 , 106 030213\n",
      "frame39018 , 121 57. 48.85\n",
      "frame19450 , 101 0618.91\n",
      "frame27019 , 109 49. 21.24\n",
      "frame19691 , 101 2811.91\n",
      "frame19652 , 101 2418.41\n",
      "frame19901 , 101  49 08.21\n",
      "frame19526 , 10112 28.51\n",
      "frame19532 , 101 1304.51\n",
      "frame28937 , 111 44 3111\n",
      "frame22573 , 105 270415\n",
      "frame27812 , 110 4415.51\n",
      "frame27147 , 109 58 47. 21\n",
      "frame39026 , 121758 31 .3\n",
      "frame3143 , 80 15 010.05\n",
      "frame26516 , 109 21. 34.51\n",
      "frame27146 , 109 58 44. 31\n",
      "frame39378 , 122 1916.41\n",
      "frame19902 , 101 4914.04\n",
      "frame12658 , 9110 55.1 31\n",
      "frame23491 , 106 25. 38.25\n"
     ]
    }
   ],
   "source": [
    "for key, value in bad_lons.items():\n",
    "    if sum(c.isdigit() for c in value) == 9:\n",
    "        print(key, ',', value)"
   ]
  },
  {
   "cell_type": "code",
   "execution_count": 99,
   "metadata": {},
   "outputs": [
    {
     "data": {
      "text/plain": [
       "18"
      ]
     },
     "execution_count": 99,
     "metadata": {},
     "output_type": "execute_result"
    }
   ],
   "source": [
    "len(imgs_w_ie)"
   ]
  },
  {
   "cell_type": "code",
   "execution_count": 76,
   "metadata": {},
   "outputs": [
    {
     "data": {
      "text/plain": [
       "[{'frame22008': ('Lon', '')},\n",
       " {'frame39538': ('Lon', '')},\n",
       " {'frame39539': ('Lon', '')},\n",
       " {'frame39529': ('Lon', '')},\n",
       " {'frame39531': ('Lon', '')},\n",
       " {'frame39530': ('Lon', '')},\n",
       " {'frame12010': ('Lon', '')},\n",
       " {'frame39532': ('Lon', '')},\n",
       " {'frame39533': ('Lon', '')},\n",
       " {'frame39537': ('Lon', '')},\n",
       " {'frame39536': ('Lon', '')},\n",
       " {'frame39534': ('Lon', '')},\n",
       " {'frame39535': ('Lon', '')},\n",
       " {'frame39544': ('Lon', '')},\n",
       " {'frame39540': ('Lon', '')},\n",
       " {'frame39541': ('Lon', '')},\n",
       " {'frame39543': ('Lon', '')},\n",
       " {'frame39542': ('Lon', '')}]"
      ]
     },
     "execution_count": 76,
     "metadata": {},
     "output_type": "execute_result"
    }
   ],
   "source": [
    "imgs_w_ie"
   ]
  },
  {
   "cell_type": "code",
   "execution_count": 127,
   "metadata": {},
   "outputs": [],
   "source": [
    "#extract keys of all dictionaries present in imgs_w_ie list of dictionaries\n",
    "all_keys = set().union(*(d.keys() for d in imgs_w_ie))"
   ]
  },
  {
   "cell_type": "code",
   "execution_count": 128,
   "metadata": {},
   "outputs": [
    {
     "data": {
      "text/plain": [
       "{'frame12010',\n",
       " 'frame22008',\n",
       " 'frame39529',\n",
       " 'frame39530',\n",
       " 'frame39531',\n",
       " 'frame39532',\n",
       " 'frame39533',\n",
       " 'frame39534',\n",
       " 'frame39535',\n",
       " 'frame39536',\n",
       " 'frame39537',\n",
       " 'frame39538',\n",
       " 'frame39539',\n",
       " 'frame39540',\n",
       " 'frame39541',\n",
       " 'frame39542',\n",
       " 'frame39543',\n",
       " 'frame39544'}"
      ]
     },
     "execution_count": 128,
     "metadata": {},
     "output_type": "execute_result"
    }
   ],
   "source": [
    "all_keys"
   ]
  },
  {
   "cell_type": "code",
   "execution_count": 38,
   "metadata": {},
   "outputs": [],
   "source": [
    "pattern = re.compile(\"(\\d{2,3}\\s\\d{2}\\s\\d{2}\\.\\d)\")"
   ]
  },
  {
   "cell_type": "code",
   "execution_count": 46,
   "metadata": {},
   "outputs": [
    {
     "name": "stdout",
     "output_type": "stream",
     "text": [
      "yes\n"
     ]
    }
   ],
   "source": [
    "if re.match(pattern, '77 14 08.2'):\n",
    "    print(\"yes\")\n",
    "else:\n",
    "    print(\"no\")"
   ]
  },
  {
   "cell_type": "code",
   "execution_count": 51,
   "metadata": {},
   "outputs": [
    {
     "name": "stdout",
     "output_type": "stream",
     "text": [
      "no\n"
     ]
    }
   ],
   "source": [
    "if not(re.match(pattern, '77 14 08 2')):\n",
    "    print(\"no\")"
   ]
  },
  {
   "cell_type": "code",
   "execution_count": 48,
   "metadata": {},
   "outputs": [],
   "source": [
    "#dpi = im.info\n",
    "\n",
    "#indir = './frames_lmtd/'\n",
    "#im_full = Image.open(indir + 'frame40.jpg')\n",
    "\n",
    "#dpi = im_full.info['dpi']"
   ]
  },
  {
   "cell_type": "code",
   "execution_count": 106,
   "metadata": {},
   "outputs": [
    {
     "data": {
      "text/plain": [
       "{2: 39506, 1: 18}"
      ]
     },
     "execution_count": 106,
     "metadata": {},
     "output_type": "execute_result"
    }
   ],
   "source": [
    "n_stamps_per_frame = {}\n",
    "for key, value in image_dict.items():\n",
    "    if len(value) not in n_stamps_per_frame:\n",
    "        n_stamps_per_frame[len(value)] = 1\n",
    "    else:\n",
    "        n_stamps_per_frame[len(value)] += 1\n",
    "n_stamps_per_frame"
   ]
  },
  {
   "cell_type": "markdown",
   "metadata": {},
   "source": [
    "### Fix OCR'd text in latitude and longitude stamps"
   ]
  },
  {
   "cell_type": "code",
   "execution_count": 141,
   "metadata": {},
   "outputs": [
    {
     "data": {
      "text/plain": [
       "{'frame30190': '41  50 43.0',\n",
       " 'frame8184': '3815 00.1 5',\n",
       " 'frame6817': '38 04 03. 7  .',\n",
       " 'frame10532': '38 19 01 .0',\n",
       " 'frame25589': '4010 21.1',\n",
       " 'frame13985': '38 57 31 .0',\n",
       " 'frame30184': '41  50 18.6',\n",
       " 'frame3953': '37 43 51 .8',\n",
       " 'frame13013': '38 54 41 .5',\n",
       " 'frame24867': '39 4113.5 '}"
      ]
     },
     "execution_count": 141,
     "metadata": {},
     "output_type": "execute_result"
    }
   ],
   "source": [
    "#print a 10-sample of key-value pairs from bad_lats\n",
    "{k: v for i, (k,v) in enumerate(dict((k, bad_lats[k]) for k in bad_lats.keys()).items()) if i < 10}"
   ]
  },
  {
   "cell_type": "code",
   "execution_count": 142,
   "metadata": {},
   "outputs": [],
   "source": [
    "#make a shallow copy of bad_lats dictionary\n",
    "bad_lats_copy = bad_lats.copy()"
   ]
  },
  {
   "cell_type": "code",
   "execution_count": 144,
   "metadata": {},
   "outputs": [],
   "source": [
    "#remove all frames from bad_lats where number of digits in latitude value is not 7\n",
    "bad_lats_copy = {k:v for (k,v) in bad_lats_copy.items() if sum(c.isdigit() for c in v) == 7}"
   ]
  },
  {
   "cell_type": "code",
   "execution_count": 145,
   "metadata": {},
   "outputs": [
    {
     "data": {
      "text/plain": [
       "1757"
      ]
     },
     "execution_count": 145,
     "metadata": {},
     "output_type": "execute_result"
    }
   ],
   "source": [
    "len(bad_lats_copy)"
   ]
  },
  {
   "cell_type": "code",
   "execution_count": 148,
   "metadata": {},
   "outputs": [],
   "source": [
    "#remove all spaces from values\n",
    "bad_lats_copy = {k: v.replace(\" \",\"\") for (k,v) in bad_lats_copy.items()}"
   ]
  },
  {
   "cell_type": "code",
   "execution_count": 149,
   "metadata": {},
   "outputs": [
    {
     "data": {
      "text/plain": [
       "{(6,): 1602, (6, 8): 17, (): 133, (5, 7): 2, (7,): 2, (5,): 1}"
      ]
     },
     "execution_count": 149,
     "metadata": {},
     "output_type": "execute_result"
    }
   ],
   "source": [
    "#check all existing positions of a period in values\n",
    "pos_of_period = {}\n",
    "for v in bad_lats_copy.values():\n",
    "    pos_list = [pos for pos, char in enumerate(v) if char == '.']\n",
    "    if tuple(pos_list) not in pos_of_period:\n",
    "        pos_of_period[tuple(pos_list)] = 1\n",
    "    else:\n",
    "        pos_of_period[tuple(pos_list)] += 1\n",
    "pos_of_period"
   ]
  },
  {
   "cell_type": "code",
   "execution_count": 150,
   "metadata": {},
   "outputs": [
    {
     "data": {
      "text/plain": [
       "1757"
      ]
     },
     "execution_count": 150,
     "metadata": {},
     "output_type": "execute_result"
    }
   ],
   "source": [
    "sum(pos_of_period.values())"
   ]
  },
  {
   "cell_type": "code",
   "execution_count": 151,
   "metadata": {},
   "outputs": [
    {
     "name": "stdout",
     "output_type": "stream",
     "text": [
      "3833354\n",
      "3754502\n",
      "3810148\n",
      "3829074\n",
      "3812222\n",
      "4607586\n",
      "3819132\n",
      "4640594\n",
      "3932074\n",
      "3811585\n",
      "3826415\n",
      "3853404\n",
      "3804134\n",
      "3821094\n",
      "4718152\n",
      "4640514\n",
      "3851291\n",
      "3906426\n",
      "3852413\n",
      "3944325\n",
      "3853064\n",
      "4659133\n",
      "4605395\n",
      "4548054\n",
      "3823191\n",
      "3824175\n",
      "3932454\n",
      "3829192\n",
      "4731533\n",
      "3807092\n",
      "4019172\n",
      "4735002\n",
      "4632213\n",
      "4643214\n",
      "3940354\n",
      "4711119\n",
      "3826096\n",
      "3819502\n",
      "3819382\n",
      "3807404\n",
      "4725393\n",
      "3803452\n",
      "3945171\n",
      "4012010\n",
      "3748502\n",
      "4723313\n",
      "3814262\n",
      "3759211\n",
      "3826594\n",
      "4503115\n",
      "3931514\n",
      "4554165\n",
      "3937403\n",
      "4543263\n",
      "4318134\n",
      "3854412\n",
      "4551452\n",
      "4733323\n",
      "3338355\n",
      "4716132\n",
      "3816432\n",
      "4016584\n",
      "3800164\n",
      "4714050\n",
      "3748203\n",
      "4635134\n",
      "3933332\n",
      "4733263\n",
      "3802155\n",
      "3931212\n",
      "4733024\n",
      "3813232\n",
      "4603464\n",
      "4322392\n",
      "3931431\n",
      "3839073\n",
      "4724598\n",
      "4552102\n",
      "3749324\n",
      "3819442\n",
      "4648072\n",
      "4715539\n",
      "4024122\n",
      "4724565\n",
      "4733473\n",
      "3801114\n",
      "3800534\n",
      "4600583\n",
      "4715151\n",
      "4638291\n",
      "3816382\n",
      "3748526\n",
      "4549575\n",
      "3941444\n",
      "4729431\n",
      "4019563\n",
      "4642318\n",
      "4639493\n",
      "4606482\n",
      "4520522\n",
      "4734525\n",
      "3836204\n",
      "3823214\n",
      "3553133\n",
      "3825171\n",
      "3819274\n",
      "3933452\n",
      "3822133\n",
      "4728248\n",
      "3810114\n",
      "3944433\n",
      "3824583\n",
      "4734481\n",
      "4536413\n",
      "3854122\n",
      "3815594\n",
      "3804290\n",
      "3825443\n",
      "3755285\n",
      "4640173\n",
      "3852111\n",
      "3838244\n",
      "4734452\n",
      "4734415\n",
      "3836262\n",
      "3823512\n",
      "3838192\n",
      "3944284\n",
      "3815382\n",
      "3856184\n",
      "4642575\n",
      "3747360\n",
      "3833474\n"
     ]
    }
   ],
   "source": [
    "#check latitude stamps that don't have periods\n",
    "for v in bad_lats_copy.values():\n",
    "    if '.' not in v:\n",
    "        print(v)"
   ]
  },
  {
   "cell_type": "code",
   "execution_count": 152,
   "metadata": {},
   "outputs": [
    {
     "data": {
      "text/plain": [
       "{'frame30190': '415043.0',\n",
       " 'frame6817': '380403.7.',\n",
       " 'frame10532': '381901.0',\n",
       " 'frame25589': '401021.1',\n",
       " 'frame13985': '385731.0',\n",
       " 'frame30184': '415018.6',\n",
       " 'frame3953': '374351.8',\n",
       " 'frame13013': '385441.5',\n",
       " 'frame24867': '394113.5',\n",
       " 'frame17261': '385241.9'}"
      ]
     },
     "execution_count": 152,
     "metadata": {},
     "output_type": "execute_result"
    }
   ],
   "source": [
    "#print a 10-sample of key-value pairs from bad_lats_copy\n",
    "{k: v for i, (k,v) in enumerate(dict((k, bad_lats_copy[k]) for k in bad_lats_copy.keys()).items()) if i < 10}"
   ]
  },
  {
   "cell_type": "code",
   "execution_count": 155,
   "metadata": {},
   "outputs": [],
   "source": [
    "#remove all frames where position of period is anything other than (6,) or (6,8), or there is no period at all\n",
    "bad_lats_copy = {k: v for (k,v) in bad_lats_copy.items() if tuple([pos for pos, char in enumerate(v) if char == '.'])\n",
    "    in ((6,),(6,8),())}"
   ]
  },
  {
   "cell_type": "code",
   "execution_count": 157,
   "metadata": {},
   "outputs": [
    {
     "data": {
      "text/plain": [
       "1752"
      ]
     },
     "execution_count": 157,
     "metadata": {},
     "output_type": "execute_result"
    }
   ],
   "source": [
    "len(bad_lats_copy)"
   ]
  },
  {
   "cell_type": "code",
   "execution_count": 159,
   "metadata": {},
   "outputs": [],
   "source": [
    "#function to remove trailing periods, to insert period for stamps that need it, to insert spaces,\n",
    "#and to convert text to float\n",
    "def lat_clean_transform(stamp):\n",
    "    no_trail_prd = stamp[:8]\n",
    "    if '.' not in no_trail_prd:\n",
    "        stamp_new = no_trail_prd[:2] + ' ' + no_trail_prd[2:4] + ' ' + no_trail_prd[4:6] + '.' + no_trail_prd[6:6]\n",
    "    else:\n",
    "        stamp_new = no_trail_prd[:2] + ' ' + no_trail_prd[2:4] + ' ' + no_trail_prd[4:8]\n",
    "    return float(stamp_new.split(' ')[0]) + float(stamp_new.split(' ')[1])/60 + \\\n",
    "                     float(stamp_new.split(' ')[2])/3600"
   ]
  },
  {
   "cell_type": "code",
   "execution_count": 346,
   "metadata": {},
   "outputs": [],
   "source": [
    "replaced_lats = {k: lat_clean_transform(v) for (k,v) in bad_lats_copy.items()}"
   ]
  },
  {
   "cell_type": "code",
   "execution_count": 347,
   "metadata": {},
   "outputs": [
    {
     "data": {
      "text/plain": [
       "1752"
      ]
     },
     "execution_count": 347,
     "metadata": {},
     "output_type": "execute_result"
    }
   ],
   "source": [
    "len(replaced_lats)"
   ]
  },
  {
   "cell_type": "code",
   "execution_count": 348,
   "metadata": {},
   "outputs": [
    {
     "data": {
      "text/plain": [
       "{'frame30190': 41.84527777777778,\n",
       " 'frame6817': 38.06769444444445,\n",
       " 'frame10532': 38.316944444444445,\n",
       " 'frame25589': 40.17252777777777,\n",
       " 'frame13985': 38.95861111111111,\n",
       " 'frame30184': 41.8385,\n",
       " 'frame3953': 37.73105555555556,\n",
       " 'frame13013': 38.91152777777778,\n",
       " 'frame24867': 39.68708333333333,\n",
       " 'frame17261': 38.878305555555556}"
      ]
     },
     "execution_count": 348,
     "metadata": {},
     "output_type": "execute_result"
    }
   ],
   "source": [
    "#print a 10-sample of key-value pairs from replaced_lats\n",
    "{k: v for i, (k,v) in enumerate(dict((k, replaced_lats[k]) for k in replaced_lats.keys()).items()) if i < 10}"
   ]
  },
  {
   "cell_type": "code",
   "execution_count": 349,
   "metadata": {},
   "outputs": [
    {
     "data": {
      "text/plain": [
       "0"
      ]
     },
     "execution_count": 349,
     "metadata": {},
     "output_type": "execute_result"
    }
   ],
   "source": [
    "sum(x is None for x in replaced_lats.values())"
   ]
  },
  {
   "cell_type": "code",
   "execution_count": 350,
   "metadata": {},
   "outputs": [
    {
     "data": {
      "text/plain": [
       "{'frame28907': '111 42 21 .6',\n",
       " 'frame6817': '84 00 35. 2 3',\n",
       " 'frame14998': '94 35 51 .9',\n",
       " 'frame17249': '97 52 41 .3',\n",
       " 'frame19516': '1011128.8.',\n",
       " 'frame16625': '96 59 241',\n",
       " 'frame6195': '831052.5 .',\n",
       " 'frame39188': '122 09 01 .8',\n",
       " 'frame18146': '99 18 41 .6',\n",
       " 'frame13013': '91 41 58 4'}"
      ]
     },
     "execution_count": 350,
     "metadata": {},
     "output_type": "execute_result"
    }
   ],
   "source": [
    "#print a 10-sample of key-value pairs from bad_lons\n",
    "{k: v for i, (k,v) in enumerate(dict((k, bad_lons[k]) for k in bad_lons.keys()).items()) if i < 10}"
   ]
  },
  {
   "cell_type": "code",
   "execution_count": 351,
   "metadata": {},
   "outputs": [],
   "source": [
    "#make a shallow copy of bad_lons dictionary\n",
    "bad_lons_copy = bad_lons.copy()"
   ]
  },
  {
   "cell_type": "code",
   "execution_count": 352,
   "metadata": {},
   "outputs": [],
   "source": [
    "#remove all frames from bad_lons where number of digits in longitude value is not 7 or 8 with first digit being 1\n",
    "bad_lons_copy = {k:v for (k,v) in bad_lons_copy.items() if (sum(c.isdigit() for c in v) == 7) |\n",
    "                ((sum(c.isdigit() for c in v) == 8) & (v.startswith('1')))}"
   ]
  },
  {
   "cell_type": "code",
   "execution_count": 353,
   "metadata": {},
   "outputs": [
    {
     "data": {
      "text/plain": [
       "4366"
      ]
     },
     "execution_count": 353,
     "metadata": {},
     "output_type": "execute_result"
    }
   ],
   "source": [
    "len(bad_lons_copy)"
   ]
  },
  {
   "cell_type": "code",
   "execution_count": 354,
   "metadata": {},
   "outputs": [],
   "source": [
    "#remove all spaces from values\n",
    "bad_lons_copy = {k: v.replace(\" \",\"\") for (k,v) in bad_lons_copy.items()}"
   ]
  },
  {
   "cell_type": "code",
   "execution_count": 355,
   "metadata": {},
   "outputs": [
    {
     "data": {
      "text/plain": [
       "{'frame28907': '1114221.6',\n",
       " 'frame14998': '943551.9',\n",
       " 'frame17249': '975241.3',\n",
       " 'frame19516': '1011128.8.',\n",
       " 'frame16625': '9659241',\n",
       " 'frame6195': '831052.5.',\n",
       " 'frame39188': '1220901.8',\n",
       " 'frame18146': '991841.6',\n",
       " 'frame13013': '9141584',\n",
       " 'frame15476': '951731.7'}"
      ]
     },
     "execution_count": 355,
     "metadata": {},
     "output_type": "execute_result"
    }
   ],
   "source": [
    "#print a 10-sample of key-value pairs from bad_lons_copy\n",
    "{k: v for i, (k,v) in enumerate(dict((k, bad_lons_copy[k]) for k in bad_lons_copy.keys()).items()) if i < 10}"
   ]
  },
  {
   "cell_type": "code",
   "execution_count": 356,
   "metadata": {},
   "outputs": [
    {
     "data": {
      "text/plain": [
       "{(7,): 2344,\n",
       " (6,): 1434,\n",
       " (7, 9): 37,\n",
       " (): 455,\n",
       " (6, 8): 75,\n",
       " (8,): 14,\n",
       " (5,): 1,\n",
       " (6, 8, 9): 5,\n",
       " (6, 7): 1}"
      ]
     },
     "execution_count": 356,
     "metadata": {},
     "output_type": "execute_result"
    }
   ],
   "source": [
    "#check all existing positions of a period in values\n",
    "pos_of_period = {}\n",
    "for v in bad_lons_copy.values():\n",
    "    pos_list = [pos for pos, char in enumerate(v) if char == '.']\n",
    "    if tuple(pos_list) not in pos_of_period:\n",
    "        pos_of_period[tuple(pos_list)] = 1\n",
    "    else:\n",
    "        pos_of_period[tuple(pos_list)] += 1\n",
    "pos_of_period"
   ]
  },
  {
   "cell_type": "code",
   "execution_count": 357,
   "metadata": {},
   "outputs": [
    {
     "data": {
      "text/plain": [
       "4366"
      ]
     },
     "execution_count": 357,
     "metadata": {},
     "output_type": "execute_result"
    }
   ],
   "source": [
    "sum(pos_of_period.values())"
   ]
  },
  {
   "cell_type": "code",
   "execution_count": 358,
   "metadata": {},
   "outputs": [
    {
     "name": "stdout",
     "output_type": "stream",
     "text": [
      "9659241\n",
      "9141584\n",
      "8004543\n",
      "8343403\n",
      "9055105\n",
      "10759095\n",
      "11010461\n",
      "9040162\n",
      "8555335\n",
      "9109330\n",
      "9933271\n",
      "8502563\n",
      "8128182\n",
      "11944233\n",
      "12129451\n",
      "9030196\n",
      "11917431\n",
      "8202494\n",
      "8214553\n",
      "12157381\n",
      "8103243\n",
      "7947112\n",
      "12209427\n",
      "10046004\n",
      "10623451\n",
      "9836023\n",
      "1075912\n",
      "8150303\n",
      "8058364\n",
      "8449523\n",
      "8136424\n",
      "9314294\n",
      "11106112\n",
      "8112522\n",
      "7844553\n",
      "9056382\n",
      "8112509\n",
      "7822405\n",
      "9644483\n",
      "8503105\n",
      "9937173\n",
      "1062435\n",
      "7707225\n",
      "7905002\n",
      "9057341\n",
      "8115520\n",
      "7859345\n",
      "8017153\n",
      "12117341\n",
      "10251301\n",
      "10709225\n",
      "7854257\n",
      "12113411\n",
      "7903336\n",
      "8032210\n",
      "9537118\n",
      "8823395\n",
      "9937221\n",
      "1092147\n",
      "8422093\n",
      "7750571\n",
      "9933388\n",
      "7754191\n",
      "9638234\n",
      "9040071\n",
      "11106112\n",
      "8311021\n",
      "11104142\n",
      "7920410\n",
      "9433348\n",
      "8113138\n",
      "8205415\n",
      "8540341\n",
      "8309232\n",
      "9333547\n",
      "9039561\n",
      "1175735\n",
      "9549534\n",
      "8328072\n",
      "7756285\n",
      "8313561\n",
      "8229332\n",
      "8115213\n",
      "1093702\n",
      "9758256\n",
      "11024225\n",
      "11912570\n",
      "11913153\n",
      "7904310\n",
      "1045901\n",
      "11026221\n",
      "9937395\n",
      "8118423\n",
      "7954403\n",
      "8803306\n",
      "8204372\n",
      "8059231\n",
      "8113105\n",
      "11104192\n",
      "8147241\n",
      "9716533\n",
      "8058512\n",
      "9331271\n",
      "9039592\n",
      "9858110\n",
      "11115397\n",
      "8952335\n",
      "9343535\n",
      "8514136\n",
      "9440334\n",
      "9540179\n",
      "7705449\n",
      "9234421\n",
      "7852503\n",
      "10701183\n",
      "8500335\n",
      "12210013\n",
      "7946455\n",
      "8313471\n",
      "8514183\n",
      "8421591\n",
      "8205335\n",
      "8631132\n",
      "8009320\n",
      "9931101\n",
      "8332356\n",
      "8551267\n",
      "8825323\n",
      "11054375\n",
      "7830453\n",
      "8253207\n",
      "10104132\n",
      "11004031\n",
      "7716337\n",
      "7937511\n",
      "7857245\n",
      "9927152\n",
      "11154063\n",
      "8606552\n",
      "11052238\n",
      "11054324\n",
      "8824119\n",
      "7832334\n",
      "9126054\n",
      "8753133\n",
      "9040281\n",
      "8008581\n",
      "7821144\n",
      "8210028\n",
      "10505071\n",
      "8114443\n",
      "8451402\n",
      "1050535\n",
      "8404084\n",
      "8702373\n",
      "12153193\n",
      "9040267\n",
      "9358199\n",
      "12139011\n",
      "7331451\n",
      "11154152\n",
      "9453356\n",
      "9411228\n",
      "8201134\n",
      "8624110\n",
      "10026471\n",
      "8352264\n",
      "8440445\n",
      "7852189\n",
      "9431065\n",
      "7729115\n",
      "8252440\n",
      "1095354\n",
      "8024227\n",
      "7800090\n",
      "8119451\n",
      "8550511\n",
      "7804242\n",
      "7733335\n",
      "8538110\n",
      "7939533\n",
      "8750325\n",
      "12125351\n",
      "8133120\n",
      "9429237\n",
      "8134261\n",
      "7934533\n",
      "8851035\n",
      "8134220\n",
      "7746308\n",
      "8559393\n",
      "8126390\n",
      "8321211\n",
      "7950445\n",
      "9733143\n",
      "8209565\n",
      "8704165\n",
      "9431257\n",
      "8207194\n",
      "10608451\n",
      "8110545\n",
      "10649211\n",
      "9842327\n",
      "8023200\n",
      "8119147\n",
      "9206533\n",
      "8330584\n",
      "8550472\n",
      "7910308\n",
      "9351172\n",
      "11054112\n",
      "7702419\n",
      "9526122\n",
      "8201115\n",
      "8442489\n",
      "8106229\n",
      "8053275\n",
      "7745233\n",
      "9118418\n",
      "10900349\n",
      "7910328\n",
      "10751375\n",
      "8603113\n",
      "7733232\n",
      "9509180\n",
      "8859587\n",
      "7821570\n",
      "9316433\n",
      "8403571\n",
      "9840122\n",
      "8427221\n",
      "9102170\n",
      "9103347\n",
      "8622323\n",
      "12112408\n",
      "8714496\n",
      "8106303\n",
      "7818491\n",
      "8025393\n",
      "8233103\n",
      "8700265\n",
      "9926085\n",
      "9546551\n",
      "8814178\n",
      "7951336\n",
      "10715023\n",
      "10023211\n",
      "8450229\n",
      "7821394\n",
      "7856083\n",
      "9145235\n",
      "8011081\n",
      "8453028\n",
      "9703345\n",
      "9414235\n",
      "9432283\n",
      "7748463\n",
      "7801594\n",
      "8000283\n",
      "8317289\n",
      "10757573\n",
      "8106143\n",
      "12201018\n",
      "8623332\n",
      "12112488\n",
      "8714445\n",
      "8134133\n",
      "11004032\n",
      "9611032\n",
      "7746194\n",
      "1194038\n",
      "7802043\n",
      "9452232\n",
      "7833533\n",
      "8808441\n",
      "9034522\n",
      "9302303\n",
      "9915044\n",
      "12054041\n",
      "9106213\n",
      "8332513\n",
      "7910149\n",
      "9742346\n",
      "7831143\n",
      "8901348\n",
      "8037316\n",
      "8739329\n",
      "8316043\n",
      "7857195\n",
      "9528475\n",
      "8201145\n",
      "7912030\n",
      "9242190\n",
      "8623163\n",
      "9806344\n",
      "9524308\n",
      "8232401\n",
      "7900596\n",
      "9355591\n",
      "8659534\n",
      "9001117\n",
      "8201109\n",
      "7951001\n",
      "8003531\n",
      "8211112\n",
      "8133545\n",
      "8859341\n",
      "8108431\n",
      "8109144\n",
      "8403212\n",
      "8110140\n",
      "7847233\n",
      "8201035\n",
      "7910114\n",
      "9438191\n",
      "9557543\n",
      "11823157\n",
      "12003019\n",
      "12112593\n",
      "10028553\n",
      "11123132\n",
      "8025207\n",
      "12214102\n",
      "7833175\n",
      "11029531\n",
      "10617071\n",
      "8305495\n",
      "8211065\n",
      "8008385\n",
      "7855550\n",
      "9312145\n",
      "8541282\n",
      "9919135\n",
      "8308043\n",
      "9231072\n",
      "11949024\n",
      "7956013\n",
      "9344043\n",
      "8458354\n",
      "8034023\n",
      "7826478\n",
      "10949357\n",
      "8123173\n",
      "9216405\n",
      "8015315\n",
      "11024512\n",
      "9603390\n",
      "12029372\n",
      "7945221\n",
      "8924125\n",
      "8027107\n",
      "8123112\n",
      "7828341\n",
      "11042393\n",
      "9439401\n",
      "7942047\n",
      "9006223\n",
      "8224039\n",
      "9130583\n",
      "7952453\n",
      "12101012\n",
      "8450088\n",
      "8213581\n",
      "8214313\n",
      "8438095\n",
      "1220344\n",
      "8058175\n",
      "12119252\n",
      "12059455\n",
      "10558214\n",
      "8426107\n",
      "7842251\n",
      "8123131\n",
      "7706431\n",
      "7904261\n",
      "8018013\n",
      "7659563\n",
      "12159168\n",
      "9424533\n",
      "9031545\n",
      "9158218\n",
      "7933411\n",
      "7859574\n",
      "9058071\n",
      "8922525\n",
      "7842075\n",
      "8230182\n",
      "9038522\n",
      "12144161\n",
      "9039340\n",
      "9331513\n",
      "9308103\n",
      "8206235\n",
      "8057143\n",
      "9053245\n",
      "8400498\n",
      "8400402\n",
      "8632541\n",
      "8949512\n",
      "9718047\n",
      "8303133\n",
      "8449541\n",
      "8555183\n",
      "9934442\n",
      "10558320\n",
      "8158020\n",
      "8821343\n",
      "8123137\n",
      "8123091\n",
      "10949455\n",
      "11256501\n",
      "10709590\n",
      "8853101\n",
      "8643021\n",
      "7841594\n",
      "7944491\n",
      "7756593\n",
      "11042502\n",
      "11534082\n",
      "9737153\n",
      "8116338\n",
      "10615256\n",
      "12149255\n",
      "8206412\n",
      "8212293\n",
      "8135340\n",
      "9434531\n",
      "8308503\n",
      "12059214\n",
      "7836363\n",
      "8224498\n",
      "8744343\n",
      "9438483\n",
      "9214348\n",
      "7827324\n",
      "8426332\n",
      "10458381\n",
      "9037204\n",
      "9030105\n",
      "9329333\n",
      "10746362\n",
      "9459436\n",
      "10711251\n",
      "8458555\n",
      "8030466\n",
      "9440066\n",
      "10448075\n",
      "7833371\n",
      "7906411\n",
      "9039291\n",
      "9311511\n",
      "7855445\n",
      "8710103\n",
      "9503383\n",
      "9310246\n"
     ]
    }
   ],
   "source": [
    "#check longitude stamps that don't have periods\n",
    "for v in bad_lons_copy.values():\n",
    "    if '.' not in v:\n",
    "        print(v)"
   ]
  },
  {
   "cell_type": "code",
   "execution_count": 359,
   "metadata": {},
   "outputs": [],
   "source": [
    "#remove all frames where position of period is confusing\n",
    "bad_lons_copy = {k: v for (k,v) in bad_lons_copy.items() if tuple([pos for pos, char in enumerate(v) if char == '.'])\n",
    "    in ((7,),(6,),(7,9),(6,8),())}"
   ]
  },
  {
   "cell_type": "code",
   "execution_count": 360,
   "metadata": {},
   "outputs": [
    {
     "data": {
      "text/plain": [
       "4345"
      ]
     },
     "execution_count": 360,
     "metadata": {},
     "output_type": "execute_result"
    }
   ],
   "source": [
    "len(bad_lons_copy)"
   ]
  },
  {
   "cell_type": "code",
   "execution_count": 361,
   "metadata": {},
   "outputs": [
    {
     "data": {
      "text/plain": [
       "{'frame28907': '1114221.6',\n",
       " 'frame14998': '943551.9',\n",
       " 'frame17249': '975241.3',\n",
       " 'frame19516': '1011128.8.',\n",
       " 'frame16625': '9659241',\n",
       " 'frame6195': '831052.5.',\n",
       " 'frame39188': '1220901.8',\n",
       " 'frame18146': '991841.6',\n",
       " 'frame13013': '9141584',\n",
       " 'frame15476': '951731.7'}"
      ]
     },
     "execution_count": 361,
     "metadata": {},
     "output_type": "execute_result"
    }
   ],
   "source": [
    "#print a 10-sample of key-value pairs from bad_lons_copy\n",
    "{k: v for i, (k,v) in enumerate(dict((k, bad_lons_copy[k]) for k in bad_lons_copy.keys()).items()) if i < 10}"
   ]
  },
  {
   "cell_type": "code",
   "execution_count": 321,
   "metadata": {},
   "outputs": [],
   "source": [
    "#len({k: v for (k,v) in bad_lons_copy.items() if len(v) < 7})"
   ]
  },
  {
   "cell_type": "code",
   "execution_count": 362,
   "metadata": {},
   "outputs": [],
   "source": [
    "#function to remove trailing periods, to insert period for stamps that need it, to insert spaces,\n",
    "#and to convert text to float\n",
    "def lon_clean_transform(stamp):\n",
    "    if (sum(c.isdigit() for c in stamp) == 7) & (tuple([pos for pos, char in enumerate(stamp) if char == '.']) in ((6,),(6,8),())):\n",
    "        no_trail_prd = stamp[:8]\n",
    "        if '.' not in no_trail_prd:\n",
    "            stamp_new = no_trail_prd[:2] + ' ' + no_trail_prd[2:4] + ' ' + no_trail_prd[4:6] + '.' + no_trail_prd[6:6]\n",
    "        else:\n",
    "            stamp_new = no_trail_prd[:2] + ' ' + no_trail_prd[2:4] + ' ' + no_trail_prd[4:8]\n",
    "        return float(stamp_new.split(' ')[0]) + float(stamp_new.split(' ')[1])/60 + \\\n",
    "                         float(stamp_new.split(' ')[2])/3600\n",
    "    elif (sum(c.isdigit() for c in stamp) == 8) & (tuple([pos for pos, char in enumerate(stamp) if char == '.']) in ((7,),(7,9),())):\n",
    "        no_trail_prd = stamp[:9]\n",
    "        if '.' not in no_trail_prd:\n",
    "            stamp_new = no_trail_prd[:3] + ' ' + no_trail_prd[3:5] + ' ' + no_trail_prd[5:7] + '.' + no_trail_prd[7:7]\n",
    "        else:\n",
    "            stamp_new = no_trail_prd[:3] + ' ' + no_trail_prd[3:5] + ' ' + no_trail_prd[5:9]\n",
    "        return float(stamp_new.split(' ')[0]) + float(stamp_new.split(' ')[1])/60 + \\\n",
    "                         float(stamp_new.split(' ')[2])/3600"
   ]
  },
  {
   "cell_type": "code",
   "execution_count": 363,
   "metadata": {},
   "outputs": [],
   "source": [
    "replaced_lons = {k: lon_clean_transform(v) for (k,v) in bad_lons_copy.items()}"
   ]
  },
  {
   "cell_type": "code",
   "execution_count": 364,
   "metadata": {},
   "outputs": [
    {
     "data": {
      "text/plain": [
       "4345"
      ]
     },
     "execution_count": 364,
     "metadata": {},
     "output_type": "execute_result"
    }
   ],
   "source": [
    "len(replaced_lons)"
   ]
  },
  {
   "cell_type": "code",
   "execution_count": 365,
   "metadata": {},
   "outputs": [
    {
     "data": {
      "text/plain": [
       "{'frame28907': 111.706,\n",
       " 'frame14998': 94.59774999999999,\n",
       " 'frame17249': 97.87813888888888,\n",
       " 'frame19516': 101.19133333333333,\n",
       " 'frame16625': 96.99,\n",
       " 'frame6195': 83.18125,\n",
       " 'frame39188': 122.15050000000001,\n",
       " 'frame18146': 99.31155555555556,\n",
       " 'frame13013': 91.69944444444445,\n",
       " 'frame15476': 95.29213888888889}"
      ]
     },
     "execution_count": 365,
     "metadata": {},
     "output_type": "execute_result"
    }
   ],
   "source": [
    "#print a 10-sample of key-value pairs from replaced_lons\n",
    "{k: v for i, (k,v) in enumerate(dict((k, replaced_lons[k]) for k in replaced_lons.keys()).items()) if i < 10}"
   ]
  },
  {
   "cell_type": "code",
   "execution_count": 366,
   "metadata": {},
   "outputs": [
    {
     "data": {
      "text/plain": [
       "22"
      ]
     },
     "execution_count": 366,
     "metadata": {},
     "output_type": "execute_result"
    }
   ],
   "source": [
    "sum(x is None for x in replaced_lons.values())"
   ]
  },
  {
   "cell_type": "code",
   "execution_count": 367,
   "metadata": {},
   "outputs": [],
   "source": [
    "#bad_lons_copy['frame28907']"
   ]
  },
  {
   "cell_type": "code",
   "execution_count": 368,
   "metadata": {},
   "outputs": [],
   "source": [
    "replaced_lats = {k: {'Lat':v} for (k,v) in replaced_lats.items()}"
   ]
  },
  {
   "cell_type": "code",
   "execution_count": 369,
   "metadata": {},
   "outputs": [],
   "source": [
    "replaced_lons = {k: {'Lon':v} for (k,v) in replaced_lons.items()}"
   ]
  },
  {
   "cell_type": "code",
   "execution_count": 370,
   "metadata": {},
   "outputs": [
    {
     "data": {
      "text/plain": [
       "{'frame30190': {'Lat': 41.84527777777778},\n",
       " 'frame6817': {'Lat': 38.06769444444445},\n",
       " 'frame10532': {'Lat': 38.316944444444445},\n",
       " 'frame25589': {'Lat': 40.17252777777777},\n",
       " 'frame13985': {'Lat': 38.95861111111111},\n",
       " 'frame30184': {'Lat': 41.8385},\n",
       " 'frame3953': {'Lat': 37.73105555555556},\n",
       " 'frame13013': {'Lat': 38.91152777777778},\n",
       " 'frame24867': {'Lat': 39.68708333333333},\n",
       " 'frame17261': {'Lat': 38.878305555555556}}"
      ]
     },
     "execution_count": 370,
     "metadata": {},
     "output_type": "execute_result"
    }
   ],
   "source": [
    "#print a 10-sample of key-value pairs from replaced_lats\n",
    "{k: v for i, (k,v) in enumerate(dict((k, replaced_lats[k]) for k in replaced_lats.keys()).items()) if i < 10}"
   ]
  },
  {
   "cell_type": "code",
   "execution_count": 371,
   "metadata": {},
   "outputs": [
    {
     "data": {
      "text/plain": [
       "{'frame28907': {'Lon': 111.706},\n",
       " 'frame14998': {'Lon': 94.59774999999999},\n",
       " 'frame17249': {'Lon': 97.87813888888888},\n",
       " 'frame19516': {'Lon': 101.19133333333333},\n",
       " 'frame16625': {'Lon': 96.99},\n",
       " 'frame6195': {'Lon': 83.18125},\n",
       " 'frame39188': {'Lon': 122.15050000000001},\n",
       " 'frame18146': {'Lon': 99.31155555555556},\n",
       " 'frame13013': {'Lon': 91.69944444444445},\n",
       " 'frame15476': {'Lon': 95.29213888888889}}"
      ]
     },
     "execution_count": 371,
     "metadata": {},
     "output_type": "execute_result"
    }
   ],
   "source": [
    "#print a 10-sample of key-value pairs from replaced_lons\n",
    "{k: v for i, (k,v) in enumerate(dict((k, replaced_lons[k]) for k in replaced_lons.keys()).items()) if i < 10}"
   ]
  },
  {
   "cell_type": "code",
   "execution_count": 372,
   "metadata": {},
   "outputs": [
    {
     "data": {
      "text/plain": [
       "0"
      ]
     },
     "execution_count": 372,
     "metadata": {},
     "output_type": "execute_result"
    }
   ],
   "source": [
    "sum(x == {'Lat': None} for x in replaced_lats.values())"
   ]
  },
  {
   "cell_type": "code",
   "execution_count": 373,
   "metadata": {},
   "outputs": [
    {
     "data": {
      "text/plain": [
       "22"
      ]
     },
     "execution_count": 373,
     "metadata": {},
     "output_type": "execute_result"
    }
   ],
   "source": [
    "sum(x == {'Lon': None} for x in replaced_lons.values())"
   ]
  },
  {
   "cell_type": "code",
   "execution_count": 374,
   "metadata": {},
   "outputs": [
    {
     "data": {
      "text/plain": [
       "256"
      ]
     },
     "execution_count": 374,
     "metadata": {},
     "output_type": "execute_result"
    }
   ],
   "source": [
    "len(replaced_lats.keys() & replaced_lons.keys())"
   ]
  },
  {
   "cell_type": "code",
   "execution_count": 375,
   "metadata": {},
   "outputs": [
    {
     "data": {
      "text/plain": [
       "1496"
      ]
     },
     "execution_count": 375,
     "metadata": {},
     "output_type": "execute_result"
    }
   ],
   "source": [
    "len(replaced_lats.keys() - replaced_lons.keys())"
   ]
  },
  {
   "cell_type": "code",
   "execution_count": 376,
   "metadata": {},
   "outputs": [
    {
     "data": {
      "text/plain": [
       "4089"
      ]
     },
     "execution_count": 376,
     "metadata": {},
     "output_type": "execute_result"
    }
   ],
   "source": [
    "len(replaced_lons.keys() - replaced_lats.keys())"
   ]
  },
  {
   "cell_type": "code",
   "execution_count": 413,
   "metadata": {},
   "outputs": [],
   "source": [
    "image_dict_final = copy.deepcopy(image_dict_rstr)"
   ]
  },
  {
   "cell_type": "code",
   "execution_count": 414,
   "metadata": {},
   "outputs": [
    {
     "name": "stdout",
     "output_type": "stream",
     "text": [
      "0 keys: 0 \n",
      "1 key: 0 \n",
      "2 keys: 79012\n"
     ]
    }
   ],
   "source": [
    "#number of keys in value dictionary in image_dict_final\n",
    "keys_0 = 0\n",
    "keys_1 = 0\n",
    "keys_2 = 0\n",
    "for v in image_dict_final.values():\n",
    "    n_keys = len(v.keys())\n",
    "    if n_keys == 0:\n",
    "        keys_0 += 1\n",
    "    elif n_keys == 1:\n",
    "        keys_1 += 1\n",
    "    elif n_keys == 2:\n",
    "        keys_2 += 2\n",
    "print(\"0 keys:\",keys_0,\"\\n1 key:\",keys_1,\"\\n2 keys:\",keys_2)"
   ]
  },
  {
   "cell_type": "code",
   "execution_count": 415,
   "metadata": {},
   "outputs": [
    {
     "name": "stdout",
     "output_type": "stream",
     "text": [
      "0 keys: 0 \n",
      "1 key: 4345 \n",
      "2 keys: 0\n"
     ]
    }
   ],
   "source": [
    "#number of keys in value dictionary in replaced_lons\n",
    "keys_0 = 0\n",
    "keys_1 = 0\n",
    "keys_2 = 0\n",
    "for v in replaced_lons.values():\n",
    "    n_keys = len(v.keys())\n",
    "    if n_keys == 0:\n",
    "        keys_0 += 1\n",
    "    elif n_keys == 1:\n",
    "        keys_1 += 1\n",
    "    elif n_keys == 2:\n",
    "        keys_2 += 2\n",
    "print(\"0 keys:\",keys_0,\"\\n1 key:\",keys_1,\"\\n2 keys:\",keys_2)"
   ]
  },
  {
   "cell_type": "code",
   "execution_count": 416,
   "metadata": {},
   "outputs": [
    {
     "data": {
      "text/plain": [
       "{'frame24135': {'Lat': 39.56769444444445, 'Lon': 107.23069444444445},\n",
       " 'frame21410': {'Lat': 39.54383333333333, 'Lon': 103.99863888888889},\n",
       " 'frame13131': {'Lat': 38.94269444444444, 'Lon': 91.87630555555555},\n",
       " 'frame12203': {'Lat': 38.67222222222222, 'Lon': 90.66386111111112},\n",
       " 'frame2400': {'Lat': 37.801111111111105, 'Lon': None},\n",
       " 'frame26805': {'Lat': 40.41894444444444, 'Lon': 109.58152777777778},\n",
       " 'frame24656': {'Lat': None, 'Lon': 107.78122222222223},\n",
       " 'frame34179': {'Lat': 44.51555555555556, 'Lon': 117.37480555555555},\n",
       " 'frame37262': {'Lat': 46.41525, 'Lon': 120.30847222222222},\n",
       " 'frame3809': {'Lat': 37.76766666666666, 'Lon': None}}"
      ]
     },
     "execution_count": 416,
     "metadata": {},
     "output_type": "execute_result"
    }
   ],
   "source": [
    "#print a 10-sample of key-value pairs from image_dict_final\n",
    "{k: v for i, (k,v) in enumerate(dict((k, image_dict_final[k]) for k in image_dict_final.keys()).items()) if i < 10}"
   ]
  },
  {
   "cell_type": "code",
   "execution_count": 417,
   "metadata": {},
   "outputs": [
    {
     "name": "stdout",
     "output_type": "stream",
     "text": [
      "Frames without Lat: 1571 \n",
      "Frames without Lon: 4603 \n",
      "Frames without both: 486\n"
     ]
    }
   ],
   "source": [
    "#check how many frames have no latitude or longitude value in image_dict_final before fixed values are inserted\n",
    "lon_none = 0\n",
    "lat_none = 0\n",
    "lat_lon_none = 0\n",
    "for v in image_dict_final.values():\n",
    "    if (v['Lat'] is None) & (v['Lon'] is None):\n",
    "        lat_lon_none += 1\n",
    "    elif v['Lat'] is None:\n",
    "        lat_none += 1\n",
    "    elif v['Lon'] is None:\n",
    "        lon_none += 1\n",
    "print(\"Frames without Lat:\",lat_none,\"\\nFrames without Lon:\",lon_none,\"\\nFrames without both:\",lat_lon_none)"
   ]
  },
  {
   "cell_type": "code",
   "execution_count": 418,
   "metadata": {},
   "outputs": [],
   "source": [
    "#copy fixed latitude and longitude stamps into final image_dict_final dictionary\n",
    "for k, v in image_dict_final.items():\n",
    "    if (v['Lat'] is None) & (k in replaced_lats):\n",
    "        image_dict_final[k]['Lat'] = replaced_lats[k]['Lat']\n",
    "    if (v['Lon'] is None) & (k in replaced_lons):\n",
    "        image_dict_final[k]['Lon'] = replaced_lons[k]['Lon']"
   ]
  },
  {
   "cell_type": "code",
   "execution_count": 419,
   "metadata": {},
   "outputs": [
    {
     "name": "stdout",
     "output_type": "stream",
     "text": [
      "Frames without Lat: 234 \n",
      "Frames without Lon: 695 \n",
      "Frames without both: 71\n"
     ]
    }
   ],
   "source": [
    "#check how many frames ended up having no latitude or longitude value\n",
    "lon_none = 0\n",
    "lat_none = 0\n",
    "lat_lon_none = 0\n",
    "for v in image_dict_final.values():\n",
    "    if (v['Lat'] is None) & (v['Lon'] is None):\n",
    "        lat_lon_none += 1\n",
    "    elif v['Lat'] is None:\n",
    "        lat_none += 1\n",
    "    elif v['Lon'] is None:\n",
    "        lon_none += 1\n",
    "print(\"Frames without Lat:\",lat_none,\"\\nFrames without Lon:\",lon_none,\"\\nFrames without both:\",lat_lon_none)"
   ]
  },
  {
   "cell_type": "code",
   "execution_count": 420,
   "metadata": {},
   "outputs": [
    {
     "data": {
      "text/plain": [
       "39506"
      ]
     },
     "execution_count": 420,
     "metadata": {},
     "output_type": "execute_result"
    }
   ],
   "source": [
    "len(image_dict_final)"
   ]
  },
  {
   "cell_type": "code",
   "execution_count": 421,
   "metadata": {},
   "outputs": [],
   "source": [
    "#remove frames without latitude and/or longitude value\n",
    "for k in list(image_dict_final.keys()):\n",
    "    if (image_dict_final[k]['Lat'] is None) | (image_dict_final[k]['Lon'] is None):\n",
    "        del image_dict_final[k]"
   ]
  },
  {
   "cell_type": "code",
   "execution_count": 422,
   "metadata": {},
   "outputs": [
    {
     "data": {
      "text/plain": [
       "38506"
      ]
     },
     "execution_count": 422,
     "metadata": {},
     "output_type": "execute_result"
    }
   ],
   "source": [
    "len(image_dict_final)"
   ]
  },
  {
   "cell_type": "code",
   "execution_count": 423,
   "metadata": {},
   "outputs": [
    {
     "name": "stdout",
     "output_type": "stream",
     "text": [
      "Both of out bounds: 1 \n",
      "Lat out of bounds: 28 \n",
      "Lon out of bounds: 34\n"
     ]
    }
   ],
   "source": [
    "#check how many remaining latitude and longitude values fall outside the expected bounds\n",
    "lat_out_of_bounds = 0\n",
    "lon_out_of_bounds = 0\n",
    "both_out_of_bounds = 0\n",
    "for v in image_dict_final.values():\n",
    "    if ((v['Lat'] < 37.0) | (v['Lat'] > 47.7)) & ((v['Lon'] < 77.0) | (v['Lon'] > 122.33)):\n",
    "        both_out_of_bounds += 1\n",
    "    elif (v['Lat'] < 37.0) | (v['Lat'] > 47.7):\n",
    "        lat_out_of_bounds += 1\n",
    "    elif (v['Lon'] < 77.0) | (v['Lon'] > 122.33):\n",
    "        lon_out_of_bounds += 1\n",
    "print(\"Both of out bounds:\",both_out_of_bounds,\"\\nLat out of bounds:\",lat_out_of_bounds,\"\\nLon out of bounds:\",lon_out_of_bounds)"
   ]
  },
  {
   "cell_type": "code",
   "execution_count": 424,
   "metadata": {},
   "outputs": [],
   "source": [
    "#remove these frames that have latitude and longitude values fall outside the expected bounds\n",
    "for k in list(image_dict_final.keys()):\n",
    "    if ((image_dict_final[k]['Lat'] < 37.0) | (image_dict_final[k]['Lat'] > 47.7) | \n",
    "        (image_dict_final[k]['Lon'] < 77.0) | (image_dict_final[k]['Lon'] > 122.33)):\n",
    "        del image_dict_final[k]"
   ]
  },
  {
   "cell_type": "code",
   "execution_count": 425,
   "metadata": {},
   "outputs": [
    {
     "data": {
      "text/plain": [
       "38443"
      ]
     },
     "execution_count": 425,
     "metadata": {},
     "output_type": "execute_result"
    }
   ],
   "source": [
    "len(image_dict_final)"
   ]
  },
  {
   "cell_type": "code",
   "execution_count": 426,
   "metadata": {},
   "outputs": [
    {
     "data": {
      "text/plain": [
       "{'frame24135': {'Lat': 39.56769444444445, 'Lon': 107.23069444444445},\n",
       " 'frame21410': {'Lat': 39.54383333333333, 'Lon': 103.99863888888889},\n",
       " 'frame13131': {'Lat': 38.94269444444444, 'Lon': 91.87630555555555},\n",
       " 'frame12203': {'Lat': 38.67222222222222, 'Lon': 90.66386111111112},\n",
       " 'frame2400': {'Lat': 37.801111111111105, 'Lon': 79.41436111111112},\n",
       " 'frame26805': {'Lat': 40.41894444444444, 'Lon': 109.58152777777778},\n",
       " 'frame24656': {'Lat': 39.55038888888889, 'Lon': 107.78122222222223},\n",
       " 'frame34179': {'Lat': 44.51555555555556, 'Lon': 117.37480555555555},\n",
       " 'frame37262': {'Lat': 46.41525, 'Lon': 120.30847222222222},\n",
       " 'frame3809': {'Lat': 37.76766666666666, 'Lon': 81.03852777777777}}"
      ]
     },
     "execution_count": 426,
     "metadata": {},
     "output_type": "execute_result"
    }
   ],
   "source": [
    "#print a 10-sample of key-value pairs from image_dict_final\n",
    "{k: v for i, (k,v) in enumerate(dict((k, image_dict_final[k]) for k in image_dict_final.keys()).items()) if i < 10}"
   ]
  },
  {
   "cell_type": "code",
   "execution_count": 429,
   "metadata": {},
   "outputs": [],
   "source": [
    "json_txt = json.dumps(image_dict_final)\n",
    "f = open(\"image_txt.json\",\"w\")\n",
    "f.write(json_txt)\n",
    "f.close()"
   ]
  },
  {
   "cell_type": "code",
   "execution_count": null,
   "metadata": {},
   "outputs": [],
   "source": []
  },
  {
   "cell_type": "code",
   "execution_count": null,
   "metadata": {},
   "outputs": [],
   "source": []
  },
  {
   "cell_type": "code",
   "execution_count": null,
   "metadata": {},
   "outputs": [],
   "source": [
    "#print a 10-sample of key-value pairs from replaced_lons for keys that are also found in replaced_lats dictionary\n",
    "{k: v for i, (k,v) in enumerate(dict((k, replaced_lons[k]) for k in (image_dict.keys() & bad_lats.keys())).items()) if i < 10}"
   ]
  },
  {
   "cell_type": "code",
   "execution_count": 193,
   "metadata": {},
   "outputs": [],
   "source": [
    "#from https://stackoverflow.com/a/7205107/9987623\n",
    "#function to perform nested merge of dictionaries\n",
    "def merge_dicts(a, b, path=None):\n",
    "    \"merges b into a\"\n",
    "    if path is None: path = []\n",
    "    for key in b:\n",
    "        if key in a:\n",
    "            if isinstance(a[key], dict) and isinstance(b[key], dict):\n",
    "                merge(a[key], b[key], path + [str(key)])\n",
    "            elif a[key] == b[key]:\n",
    "                pass # same leaf value\n",
    "            else:\n",
    "                raise Exception('Conflict at %s' % '.'.join(path + [str(key)]))\n",
    "        else:\n",
    "            a[key] = b[key]\n",
    "    return a"
   ]
  },
  {
   "cell_type": "code",
   "execution_count": 202,
   "metadata": {},
   "outputs": [
    {
     "ename": "TypeError",
     "evalue": "unsupported operand type(s) for +: 'dict_items' and 'dict_items'",
     "output_type": "error",
     "traceback": [
      "\u001b[0;31m---------------------------------------------------------------------------\u001b[0m",
      "\u001b[0;31mTypeError\u001b[0m                                 Traceback (most recent call last)",
      "\u001b[0;32m<ipython-input-202-7156bbc9880f>\u001b[0m in \u001b[0;36m<module>\u001b[0;34m\u001b[0m\n\u001b[1;32m      1\u001b[0m dict({k_lat: v_lat.update({'Lon': None}) for (k_lat,v_lat) in replaced_lats.items() if k_lat in (replaced_lats.keys() - \n\u001b[1;32m      2\u001b[0m     replaced_lons.keys())}.items() + {k_lon: v_lon.update({'Lat': None}) for (k_lon,v_lon) in \n\u001b[0;32m----> 3\u001b[0;31m     replaced_lons.items() if k_lon in (replaced_lons.keys() - replaced_lats.keys())}.items() + \\\n\u001b[0m\u001b[1;32m      4\u001b[0m     {k_lat_lon: {'Lat': replaced_lats[k_lat_lon]['Lat'], 'Lon': replaced_lons[k_lat_lon]['Lon']} for k_lat_lon in \n\u001b[1;32m      5\u001b[0m      (replaced_lats.keys() & replaced_lons.keys())}.items())\n",
      "\u001b[0;31mTypeError\u001b[0m: unsupported operand type(s) for +: 'dict_items' and 'dict_items'"
     ]
    }
   ],
   "source": [
    "dict({k_lat: v_lat.update({'Lon': None}) for (k_lat,v_lat) in replaced_lats.items() if k_lat in (replaced_lats.keys() - \n",
    "    replaced_lons.keys())}.items() + {k_lon: v_lon.update({'Lat': None}) for (k_lon,v_lon) in \n",
    "    replaced_lons.items() if k_lon in (replaced_lons.keys() - replaced_lats.keys())}.items() + \\\n",
    "    {k_lat_lon: {'Lat': replaced_lats[k_lat_lon]['Lat'], 'Lon': replaced_lons[k_lat_lon]['Lon']} for k_lat_lon in \n",
    "     (replaced_lats.keys() & replaced_lons.keys())}.items())"
   ]
  },
  {
   "cell_type": "code",
   "execution_count": 228,
   "metadata": {},
   "outputs": [
    {
     "data": {
      "text/plain": [
       "{'frame30190': {'Lat': 41.84527777777778, 'Lon': None},\n",
       " 'frame6817': {'Lat': 38.06769444444445, 'Lon': None},\n",
       " 'frame10532': {'Lat': 38.316944444444445, 'Lon': None},\n",
       " 'frame25589': {'Lat': 40.17252777777777, 'Lon': None},\n",
       " 'frame13985': {'Lat': 38.95861111111111, 'Lon': None},\n",
       " 'frame30184': {'Lat': 41.8385, 'Lon': None},\n",
       " 'frame3953': {'Lat': 37.73105555555556, 'Lon': None},\n",
       " 'frame13013': {'Lat': 38.91152777777778},\n",
       " 'frame24867': {'Lat': 39.68708333333333, 'Lon': None},\n",
       " 'frame17261': {'Lat': 38.878305555555556}}"
      ]
     },
     "execution_count": 228,
     "metadata": {},
     "output_type": "execute_result"
    }
   ],
   "source": [
    "#print a 10-sample of key-value pairs from replaced_lats\n",
    "{k: v for i, (k,v) in enumerate(dict((k, replaced_lats[k]) for k in replaced_lats.keys()).items()) if i < 10}"
   ]
  },
  {
   "cell_type": "code",
   "execution_count": 210,
   "metadata": {},
   "outputs": [
    {
     "data": {
      "text/plain": [
       "1496"
      ]
     },
     "execution_count": 210,
     "metadata": {},
     "output_type": "execute_result"
    }
   ],
   "source": [
    "{k_lat: v_lat.update({'Lon': None}) for (k_lat,v_lat) in replaced_lats.items() if k_lat in (replaced_lats.keys() - \n",
    "    replaced_lons.keys())}\n",
    "#this probably modified the original replaced_lats dictionary"
   ]
  },
  {
   "cell_type": "code",
   "execution_count": 342,
   "metadata": {},
   "outputs": [],
   "source": [
    "{k_lat: v_lat.update({'Lon': None}) for (k_lat,v_lat) in replaced_lats.items()}\n",
    "lats_not_lons = {k_lat: v_lat for (k_lat,v_lat) in replaced_lats.items() if k_lat \n",
    "                 in (replaced_lats.keys() - replaced_lons.keys())}\n",
    "{k_lon: v_lon.update({'Lat': None}) for (k_lon,v_lon) in replaced_lons.items()}\n",
    "lons_not_lats = {k_lon: v_lon for (k_lon,v_lon) in replaced_lons.items() if k_lon \n",
    "                 in (replaced_lons.keys() - replaced_lats.keys())}\n",
    "lats_and_lons = {k_lat_lon: {'Lat': replaced_lats[k_lat_lon]['Lat'], 'Lon': replaced_lons[k_lat_lon]['Lon']} \n",
    "                 for k_lat_lon in (replaced_lats.keys() & replaced_lons.keys())}\n",
    "dicts_to_merge = [lats_not_lons, lons_not_lats, lats_and_lons]\n",
    "merged_replacements = dict(ChainMap(*dicts_to_merge))\n",
    "\n",
    "# merged_replacements = {**{k_lat: v_lat.update({'Lon': None}) for (k_lat,v_lat) in replaced_lats.items() if k_lat in (replaced_lats.keys() - \n",
    "#     replaced_lons.keys())}, **{k_lon: v_lon.update({'Lat': None}) for (k_lon,v_lon) in \n",
    "#     replaced_lons.items() if k_lon in (replaced_lons.keys() - replaced_lats.keys())},\n",
    "#     **{k_lat_lon: {'Lat': replaced_lats[k_lat_lon]['Lat'], 'Lon': replaced_lons[k_lat_lon]['Lon']} for k_lat_lon in \n",
    "#      (replaced_lats.keys() & replaced_lons.keys())}}"
   ]
  },
  {
   "cell_type": "code",
   "execution_count": 270,
   "metadata": {},
   "outputs": [
    {
     "data": {
      "text/plain": [
       "256"
      ]
     },
     "execution_count": 270,
     "metadata": {},
     "output_type": "execute_result"
    }
   ],
   "source": [
    "len(lats_and_lons)"
   ]
  },
  {
   "cell_type": "code",
   "execution_count": 271,
   "metadata": {},
   "outputs": [
    {
     "data": {
      "text/plain": [
       "1496"
      ]
     },
     "execution_count": 271,
     "metadata": {},
     "output_type": "execute_result"
    }
   ],
   "source": [
    "len(lats_not_lons)"
   ]
  },
  {
   "cell_type": "code",
   "execution_count": 345,
   "metadata": {},
   "outputs": [
    {
     "data": {
      "text/plain": [
       "1496"
      ]
     },
     "execution_count": 345,
     "metadata": {},
     "output_type": "execute_result"
    }
   ],
   "source": [
    "len(replaced_lats.keys() - replaced_lons.keys())"
   ]
  },
  {
   "cell_type": "code",
   "execution_count": 272,
   "metadata": {},
   "outputs": [
    {
     "data": {
      "text/plain": [
       "{'frame30190': {'Lat': 41.84527777777778, 'Lon': None},\n",
       " 'frame6817': {'Lat': 38.06769444444445, 'Lon': None},\n",
       " 'frame10532': {'Lat': 38.316944444444445, 'Lon': None},\n",
       " 'frame25589': {'Lat': 40.17252777777777, 'Lon': None},\n",
       " 'frame13985': {'Lat': 38.95861111111111, 'Lon': None},\n",
       " 'frame30184': {'Lat': 41.8385, 'Lon': None},\n",
       " 'frame3953': {'Lat': 37.73105555555556, 'Lon': None},\n",
       " 'frame24867': {'Lat': 39.68708333333333, 'Lon': None},\n",
       " 'frame11176': {'Lat': 38.55972222222222, 'Lon': None},\n",
       " 'frame16619': {'Lat': 38.992111111111114, 'Lon': None}}"
      ]
     },
     "execution_count": 272,
     "metadata": {},
     "output_type": "execute_result"
    }
   ],
   "source": [
    "#print a 10-sample of key-value pairs from lats_not_lons\n",
    "{k: v for i, (k,v) in enumerate(dict((k, lats_not_lons[k]) for k in lats_not_lons.keys()).items()) if i < 10}"
   ]
  },
  {
   "cell_type": "code",
   "execution_count": 343,
   "metadata": {},
   "outputs": [
    {
     "data": {
      "text/plain": [
       "{'frame29245': {'Lon': 111.89122222222223, 'Lat': None},\n",
       " 'frame2400': {'Lon': 79.41436111111112, 'Lat': None},\n",
       " 'frame467': {'Lat': 38.819972222222226, 'Lon': None},\n",
       " 'frame24656': {'Lat': 39.55038888888889, 'Lon': None},\n",
       " 'frame5612': {'Lat': 38.40861111111111, 'Lon': None},\n",
       " 'frame17386': {'Lon': 98.10030555555555, 'Lat': None},\n",
       " 'frame9259': {'Lat': 38.200361111111114, 'Lon': None},\n",
       " 'frame30075': {'Lat': 41.778666666666666, 'Lon': None},\n",
       " 'frame30314': {'Lat': 41.91766666666666, 'Lon': None},\n",
       " 'frame3809': {'Lon': 81.03852777777777, 'Lat': None},\n",
       " 'frame1752': {'Lon': 78.88369444444444, 'Lat': None},\n",
       " 'frame21531': {'Lon': 104.10308333333333, 'Lat': None},\n",
       " 'frame35566': {'Lon': 118.60983333333333, 'Lat': None},\n",
       " 'frame4182': {'Lon': 81.25583333333333, 'Lat': None},\n",
       " 'frame21054': {'Lon': 103.66711111111111, 'Lat': None},\n",
       " 'frame15056': {'Lon': 94.66708333333334, 'Lat': None},\n",
       " 'frame37650': {'Lat': 46.72830555555556, 'Lon': None},\n",
       " 'frame27286': {'Lat': 40.23255555555556, 'Lon': 110.06755555555556},\n",
       " 'frame5984': {'Lon': 82.87888888888888, 'Lat': None},\n",
       " 'frame38698': {'Lon': 121.50638888888889, 'Lat': None},\n",
       " 'frame29438': {'Lat': 41.11288888888889, 'Lon': None},\n",
       " 'frame5927': {'Lat': 38.36427777777778, 'Lon': None},\n",
       " 'frame19598': {'Lon': 101.32630555555555, 'Lat': None},\n",
       " 'frame32444': {'Lon': 115.61619444444445, 'Lat': None},\n",
       " 'frame1821': {'Lon': 78.93366666666667, 'Lat': None},\n",
       " 'frame30733': {'Lon': 113.13836111111112, 'Lat': None},\n",
       " 'frame14323': {'Lon': 93.66430555555556, 'Lat': None},\n",
       " 'frame10162': {'Lon': 88.43633333333334, 'Lat': None},\n",
       " 'frame13468': {'Lon': 92.38102777777777, 'Lat': None},\n",
       " 'frame30389': {'Lat': 41.96180555555556, 'Lon': None},\n",
       " 'frame31302': {'Lon': 113.94052777777779, 'Lat': None},\n",
       " 'frame60': {'Lon': 77.03941666666667, 'Lat': None},\n",
       " 'frame36672': {'Lon': 119.4203888888889, 'Lat': None},\n",
       " 'frame32663': {'Lon': 115.90313888888889, 'Lat': None},\n",
       " 'frame817': {'Lon': 77.94111111111111, 'Lat': None},\n",
       " 'frame24904': {'Lon': 107.94216666666667, 'Lat': None},\n",
       " 'frame30863': {'Lon': 113.29169444444445, 'Lat': None},\n",
       " 'frame23337': {'Lon': 106.25694444444444, 'Lat': None},\n",
       " 'frame25837': {'Lon': 108.70602777777778, 'Lat': None},\n",
       " 'frame38868': {'Lon': 121.75897222222223, 'Lat': None},\n",
       " 'frame3178': {'Lon': 80.29452777777777, 'Lat': None},\n",
       " 'frame35945': {'Lat': 45.74758333333333, 'Lon': None},\n",
       " 'frame832': {'Lat': 38.90877777777778, 'Lon': None},\n",
       " 'frame23858': {'Lon': 106.89766666666668, 'Lat': None},\n",
       " 'frame35110': {'Lon': 118.13783333333333, 'Lat': None},\n",
       " 'frame30356': {'Lat': 41.955444444444446, 'Lon': None},\n",
       " 'frame35776': {'Lon': 118.85513888888889, 'Lat': None},\n",
       " 'frame7897': {'Lat': 38.20088888888889, 'Lon': None},\n",
       " 'frame30056': {'Lat': 41.75416666666667, 'Lon': None},\n",
       " 'frame13532': {'Lon': 92.48097222222222, 'Lat': None},\n",
       " 'frame31054': {'Lon': 113.5026388888889, 'Lat': None},\n",
       " 'frame20457': {'Lon': 102.70591666666667, 'Lat': None},\n",
       " 'frame13645': {'Lon': 92.64194444444445, 'Lat': None},\n",
       " 'frame39128': {'Lat': 47.56969444444445, 'Lon': None},\n",
       " 'frame35613': {'Lat': 45.625277777777775, 'Lon': None},\n",
       " 'frame4058': {'Lon': 81.21830555555556, 'Lat': None},\n",
       " 'frame30961': {'Lon': 113.4003888888889, 'Lat': None},\n",
       " 'frame431': {'Lon': 77.4281388888889, 'Lat': None},\n",
       " 'frame30090': {'Lat': 41.794444444444444, 'Lon': None},\n",
       " 'frame19923': {'Lon': 101.85538888888888, 'Lat': None},\n",
       " 'frame10208': {'Lon': 88.5033611111111, 'Lat': None},\n",
       " 'frame14903': {'Lon': 94.52361111111111, 'Lat': None},\n",
       " 'frame30015': {'Lat': 41.71436111111112, 'Lon': None},\n",
       " 'frame32880': {'Lon': 116.15211111111111, 'Lat': None},\n",
       " 'frame30399': {'Lon': 112.75308333333334, 'Lat': None},\n",
       " 'frame35351': {'Lat': 45.48930555555555, 'Lon': 118.40991666666667},\n",
       " 'frame5085': {'Lon': 81.88669444444444, 'Lat': None},\n",
       " 'frame13069': {'Lat': 38.92819444444444, 'Lon': None},\n",
       " 'frame36744': {'Lon': 119.53941666666667, 'Lat': None},\n",
       " 'frame27504': {'Lon': 110.32541666666667, 'Lat': None},\n",
       " 'frame37106': {'Lon': 120.08361111111111, 'Lat': None},\n",
       " 'frame35658': {'Lat': 45.64213888888889, 'Lon': None},\n",
       " 'frame28871': {'Lon': 111.65566666666668, 'Lat': None},\n",
       " 'frame29892': {'Lat': 41.59638888888889, 'Lon': None},\n",
       " 'frame1119': {'Lon': 78.34197222222221, 'Lat': None},\n",
       " 'frame32225': {'Lon': 115.31980555555555, 'Lat': None},\n",
       " 'frame28270': {'Lon': 111.26119444444444, 'Lat': None},\n",
       " 'frame8928': {'Lat': 38.22536111111111, 'Lon': None},\n",
       " 'frame26525': {'Lat': 40.369527777777776, 'Lon': None},\n",
       " 'frame23464': {'Lat': 39.64194444444444, 'Lon': None},\n",
       " 'frame22069': {'Lat': 39.77538888888889, 'Lon': None},\n",
       " 'frame25808': {'Lon': 108.70591666666667, 'Lat': None},\n",
       " 'frame12028': {'Lon': 90.6421388888889, 'Lat': None},\n",
       " 'frame38492': {'Lon': 121.22805555555556, 'Lat': None},\n",
       " 'frame27638': {'Lat': 40.172555555555554, 'Lon': None},\n",
       " 'frame8653': {'Lon': 86.30427777777777, 'Lat': None},\n",
       " 'frame11654': {'Lon': 90.3543611111111, 'Lat': None},\n",
       " 'frame3396': {'Lon': 80.51277777777777, 'Lat': None},\n",
       " 'frame8702': {'Lat': 38.23663888888889, 'Lon': None},\n",
       " 'frame26576': {'Lon': 109.43100000000001, 'Lat': None},\n",
       " 'frame24078': {'Lon': 11.196472222222223, 'Lat': None},\n",
       " 'frame26803': {'Lon': 109.58094444444444, 'Lat': None},\n",
       " 'frame36521': {'Lon': 119.21886111111111, 'Lat': None},\n",
       " 'frame3940': {'Lon': 81.18630555555556, 'Lat': None},\n",
       " 'frame23140': {'Lon': 106.12547222222221, 'Lat': None},\n",
       " 'frame30306': {'Lat': 41.912277777777774, 'Lon': None},\n",
       " 'frame11667': {'Lon': 90.37041666666666, 'Lat': None},\n",
       " 'frame36389': {'Lon': 119.22447222222222, 'Lat': None},\n",
       " 'frame5067': {'Lon': 81.94433333333333, 'Lat': None},\n",
       " 'frame18825': {'Lon': 100.30541666666666, 'Lat': None},\n",
       " 'frame240': {'Lat': 38.900749999999995, 'Lon': None},\n",
       " 'frame39360': {'Lat': 47.5825, 'Lon': 122.31991666666666},\n",
       " 'frame32195': {'Lon': 115.26447222222222, 'Lat': None},\n",
       " 'frame14654': {'Lon': 94.16697222222223, 'Lat': None},\n",
       " 'frame38333': {'Lon': 121.10341666666666, 'Lat': None},\n",
       " 'frame38536': {'Lon': 121.36147222222222, 'Lat': None},\n",
       " 'frame13232': {'Lon': 92.02816666666666, 'Lat': None},\n",
       " 'frame28905': {'Lon': 111.70311111111111, 'Lat': None},\n",
       " 'frame4126': {'Lon': 81.26680555555555, 'Lat': None},\n",
       " 'frame38386': {'Lon': 121.18136111111112, 'Lat': None},\n",
       " 'frame23184': {'Lon': 106.05875, 'Lat': None},\n",
       " 'frame19639': {'Lat': 39.33386111111111, 'Lon': None},\n",
       " 'frame19420': {'Lon': 101.05530555555555, 'Lat': None},\n",
       " 'frame17261': {'Lat': 38.878305555555556, 'Lon': 97.89775},\n",
       " 'frame35976': {'Lon': 119.1643888888889, 'Lat': None},\n",
       " 'frame2168': {'Lon': 79.17500000000001, 'Lat': None},\n",
       " 'frame27406': {'Lon': 110.17805555555556, 'Lat': None},\n",
       " 'frame22996': {'Lon': 105.97555555555556, 'Lat': None},\n",
       " 'frame19663': {'Lon': 101.42341666666667, 'Lat': None},\n",
       " 'frame30146': {'Lat': 41.81630555555555, 'Lon': None},\n",
       " 'frame19498': {'Lon': 101.16141666666667, 'Lat': None},\n",
       " 'frame38611': {'Lon': 121.41036111111111, 'Lat': None},\n",
       " 'frame36093': {'Lon': 119.35508333333333, 'Lat': None},\n",
       " 'frame19817': {'Lon': 101.67944444444444, 'Lat': None},\n",
       " 'frame13848': {'Lat': 38.93372222222222, 'Lon': None},\n",
       " 'frame37645': {'Lat': 46.72544444444445, 'Lon': None},\n",
       " 'frame36780': {'Lat': 46.255833333333335, 'Lon': None},\n",
       " 'frame36776': {'Lon': 119.59088888888888, 'Lat': None},\n",
       " 'frame29169': {'Lon': 111.91561111111112, 'Lat': None},\n",
       " 'frame2465': {'Lon': 79.47805555555556, 'Lat': None},\n",
       " 'frame6248': {'Lon': 83.25375, 'Lat': None},\n",
       " 'frame7430': {'Lon': 84.77552777777778, 'Lat': None},\n",
       " 'frame19831': {'Lon': 101.70272222222222, 'Lat': None},\n",
       " 'frame37194': {'Lon': 120.21422222222222, 'Lat': None},\n",
       " 'frame30212': {'Lat': 41.86972222222222, 'Lon': None},\n",
       " 'frame17573': {'Lon': 98.37825, 'Lat': None},\n",
       " 'frame36425': {'Lon': 119.22258333333333, 'Lat': None},\n",
       " 'frame25211': {'Lon': 11.275277777777777, 'Lat': None},\n",
       " 'frame24248': {'Lon': 107.33658333333332, 'Lat': None},\n",
       " 'frame30713': {'Lat': 42.25336111111111, 'Lon': None},\n",
       " 'frame31720': {'Lon': 114.55502777777778, 'Lat': None},\n",
       " 'frame30645': {'Lat': 42.200361111111114, 'Lon': None},\n",
       " 'frame1961': {'Lon': 78.99483333333333, 'Lat': None},\n",
       " 'frame12183': {'Lon': 90.6755, 'Lat': None},\n",
       " 'frame6090': {'Lon': 83.02541666666667, 'Lat': None},\n",
       " 'frame3129': {'Lon': 30.233361111111112, 'Lat': None},\n",
       " 'frame10580': {'Lat': 38.35602777777778, 'Lon': None},\n",
       " 'frame23890': {'Lat': 39.653083333333335, 'Lon': None},\n",
       " 'frame23339': {'Lat': 39.594861111111115, 'Lon': None},\n",
       " 'frame14166': {'Lon': 93.45591666666667, 'Lat': None},\n",
       " 'frame29907': {'Lat': 41.613527777777776, 'Lon': None},\n",
       " 'frame34082': {'Lon': 117.31422222222221, 'Lat': None},\n",
       " 'frame1335': {'Lon': 78.56472222222222, 'Lat': None},\n",
       " 'frame9586': {'Lat': 38.16716666666667, 'Lon': None},\n",
       " 'frame32379': {'Lon': 115.55208333333333, 'Lat': None},\n",
       " 'frame8578': {'Lon': 86.19758333333334, 'Lat': None},\n",
       " 'frame19765': {'Lon': 101.59302777777778, 'Lat': None},\n",
       " 'frame29660': {'Lat': 41.364222222222224, 'Lon': None},\n",
       " 'frame6210': {'Lon': 83.20225, 'Lat': None},\n",
       " 'frame12653': {'Lon': 91.17527777777778, 'Lat': None},\n",
       " 'frame19978': {'Lon': 101.92297222222223, 'Lat': None},\n",
       " 'frame11007': {'Lat': 38.48861111111111, 'Lon': None},\n",
       " 'frame27213': {'Lat': 40.283833333333334, 'Lon': None},\n",
       " 'frame39420': {'Lat': 47.530833333333334, 'Lon': None},\n",
       " 'frame4644': {'Lon': 81.55333333333333, 'Lat': None},\n",
       " 'frame36374': {'Lon': 119.23025, 'Lat': None},\n",
       " 'frame30367': {'Lat': 41.96163888888889, 'Lon': None},\n",
       " 'frame27201': {'Lat': 40.28941666666667, 'Lon': None},\n",
       " 'frame36723': {'Lon': 119.50466666666667, 'Lat': None},\n",
       " 'frame23851': {'Lon': 106.88641666666668, 'Lat': None},\n",
       " 'frame38402': {'Lon': 121.20033333333333, 'Lat': None},\n",
       " 'frame7003': {'Lat': 38.03380555555555, 'Lon': None},\n",
       " 'frame4112': {'Lon': 81.26705555555556, 'Lat': None},\n",
       " 'frame28677': {'Lat': 40.66161111111111, 'Lon': None},\n",
       " 'frame30425': {'Lat': 41.97808333333334, 'Lon': None},\n",
       " 'frame2355': {'Lon': 79.37552777777778, 'Lat': None},\n",
       " 'frame22676': {'Lon': 105.58105555555555, 'Lat': None},\n",
       " 'frame28269': {'Lon': 111.26083333333334, 'Lat': None},\n",
       " 'frame9932': {'Lat': 38.237944444444445, 'Lon': None},\n",
       " 'frame1968': {'Lat': 38.19211111111111, 'Lon': None},\n",
       " 'frame38659': {'Lon': 121.44619444444444, 'Lat': None},\n",
       " 'frame33945': {'Lon': 117.22275, 'Lat': None},\n",
       " 'frame25950': {'Lon': 108.71694444444445, 'Lat': None},\n",
       " 'frame37269': {'Lat': 46.41719444444444, 'Lon': None},\n",
       " 'frame32550': {'Lat': 43.17811111111111, 'Lon': None},\n",
       " 'frame9563': {'Lat': 38.16716666666667, 'Lon': None},\n",
       " 'frame28313': {'Lon': 111.29397222222222, 'Lat': None},\n",
       " 'frame38991': {'Lon': 121.92825, 'Lat': None},\n",
       " 'frame908': {'Lat': 38.9115, 'Lon': None},\n",
       " 'frame4258': {'Lon': 81.33658333333332, 'Lat': None},\n",
       " 'frame35492': {'Lon': 118.51997222222222, 'Lat': None},\n",
       " 'frame32912': {'Lon': 116.18636111111111, 'Lat': None},\n",
       " 'frame27685': {'Lat': 40.17197222222222, 'Lon': None},\n",
       " 'frame31020': {'Lon': 113.45372222222223, 'Lat': None},\n",
       " 'frame14583': {'Lat': 39.011472222222224, 'Lon': None},\n",
       " 'frame9157': {'Lat': 38.19472222222222, 'Lon': None},\n",
       " 'frame27383': {'Lat': 40.16719444444444, 'Lon': None},\n",
       " 'frame31149': {'Lon': 113.66661111111112, 'Lat': None},\n",
       " 'frame7949': {'Lat': 38.21416666666667, 'Lon': None},\n",
       " 'frame35641': {'Lon': 118.68366666666667, 'Lat': None},\n",
       " 'frame11735': {'Lon': 90.45605555555557, 'Lat': None},\n",
       " 'frame39215': {'Lat': 47.58186111111112, 'Lon': None},\n",
       " 'frame29547': {'Lat': 41.228750000000005, 'Lon': None},\n",
       " 'frame29849': {'Lat': 41.541916666666665, 'Lon': None},\n",
       " 'frame3987': {'Lon': 81.21388888888889, 'Lat': None},\n",
       " 'frame36476': {'Lon': 119.20202777777779, 'Lat': None},\n",
       " 'frame8328': {'Lon': 85.8526111111111, 'Lat': None},\n",
       " 'frame31145': {'Lon': 113.65925, 'Lat': None},\n",
       " 'frame30375': {'Lat': 41.96169444444445, 'Lon': None},\n",
       " 'frame15564': {'Lon': 95.43666666666667, 'Lat': None},\n",
       " 'frame13104': {'Lon': 91.83916666666666, 'Lat': None},\n",
       " 'frame12480': {'Lon': 90.91944444444445, 'Lat': None},\n",
       " 'frame11322': {'Lon': 90.02369444444444, 'Lat': None},\n",
       " 'frame2914': {'Lon': 79.96155555555556, 'Lat': None},\n",
       " 'frame8448': {'Lat': 38.26152777777778, 'Lon': None},\n",
       " 'frame11766': {'Lon': 90.50038888888889, 'Lat': None},\n",
       " 'frame30191': {'Lat': 41.84638888888889, 'Lon': None},\n",
       " 'frame36751': {'Lon': 119.55097222222221, 'Lat': None},\n",
       " 'frame12957': {'Lat': 38.89475, 'Lon': None},\n",
       " 'frame38814': {'Lon': 121.68702777777779, 'Lat': None},\n",
       " 'frame28698': {'Lat': 40.686499999999995, 'Lon': None},\n",
       " 'frame7462': {'Lon': 84.81702777777777, 'Lat': None},\n",
       " 'frame34767': {'Lon': 117.92183333333334, 'Lat': None},\n",
       " 'frame10501': {'Lon': 88.93880555555556, 'Lat': None},\n",
       " 'frame30395': {'Lat': 41.96188888888889, 'Lon': None},\n",
       " 'frame28888': {'Lon': 111.67983333333333, 'Lat': None},\n",
       " 'frame6399': {'Lat': 38.23394444444445, 'Lon': None},\n",
       " 'frame21817': {'Lon': 104.56427777777778, 'Lat': None},\n",
       " 'frame38917': {'Lon': 121.82275, 'Lat': None},\n",
       " 'frame21423': {'Lat': 39.55877777777778, 'Lon': 104.00869444444444},\n",
       " 'frame37379': {'Lon': 120.4503611111111, 'Lat': None},\n",
       " 'frame19492': {'Lon': 101.15302777777778, 'Lat': None},\n",
       " 'frame8389': {'Lon': 85.92166666666667, 'Lat': None},\n",
       " 'frame30958': {'Lon': 113.39755555555556, 'Lat': None},\n",
       " 'frame29517': {'Lat': 41.19819444444444, 'Lon': None},\n",
       " 'frame38034': {'Lon': 120.68336111111111, 'Lat': None},\n",
       " 'frame14115': {'Lon': 93.37269444444443, 'Lat': None},\n",
       " 'frame4463': {'Lon': 81.41158333333334, 'Lat': None},\n",
       " 'frame30221': {'Lat': 41.87822222222222, 'Lon': None},\n",
       " 'frame20023': {'Lon': 101.99727777777778, 'Lat': None},\n",
       " 'frame35261': {'Lat': 45.400305555555555, 'Lon': None},\n",
       " 'frame29467': {'Lat': 41.14625, 'Lon': None},\n",
       " 'frame4701': {'Lon': 81.56675, 'Lat': None},\n",
       " 'frame38981': {'Lat': 47.51433333333333, 'Lon': 121.91552777777778},\n",
       " 'frame19219': {'Lat': 39.186138888888884, 'Lon': None},\n",
       " 'frame30548': {'Lon': 112.92869444444445, 'Lat': None},\n",
       " 'frame36439': {'Lon': 119.22311111111111, 'Lat': None},\n",
       " 'frame18574': {'Lon': 99.91430555555556, 'Lat': None},\n",
       " 'frame30474': {'Lat': 42.02169444444444, 'Lon': None},\n",
       " 'frame25255': {'Lon': 108.04775, 'Lat': None},\n",
       " 'frame3998': {'Lon': 81.21991666666666, 'Lat': None},\n",
       " 'frame4648': {'Lat': 38.23694444444445, 'Lon': None},\n",
       " 'frame38676': {'Lon': 121.46908333333333, 'Lat': None},\n",
       " 'frame21093': {'Lon': 103.66975000000001, 'Lat': None},\n",
       " 'frame31706': {'Lon': 114.53808333333333, 'Lat': None},\n",
       " 'frame29900': {'Lat': 41.60588888888889, 'Lon': 112.08097222222221},\n",
       " 'frame16694': {'Lon': 97.09480555555555, 'Lat': None},\n",
       " 'frame15057': {'Lon': 94.66833333333334, 'Lat': None},\n",
       " 'frame5127': {'Lon': 82.00711111111112, 'Lat': None},\n",
       " 'frame29496': {'Lat': 41.18, 'Lon': None},\n",
       " 'frame32858': {'Lon': 116.135, 'Lat': None},\n",
       " 'frame9847': {'Lat': 38.221472222222225, 'Lon': None},\n",
       " 'frame4318': {'Lon': 81.36999999999999, 'Lat': None},\n",
       " 'frame38464': {'Lon': 121.28252777777777, 'Lat': None},\n",
       " 'frame2504': {'Lon': 79.51969444444444, 'Lat': None},\n",
       " 'frame1867': {'Lon': 78.93269444444445, 'Lat': None},\n",
       " 'frame3547': {'Lon': 80.70391666666667, 'Lat': None},\n",
       " 'frame2049': {'Lat': 38.111444444444444, 'Lon': 79.05833333333334},\n",
       " 'frame4626': {'Lat': 38.219722222222224, 'Lon': None},\n",
       " 'frame9570': {'Lon': 87.56588888888889, 'Lat': None},\n",
       " 'frame4000': {'Lon': 81.2205, 'Lat': None},\n",
       " 'frame24138': {'Lon': 107.23380555555556, 'Lat': None},\n",
       " 'frame2434': {'Lat': 37.83002777777778, 'Lon': 79.44330555555555},\n",
       " 'frame24604': {'Lat': 39.52861111111111, 'Lon': None},\n",
       " 'frame7109': {'Lon': 84.42105555555555, 'Lat': None},\n",
       " 'frame6169': {'Lon': 83.14269444444444, 'Lat': None},\n",
       " 'frame36017': {'Lon': 119.23113888888889, 'Lat': None},\n",
       " 'frame32924': {'Lon': 116.20205555555556, 'Lat': None},\n",
       " 'frame35534': {'Lon': 118.59422222222221, 'Lat': None},\n",
       " 'frame24678': {'Lat': 39.56430555555555, 'Lon': None},\n",
       " 'frame20371': {'Lat': 39.29475, 'Lon': None},\n",
       " 'frame3823': {'Lon': 81.0533611111111, 'Lat': None},\n",
       " 'frame30078': {'Lon': 112.27263888888889, 'Lat': None},\n",
       " 'frame11641': {'Lon': 90.33924999999999, 'Lat': None},\n",
       " 'frame7072': {'Lon': 84.36638888888888, 'Lat': None},\n",
       " 'frame4290': {'Lon': 81.35441666666667, 'Lat': None},\n",
       " 'frame35275': {'Lon': 118.34588888888888, 'Lat': None},\n",
       " 'frame23099': {'Lat': 39.601083333333335, 'Lon': 106.08905555555555},\n",
       " 'frame35675': {'Lat': 45.64769444444445, 'Lon': None},\n",
       " 'frame18065': {'Lon': 99.18366666666667, 'Lat': None},\n",
       " 'frame32235': {'Lon': 115.33758333333333, 'Lat': None},\n",
       " 'frame28328': {'Lon': 111.30169444444444, 'Lat': None},\n",
       " 'frame8422': {'Lat': 38.272638888888885, 'Lon': None},\n",
       " 'frame4136': {'Lon': 81.26716666666667, 'Lat': None},\n",
       " 'frame9844': {'Lon': 87.96433333333334, 'Lat': None},\n",
       " 'frame32342': {'Lat': 42.98083333333334, 'Lon': None},\n",
       " 'frame23233': {'Lon': 106.18852777777778, 'Lat': None},\n",
       " 'frame14213': {'Lon': 93.53083333333333, 'Lat': None},\n",
       " 'frame7907': {'Lon': 85.32086111111111, 'Lat': None},\n",
       " 'frame4795': {'Lon': 81.621, 'Lat': None},\n",
       " 'frame34918': {'Lat': 45.18108333333333, 'Lon': None},\n",
       " 'frame4198': {'Lon': 81.27072222222222, 'Lat': None},\n",
       " 'frame30029': {'Lat': 41.72375, 'Lon': None},\n",
       " 'frame29459': {'Lat': 41.13569444444445, 'Lon': None},\n",
       " 'frame31032': {'Lon': 113.471, 'Lat': None},\n",
       " 'frame33001': {'Lon': 116.31030555555556, 'Lat': None},\n",
       " 'frame13417': {'Lon': 92.31138888888889, 'Lat': None},\n",
       " 'frame13081': {'Lon': 91.80297222222222, 'Lat': None},\n",
       " 'frame20687': {'Lon': 103.07069444444444, 'Lat': None},\n",
       " 'frame32412': {'Lon': 115.58263888888888, 'Lat': None},\n",
       " 'frame28250': {'Lon': 111.25808333333333, 'Lat': None},\n",
       " 'frame12902': {'Lon': 91.53377777777777, 'Lat': None},\n",
       " 'frame29317': {'Lon': 111.91411111111111, 'Lat': None},\n",
       " 'frame29680': {'Lon': 112.04194444444444, 'Lat': None},\n",
       " 'frame23162': {'Lon': 106.13941666666668, 'Lat': None},\n",
       " 'frame2877': {'Lat': 37.77825, 'Lon': None},\n",
       " 'frame17266': {'Lon': 97.906, 'Lat': None},\n",
       " 'frame12484': {'Lon': 90.92544444444445, 'Lat': None},\n",
       " 'frame19855': {'Lon': 101.74230555555556, 'Lat': None},\n",
       " 'frame19574': {'Lon': 101.28783333333332, 'Lat': None},\n",
       " 'frame33914': {'Lon': 117.18883333333333, 'Lat': None},\n",
       " 'frame4719': {'Lat': 38.30880555555555, 'Lon': 81.56436111111111},\n",
       " 'frame27794': {'Lon': 110.71388888888889, 'Lat': None},\n",
       " 'frame39174': {'Lat': 47.58083333333334, 'Lon': None},\n",
       " 'frame2758': {'Lat': 37.82555555555556, 'Lon': None},\n",
       " 'frame19534': {'Lon': 101.22125, 'Lat': None},\n",
       " 'frame29314': {'Lat': 40.99216666666667, 'Lon': None},\n",
       " 'frame31186': {'Lon': 113.73375, 'Lat': None},\n",
       " 'frame39235': {'Lat': 47.58111111111111, 'Lon': 122.17086111111112},\n",
       " 'frame30025': {'Lat': 41.72102777777778, 'Lon': None},\n",
       " 'frame3431': {'Lon': 80.56147222222222, 'Lat': None},\n",
       " 'frame32434': {'Lon': 115.60638888888889, 'Lat': None},\n",
       " 'frame29554': {'Lat': 41.23697222222222, 'Lon': None},\n",
       " 'frame11875': {'Lon': 90.58083333333333, 'Lat': None},\n",
       " 'frame31758': {'Lon': 114.62086111111111, 'Lat': None},\n",
       " 'frame3644': {'Lon': 80.81705555555556, 'Lat': None},\n",
       " 'frame5719': {'Lat': 38.3975, 'Lon': None},\n",
       " 'frame17829': {'Lon': 98.79775, 'Lat': None},\n",
       " 'frame38292': {'Lat': 47.186388888888885, 'Lon': None},\n",
       " 'frame9771': {'Lon': 87.86149999999999, 'Lat': None},\n",
       " 'frame10531': {'Lon': 88.95308333333334, 'Lat': None},\n",
       " 'frame5669': {'Lat': 38.38916666666667, 'Lon': None},\n",
       " 'frame29310': {'Lon': 111.90519444444445, 'Lat': None},\n",
       " 'frame34622': {'Lon': 117.817, 'Lat': None},\n",
       " 'frame29832': {'Lat': 41.52036111111111, 'Lon': None},\n",
       " 'frame33678': {'Lon': 116.97058333333334, 'Lat': None},\n",
       " 'frame36913': {'Lon': 119.80147222222222, 'Lat': None},\n",
       " 'frame33026': {'Lon': 116.34888888888888, 'Lat': None},\n",
       " 'frame1326': {'Lon': 78.55361111111111, 'Lat': None},\n",
       " 'frame6648': {'Lat': 38.122638888888886, 'Lon': None},\n",
       " 'frame10059': {'Lon': 88.28166666666667, 'Lat': None},\n",
       " 'frame13629': {'Lon': 92.61719444444444, 'Lat': None},\n",
       " 'frame2631': {'Lon': 79.66472222222222, 'Lat': None},\n",
       " 'frame6366': {'Lon': 83.4175, 'Lat': None},\n",
       " 'frame31695': {'Lat': 42.70308333333334, 'Lon': None},\n",
       " 'frame37142': {'Lon': 120.1421388888889, 'Lat': None},\n",
       " 'frame15063': {'Lon': 94.67583333333334, 'Lat': None},\n",
       " 'frame29790': {'Lon': 112.05322222222222, 'Lat': None},\n",
       " 'frame32128': {'Lon': 115.15363888888889, 'Lat': None},\n",
       " 'frame2092': {'Lat': 38.07027777777778, 'Lon': None},\n",
       " 'frame30068': {'Lat': 41.769638888888885, 'Lon': None},\n",
       " 'frame12882': {'Lon': 91.50202777777778, 'Lat': None},\n",
       " 'frame4777': {'Lon': 81.60586111111111, 'Lat': None},\n",
       " 'frame6349': {'Lat': 38.27163888888889, 'Lon': None},\n",
       " 'frame30130': {'Lon': 112.35363888888888, 'Lat': None},\n",
       " 'frame17633': {'Lon': 98.47538888888889, 'Lat': None},\n",
       " 'frame29096': {'Lon': 111.91016666666667, 'Lat': None},\n",
       " 'frame17805': {'Lon': 98.75583333333333, 'Lat': None},\n",
       " 'frame15695': {'Lon': 95.60886111111111, 'Lat': None},\n",
       " 'frame15651': {'Lon': 95.57822222222222, 'Lat': None},\n",
       " 'frame29120': {'Lat': 40.778194444444445, 'Lon': None},\n",
       " 'frame7329': {'Lat': 36.158833333333334, 'Lon': None},\n",
       " 'frame29167': {'Lon': 111.91575, 'Lat': None},\n",
       " 'frame8625': {'Lon': 86.26386111111111, 'Lat': None},\n",
       " 'frame30390': {'Lat': 41.96180555555556, 'Lon': None},\n",
       " 'frame19516': {'Lon': 101.19133333333333, 'Lat': None},\n",
       " 'frame32966': {'Lon': 116.26197222222223, 'Lat': None},\n",
       " 'frame9747': {'Lat': 38.18786111111111, 'Lon': None},\n",
       " 'frame33881': {'Lon': 117.1671388888889, 'Lat': None},\n",
       " 'frame27387': {'Lon': 110.15363888888889, 'Lat': None},\n",
       " 'frame28604': {'Lon': 111.43627777777778, 'Lat': None},\n",
       " 'frame6007': {'Lon': 82.90883333333333, 'Lat': None},\n",
       " 'frame34437': {'Lon': 117.69280555555557, 'Lat': None},\n",
       " 'frame12199': {'Lat': 38.67261111111111, 'Lon': None},\n",
       " 'frame33128': {'Lon': 116.50138888888888, 'Lat': None},\n",
       " 'frame29085': {'Lon': 111.90419444444446, 'Lat': None},\n",
       " 'frame14187': {'Lat': 38.983805555555556, 'Lon': None},\n",
       " 'frame19861': {'Lon': 101.75233333333334, 'Lat': None},\n",
       " 'frame15004': {'Lon': 94.60583333333332, 'Lat': None},\n",
       " 'frame5571': {'Lon': 82.30858333333333, 'Lat': None},\n",
       " 'frame33944': {'Lon': 117.22155555555555, 'Lat': None},\n",
       " 'frame36078': {'Lon': 119.33069444444445, 'Lat': None},\n",
       " 'frame37034': {'Lon': 119.97113888888889, 'Lat': None},\n",
       " 'frame29624': {'Lat': 41.319833333333335, 'Lon': None},\n",
       " 'frame35891': {'Lat': 45.723888888888894, 'Lon': None},\n",
       " 'frame32209': {'Lon': 115.2905, 'Lat': None},\n",
       " 'frame5083': {'Lon': 81.96722222222222, 'Lat': None},\n",
       " 'frame29936': {'Lat': 41.647416666666665, 'Lon': None},\n",
       " 'frame31476': {'Lon': 114.21988888888889, 'Lat': None},\n",
       " 'frame19617': {'Lon': 101.35319444444444, 'Lat': None},\n",
       " 'frame5709': {'Lat': 38.4005, 'Lon': None},\n",
       " 'frame22247': {'Lon': 105.08527777777778, 'Lat': None},\n",
       " 'frame1253': {'Lon': 78.4925, 'Lat': None},\n",
       " 'frame29812': {'Lat': 41.50972222222222, 'Lon': 112.05275},\n",
       " 'frame13011': {'Lat': 38.91144444444444, 'Lon': None},\n",
       " 'frame1828': {'Lon': 78.9336388888889, 'Lat': None},\n",
       " 'frame10840': {'Lon': 89.38111111111111, 'Lat': None},\n",
       " 'frame12673': {'Lon': 91.20319444444445, 'Lat': None},\n",
       " 'frame9602': {'Lat': 38.16719444444444, 'Lon': None},\n",
       " 'frame27282': {'Lon': 110.0675, 'Lat': None},\n",
       " 'frame39260': {'Lat': 47.57822222222222, 'Lon': None},\n",
       " 'frame35478': {'Lon': 118.50702777777778, 'Lat': None},\n",
       " 'frame4688': {'Lon': 81.57255555555555, 'Lat': None},\n",
       " 'frame20363': {'Lat': 39.29475, 'Lon': None},\n",
       " 'frame19774': {'Lon': 101.60797222222222, 'Lat': None},\n",
       " 'frame6283': {'Lat': 38.29961111111111, 'Lon': 83.30291666666666},\n",
       " 'frame2529': {'Lon': 79.56138888888889, 'Lat': None},\n",
       " 'frame10725': {'Lat': 38.38933333333333, 'Lon': None},\n",
       " 'frame5263': {'Lon': 82.04494444444444, 'Lat': None},\n",
       " 'frame92': {'Lat': 38.89216666666667, 'Lon': None},\n",
       " 'frame3715': {'Lat': 37.78458333333333, 'Lon': 80.91513888888889},\n",
       " 'frame27798': {'Lon': 110.71988888888889, 'Lat': None},\n",
       " 'frame5321': {'Lat': 38.42258333333333, 'Lon': None},\n",
       " 'frame19404': {'Lon': 101.03002777777778, 'Lat': None},\n",
       " 'frame34877': {'Lon': 117.96777777777778, 'Lat': None},\n",
       " 'frame36039': {'Lon': 119.26697222222222, 'Lat': None},\n",
       " 'frame6118': {'Lat': 38.32402777777778, 'Lon': 83.06713888888889},\n",
       " 'frame37375': {'Lon': 120.44769444444445, 'Lat': None},\n",
       " 'frame29671': {'Lat': 41.37847222222222, 'Lon': None},\n",
       " 'frame18806': {'Lat': 39.075500000000005, 'Lon': None},\n",
       " 'frame4289': {'Lat': 38.01972222222222, 'Lon': None},\n",
       " 'frame4292': {'Lon': 81.35438888888888, 'Lat': None},\n",
       " 'frame29480': {'Lat': 41.162166666666664, 'Lon': 112.02269444444444},\n",
       " 'frame27199': {'Lon': 109.99769444444445, 'Lat': None},\n",
       " 'frame34834': {'Lat': 45.089305555555555, 'Lon': None},\n",
       " 'frame34795': {'Lat': 45.044916666666666, 'Lon': None},\n",
       " 'frame1970': {'Lon': 78.99769444444445, 'Lat': None},\n",
       " 'frame1564': {'Lon': 78.71977777777778, 'Lat': None},\n",
       " 'frame26043': {'Lat': 40.117111111111114, 'Lon': None},\n",
       " 'frame28278': {'Lon': 111.26511111111111, 'Lat': None},\n",
       " 'frame35567': {'Lon': 118.61044444444444, 'Lat': None},\n",
       " 'frame28265': {'Lat': 40.33222222222223, 'Lon': 111.26091666666666},\n",
       " 'frame35533': {'Lon': 118.59263888888889, 'Lat': None},\n",
       " 'frame29877': {'Lat': 41.576750000000004, 'Lon': None},\n",
       " 'frame34848': {'Lon': 117.95591666666667, 'Lat': None},\n",
       " 'frame35963': {'Lon': 119.14322222222224, 'Lat': None},\n",
       " 'frame5464': {'Lon': 82.22113888888889, 'Lat': None},\n",
       " 'frame38264': {'Lon': 120.99772222222222, 'Lat': None},\n",
       " 'frame30254': {'Lat': 41.89497222222222, 'Lon': None},\n",
       " 'frame36958': {'Lon': 119.86861111111111, 'Lat': None},\n",
       " 'frame36223': {'Lon': 119.32974999999999, 'Lat': None},\n",
       " 'frame27563': {'Lon': 110.39775, 'Lat': None},\n",
       " 'frame7506': {'Lat': 38.172694444444446, 'Lon': None},\n",
       " 'frame29744': {'Lat': 41.46902777777778, 'Lon': None},\n",
       " 'frame36505': {'Lon': 119.20158333333333, 'Lat': None},\n",
       " 'frame13209': {'Lon': 91.99472222222222, 'Lat': None},\n",
       " 'frame27647': {'Lon': 110.50391666666667, 'Lat': None},\n",
       " 'frame37324': {'Lat': 46.46438888888889, 'Lon': None},\n",
       " 'frame39504': {'Lon': 122.27816666666666, 'Lat': None},\n",
       " 'frame30429': {'Lat': 41.98083333333334, 'Lon': None},\n",
       " 'frame19671': {'Lon': 101.43669444444444, 'Lat': None},\n",
       " 'frame23491': {'Lat': 39.620305555555554, 'Lon': None},\n",
       " 'frame29572': {'Lat': 41.25783333333333, 'Lon': None},\n",
       " 'frame28331': {'Lon': 111.30305555555556, 'Lat': None},\n",
       " 'frame18766': {'Lon': 100.22269444444444, 'Lat': None},\n",
       " 'frame7044': {'Lon': 84.32602777777777, 'Lat': None},\n",
       " 'frame27658': {'Lon': 110.51947222222222, 'Lat': None},\n",
       " 'frame20179': {'Lat': 39.30475, 'Lon': None},\n",
       " 'frame7683': {'Lat': 38.14761111111111, 'Lon': None},\n",
       " 'frame34948': {'Lat': 45.20594444444445, 'Lon': 118.01980555555555},\n",
       " 'frame36358': {'Lon': 119.252, 'Lat': None},\n",
       " 'frame2653': {'Lon': 79.69213888888889, 'Lat': None},\n",
       " 'frame36436': {'Lon': 119.2226111111111, 'Lat': None},\n",
       " 'frame39111': {'Lat': 47.55888888888889, 'Lon': None},\n",
       " 'frame9859': {'Lon': 87.98375, 'Lat': None},\n",
       " 'frame36068': {'Lon': 119.31430555555555, 'Lat': None},\n",
       " 'frame17061': {'Lon': 97.61219444444444, 'Lat': None},\n",
       " 'frame36874': {'Lon': 119.74111111111111, 'Lat': None},\n",
       " 'frame28279': {'Lon': 111.26563888888889, 'Lat': None},\n",
       " 'frame4624': {'Lon': None, 'Lat': None},\n",
       " 'frame35446': {'Lon': 118.45936111111111, 'Lat': None},\n",
       " 'frame12133': {'Lon': 90.67111111111112, 'Lat': None},\n",
       " 'frame4454': {'Lon': 81.40041666666667, 'Lat': None},\n",
       " 'frame23468': {'Lat': 39.63925, 'Lon': None},\n",
       " 'frame789': {'Lat': 35.886944444444445, 'Lon': None},\n",
       " 'frame4783': {'Lon': 81.61166666666666, 'Lat': None},\n",
       " 'frame26909': {'Lon': 109.66425000000001, 'Lat': None},\n",
       " 'frame30392': {'Lat': 41.96183333333334, 'Lon': None},\n",
       " 'frame29501': {'Lat': 41.18416666666666, 'Lon': None},\n",
       " 'frame37731': {'Lon': 120.35363888888888, 'Lat': None},\n",
       " 'frame5060': {'Lat': 38.45594444444445, 'Lon': None},\n",
       " 'frame4532': {'Lon': 81.44769444444445, 'Lat': None},\n",
       " 'frame2159': {'Lon': 79.16777777777779, 'Lat': None},\n",
       " 'frame4242': {'Lon': 81.31938888888888, 'Lat': None},\n",
       " 'frame22484': {'Lon': 105.3505, 'Lat': None},\n",
       " 'frame29598': {'Lat': 41.288333333333334, 'Lon': None},\n",
       " 'frame19845': {'Lon': 101.72580555555555, 'Lat': None},\n",
       " 'frame30802': {'Lon': 113.21994444444445, 'Lat': None},\n",
       " 'frame25478': {'Lon': 108.29766666666667, 'Lat': None},\n",
       " 'frame39059': {'Lon': 122.02091666666666, 'Lat': None},\n",
       " 'frame20857': {'Lon': 103.35452777777778, 'Lat': None},\n",
       " 'frame6433': {'Lat': 38.19944444444444, 'Lon': None},\n",
       " 'frame8920': {'Lon': 86.68930555555556, 'Lat': None},\n",
       " 'frame5276': {'Lat': 38.419916666666666, 'Lon': None},\n",
       " 'frame5209': {'Lon': 82.02055555555556, 'Lat': None},\n",
       " 'frame29384': {'Lat': 41.06177777777778, 'Lon': None},\n",
       " 'frame8186': {'Lat': 38.25047222222222, 'Lon': None},\n",
       " 'frame8178': {'Lon': None, 'Lat': None},\n",
       " 'frame30301': {'Lat': 41.91013888888889, 'Lon': None},\n",
       " 'frame22806': {'Lon': 105.72275, 'Lat': None},\n",
       " 'frame19390': {'Lon': 101.01611111111112, 'Lat': None},\n",
       " 'frame13398': {'Lat': 38.961555555555556, 'Lon': None},\n",
       " 'frame16393': {'Lon': 96.69769444444445, 'Lat': None},\n",
       " 'frame29534': {'Lat': 41.21613888888889, 'Lon': None},\n",
       " 'frame27506': {'Lon': 110.32836111111111, 'Lat': None},\n",
       " 'frame29789': {'Lon': 112.05305555555556, 'Lat': None},\n",
       " 'frame24048': {'Lon': 107.15586111111112, 'Lat': None},\n",
       " 'frame31570': {'Lon': 114.35330555555555, 'Lat': None},\n",
       " 'frame19649': {'Lon': 101.40011111111112, 'Lat': None},\n",
       " 'frame1124': {'Lon': 78.34766666666667, 'Lat': None},\n",
       " 'frame25853': {'Lon': 108.70866666666667, 'Lat': None},\n",
       " 'frame18391': {'Lon': 99.62277777777777, 'Lat': None},\n",
       " 'frame29787': {'Lon': 112.05280555555555, 'Lat': None},\n",
       " 'frame550': {'Lat': 38.79775, 'Lon': None},\n",
       " 'frame26748': {'Lon': 109.5475, 'Lat': None},\n",
       " 'frame19793': {'Lon': 101.65613888888889, 'Lat': None},\n",
       " 'frame23844': {'Lon': 106.87533333333333, 'Lat': None},\n",
       " 'frame38825': {'Lon': 121.70094444444445, 'Lat': None},\n",
       " 'frame25222': {'Lon': 108.00027777777778, 'Lat': None},\n",
       " 'frame3556': {'Lat': 37.86141666666667, 'Lon': None},\n",
       " 'frame7842': {'Lon': 85.23147222222222, 'Lat': None},\n",
       " 'frame10736': {'Lon': 89.22272222222223, 'Lat': None},\n",
       " 'frame21073': {'Lat': 39.26438888888889, 'Lon': None},\n",
       " 'frame32708': {'Lon': 115.95366666666666, 'Lat': None},\n",
       " 'frame14675': {'Lat': 39.02169444444444, 'Lon': None},\n",
       " 'frame5203': {'Lon': 82.01972222222223, 'Lat': None},\n",
       " 'frame17480': {'Lon': 98.22530555555555, 'Lat': None},\n",
       " 'frame7932': {'Lon': 85.35866666666666, 'Lat': None},\n",
       " 'frame8120': {'Lon': 85.63386111111112, 'Lat': None},\n",
       " 'frame35309': {'Lon': 118.37713888888888, 'Lat': None},\n",
       " 'frame34699': {'Lon': 117.85497222222222, 'Lat': None},\n",
       " 'frame27964': {'Lon': 110.95202777777779, 'Lat': None},\n",
       " 'frame17413': {'Lat': 38.85713888888889, 'Lon': None},\n",
       " 'frame36611': {'Lat': 46.220111111111116, 'Lon': None},\n",
       " 'frame32905': {'Lon': 116.17791666666668, 'Lat': None},\n",
       " 'frame13632': {'Lat': 38.939277777777775, 'Lon': None},\n",
       " 'frame23106': {'Lon': 106.09477777777778, 'Lat': None},\n",
       " 'frame22094': {'Lat': 39.77811111111111, 'Lon': None},\n",
       " 'frame6858': {'Lon': 84.06583333333333, 'Lat': None},\n",
       " 'frame28240': {'Lon': 111.25891666666666, 'Lat': None},\n",
       " 'frame30631': {'Lon': 113.01572222222222, 'Lat': None},\n",
       " 'frame8154': {'Lat': 38.23938888888889, 'Lon': None},\n",
       " 'frame29172': {'Lon': 111.91544444444445, 'Lat': None},\n",
       " 'frame30386': {'Lat': 41.96177777777778, 'Lon': None},\n",
       " 'frame16021': {'Lon': 96.09211111111111, 'Lat': None},\n",
       " 'frame23496': {'Lon': 106.43366666666667, 'Lat': None},\n",
       " 'frame28082': {'Lon': 111.1048611111111, 'Lat': None},\n",
       " 'frame29363': {'Lat': 41.040277777777774, 'Lon': 111.95066666666666},\n",
       " 'frame12775': {'Lon': 91.34513888888888, 'Lat': None},\n",
       " 'frame23814': {'Lat': 39.658833333333334, 'Lon': None},\n",
       " 'frame12530': {'Lon': 90.99205555555555, 'Lat': None},\n",
       " 'frame30333': {'Lat': 41.93286111111111, 'Lon': 112.65013888888889},\n",
       " 'frame25075': {'Lon': 107.86027777777777, 'Lat': None},\n",
       " 'frame33195': {'Lat': 43.611583333333336, 'Lon': None},\n",
       " 'frame36259': {'Lon': 119.32825, 'Lat': None},\n",
       " 'frame29865': {'Lat': 41.56216666666666, 'Lon': 112.06972222222223},\n",
       " 'frame31136': {'Lon': 113.64272222222223, 'Lat': None},\n",
       " 'frame36281': {'Lon': 119.33769444444444, 'Lat': None},\n",
       " 'frame28750': {'Lon': 111.50775, 'Lat': None},\n",
       " 'frame34433': {'Lon': 117.68813888888889, 'Lat': None},\n",
       " 'frame30289': {'Lat': 41.90338888888889, 'Lon': None},\n",
       " 'frame27224': {'Lon': 110.02066666666667, 'Lat': None},\n",
       " 'frame30475': {'Lat': 42.02272222222222, 'Lon': None},\n",
       " 'frame29418': {'Lon': 111.99455555555555, 'Lat': None},\n",
       " 'frame11855': {'Lat': 38.63286111111111, 'Lon': 90.57194444444444},\n",
       " 'frame32486': {'Lon': 115.66386111111112, 'Lat': None},\n",
       " 'frame23936': {'Lat': 39.56227777777777, 'Lon': 107.02166666666666},\n",
       " 'frame7368': {'Lon': 84.70591666666667, 'Lat': None},\n",
       " 'frame21261': {'Lon': 103.88383333333334, 'Lat': None},\n",
       " 'frame29745': {'Lat': 41.47, 'Lon': None},\n",
       " 'frame27470': {'Lon': 110.27538888888888, 'Lat': None},\n",
       " 'frame9565': {'Lat': 38.16716666666667, 'Lon': None},\n",
       " 'frame32682': {'Lon': 115.92525, 'Lat': None},\n",
       " 'frame819': {'Lat': 38.903749999999995, 'Lon': None},\n",
       " 'frame10909': {'Lon': 89.47552777777778, 'Lat': None},\n",
       " 'frame5414': {'Lon': 82.16652777777779, 'Lat': None},\n",
       " 'frame37514': {'Lat': 46.639361111111114, 'Lon': None},\n",
       " 'frame4728': {'Lon': 81.5535, 'Lat': None},\n",
       " 'frame31921': {'Lon': 114.8548611111111, 'Lat': None},\n",
       " 'frame38598': {'Lat': 47.400444444444446, 'Lon': 121.40158333333333},\n",
       " 'frame3355': {'Lon': 80.45880555555556, 'Lat': None},\n",
       " 'frame30599': {'Lon': 112.98305555555555, 'Lat': None},\n",
       " 'frame6635': {'Lon': 83.75027777777778, 'Lat': None},\n",
       " 'frame29367': {'Lat': 41.04388888888889, 'Lon': None},\n",
       " 'frame5462': {'Lon': 82.21925, 'Lat': None},\n",
       " 'frame19677': {'Lon': 101.44666666666667, 'Lat': None},\n",
       " 'frame33259': {'Lon': 116.65830555555556, 'Lat': None},\n",
       " 'frame33140': {'Lon': 116.51980555555555, 'Lat': None},\n",
       " 'frame11228': {'Lat': 38.57544444444445, 'Lon': None},\n",
       " 'frame30023': {'Lat': 41.719722222222224, 'Lon': None},\n",
       " 'frame27598': {'Lat': 40.16433333333333, 'Lon': None},\n",
       " 'frame19277': {'Lon': 100.90363888888889, 'Lat': None},\n",
       " 'frame9972': {'Lat': 38.23872222222222, 'Lon': None},\n",
       " 'frame19680': {'Lon': 101.4516388888889, 'Lat': None},\n",
       " 'frame8517': {'Lat': 38.242000000000004, 'Lon': None},\n",
       " 'frame17281': {'Lon': 97.93086111111111, 'Lat': None},\n",
       " 'frame7435': {'Lon': 84.78383333333333, 'Lat': None},\n",
       " 'frame18625': {'Lat': 39.023472222222225, 'Lon': None},\n",
       " 'frame4326': {'Lon': 81.37533333333333, 'Lat': None},\n",
       " 'frame33050': {'Lon': 116.38372222222223, 'Lat': None},\n",
       " 'frame29723': {'Lat': 41.44452777777777, 'Lon': None},\n",
       " 'frame5942': {'Lon': 82.81975, 'Lat': None},\n",
       " 'frame32264': {'Lon': 115.38658333333333, 'Lat': None},\n",
       " 'frame25864': {'Lon': 108.71430555555555, 'Lat': None},\n",
       " 'frame12569': {'Lon': 91.05047222222223, 'Lat': None},\n",
       " 'frame781': {'Lon': None, 'Lat': None},\n",
       " 'frame8025': {'Lat': 38.22263888888889, 'Lon': None},\n",
       " 'frame36926': {'Lon': 119.81722222222221, 'Lat': None},\n",
       " 'frame12092': {'Lon': 90.65433333333334, 'Lat': None},\n",
       " 'frame29692': {'Lat': 41.40497222222222, 'Lon': None},\n",
       " 'frame36710': {'Lon': 119.48333333333333, 'Lat': None},\n",
       " 'frame39039': {'Lon': 121.99416666666667, 'Lat': None},\n",
       " 'frame33973': {'Lon': 117.25697222222222, 'Lat': None},\n",
       " 'frame37705': {'Lon': 120.36402777777778, 'Lat': None},\n",
       " 'frame12869': {'Lat': 38.90333333333333, 'Lon': None},\n",
       " 'frame954': {'Lat': 38.93833333333333, 'Lon': None},\n",
       " 'frame30008': {'Lon': 112.20280555555556, 'Lat': None},\n",
       " 'frame10570': {'Lon': 88.98375, 'Lat': None},\n",
       " 'frame9015': {'Lat': 38.20283333333334, 'Lon': None},\n",
       " 'frame10339': {'Lat': 38.272, 'Lon': None},\n",
       " 'frame36055': {'Lon': 119.29308333333333, 'Lat': None},\n",
       " 'frame14123': {'Lon': 93.38563888888889, 'Lat': None},\n",
       " 'frame22404': {'Lat': 39.70308333333334, 'Lon': None},\n",
       " 'frame36232': {'Lon': 119.32391666666666, 'Lat': None},\n",
       " 'frame32174': {'Lon': 115.22822222222223, 'Lat': None},\n",
       " 'frame19238': {'Lon': 100.87538888888888, 'Lat': None},\n",
       " 'frame22210': {'Lat': 39.78361111111111, 'Lon': None},\n",
       " 'frame18827': {'Lat': 39.08927777777778, 'Lon': None},\n",
       " 'frame24159': {'Lon': 107.25055555555555, 'Lat': None},\n",
       " 'frame13557': {'Lon': 92.52016666666667, 'Lat': None},\n",
       " 'frame8742': {'Lat': 38.24491666666667, 'Lon': None},\n",
       " 'frame1870': {'Lon': 78.93372222222223, 'Lat': None},\n",
       " 'frame4028': {'Lon': 81.21177777777778, 'Lat': None},\n",
       " 'frame37940': {'Lat': 46.98613888888889, 'Lon': None},\n",
       " 'frame4643': {'Lon': 81.55202777777778, 'Lat': None},\n",
       " 'frame25438': {'Lon': 108.25475, 'Lat': None},\n",
       " 'frame37696': {'Lat': 46.778083333333335, 'Lon': None},\n",
       " 'frame2535': {'Lon': 79.56716666666667, 'Lat': None},\n",
       " 'frame9795': {'Lon': 87.89758333333334, 'Lat': None},\n",
       " 'frame30317': {'Lat': 41.92005555555556, 'Lon': None},\n",
       " 'frame33220': {'Lat': 43.631, 'Lon': None},\n",
       " 'frame16227': {'Lon': 96.43100000000001, 'Lat': None},\n",
       " 'frame28149': {'Lon': 111.17072222222222, 'Lat': None},\n",
       " 'frame11787': {'Lon': 90.52777777777777, 'Lat': None},\n",
       " 'frame28284': {'Lon': 111.26997222222222, 'Lat': None},\n",
       " 'frame30426': {'Lat': 41.97877777777778, 'Lon': None},\n",
       " 'frame26478': {'Lat': 40.36716666666667, 'Lon': None},\n",
       " 'frame29765': {'Lon': 112.05363888888888, 'Lat': None},\n",
       " 'frame5583': {'Lat': 38.42330555555555, 'Lon': None},\n",
       " 'frame493': {'Lon': 77.5005, 'Lat': None},\n",
       " 'frame28086': {'Lon': 111.10369444444444, 'Lat': None},\n",
       " 'frame5703': {'Lon': 82.47805555555556, 'Lat': None},\n",
       " 'frame36188': {'Lon': 119.34038888888888, 'Lat': None},\n",
       " 'frame34879': {'Lon': 117.96855555555555, 'Lat': None},\n",
       " 'frame28347': {'Lon': 111.30711111111111, 'Lat': None},\n",
       " 'frame19513': {'Lon': 101.18641666666667, 'Lat': None},\n",
       " 'frame1849': {'Lon': 78.93066666666667, 'Lat': None},\n",
       " 'frame12680': {'Lon': 91.21277777777777, 'Lat': None},\n",
       " 'frame10977': {'Lon': 89.5671111111111, 'Lat': None},\n",
       " 'frame25704': {'Lon': 108.57086111111111, 'Lat': None},\n",
       " 'frame39366': {'Lon': 122.31980555555555, 'Lat': None},\n",
       " 'frame28665': {'Lon': 111.45483333333334, 'Lat': None},\n",
       " 'frame28259': {'Lon': 111.26180555555555, 'Lat': None},\n",
       " 'frame18127': {'Lat': 38.88363888888889, 'Lon': None},\n",
       " 'frame5469': {'Lon': 82.22544444444445, 'Lat': None},\n",
       " 'frame19867': {'Lon': 101.76230555555556, 'Lat': None},\n",
       " 'frame33027': {'Lon': 116.35038888888889, 'Lat': None},\n",
       " 'frame28430': {'Lon': 111.38091666666666, 'Lat': None},\n",
       " 'frame12666': {'Lat': 38.822583333333334, 'Lon': None},\n",
       " 'frame20367': {'Lat': 39.29472222222222, 'Lon': None},\n",
       " 'frame33980': {'Lon': 117.26613888888889, 'Lat': None},\n",
       " 'frame12631': {'Lon': 91.14472222222223, 'Lat': None},\n",
       " 'frame6235': {'Lat': 38.32027777777778, 'Lon': None},\n",
       " 'frame30307': {'Lat': 41.91277777777778, 'Lon': None},\n",
       " 'frame4429': {'Lon': 81.38694444444445, 'Lat': None},\n",
       " 'frame23116': {'Lon': 106.10605555555556, 'Lat': None},\n",
       " 'frame30800': {'Lat': 42.33088888888889, 'Lon': 113.21725},\n",
       " 'frame32393': {'Lat': 43.03091666666666, 'Lon': None},\n",
       " 'frame1097': {'Lon': 78.31361111111111, 'Lat': None},\n",
       " 'frame12114': {'Lon': 90.66169444444445, 'Lat': None},\n",
       " 'frame22063': {'Lon': 104.85308333333333, 'Lat': None},\n",
       " 'frame32693': {'Lon': 115.93672222222223, 'Lat': None},\n",
       " 'frame3902': {'Lon': 81.14527777777778, 'Lat': None},\n",
       " 'frame1974': {'Lon': 76.99888888888889, 'Lat': None},\n",
       " 'frame4718': {'Lon': 81.56547222222223, 'Lat': None},\n",
       " 'frame26923': {'Lon': 109.68383333333334, 'Lat': None},\n",
       " 'frame19647': {'Lon': 101.39677777777779, 'Lat': None},\n",
       " 'frame9909': {'Lon': 88.05833333333334, 'Lat': None},\n",
       " 'frame20082': {'Lon': 102.0948611111111, 'Lat': None},\n",
       " 'frame659': {'Lon': 77.73361111111112, 'Lat': None},\n",
       " 'frame8346': {'Lon': 85.87538888888888, 'Lat': None},\n",
       " 'frame16449': {'Lon': 96.77252777777778, 'Lat': None},\n",
       " 'frame29519': {'Lat': 41.20005555555556, 'Lon': None},\n",
       " 'frame23252': {'Lon': 106.20836111111112, 'Lat': None},\n",
       " 'frame2079': {'Lon': 79.08333333333333, 'Lat': None},\n",
       " 'frame28218': {'Lon': 111.24291666666667, 'Lat': None},\n",
       " 'frame4882': {'Lon': 81.71997222222222, 'Lat': None},\n",
       " 'frame29785': {'Lat': 41.50980555555556, 'Lon': None},\n",
       " 'frame8375': {'Lat': 38.29194444444444, 'Lon': None},\n",
       " 'frame29182': {'Lon': 111.91486111111112, 'Lat': None},\n",
       " 'frame2103': {'Lon': 79.11138888888888, 'Lat': None},\n",
       " 'frame14569': {'Lon': 94.04472222222222, 'Lat': None},\n",
       " 'frame32336': {'Lon': 115.50502777777778, 'Lat': None},\n",
       " 'frame36244': {'Lon': 119.32241666666667, 'Lat': None},\n",
       " 'frame12678': {'Lat': 38.82819444444445, 'Lon': None},\n",
       " 'frame19221': {'Lat': 39.18630555555555, 'Lon': None},\n",
       " 'frame6724': {'Lon': 83.87255555555555, 'Lat': None},\n",
       " 'frame38377': {'Lat': 47.234722222222224, 'Lon': 121.1713888888889},\n",
       " 'frame16742': {'Lon': 97.16705555555556, 'Lat': None},\n",
       " 'frame19631': {'Lat': 39.33925, 'Lon': None},\n",
       " 'frame16510': {'Lon': 96.81425, 'Lat': None},\n",
       " 'frame19846': {'Lon': 101.72744444444444, 'Lat': None},\n",
       " 'frame36048': {'Lon': 119.28169444444444, 'Lat': None},\n",
       " 'frame11353': {'Lon': 90.06425, 'Lat': None},\n",
       " 'frame38041': {'Lat': 47.064277777777775, 'Lon': None},\n",
       " 'frame6865': {'Lon': 84.07266666666666, 'Lat': None},\n",
       " 'frame35204': {'Lon': 118.26475, 'Lat': None},\n",
       " 'frame8986': {'Lon': 86.78366666666666, 'Lat': None},\n",
       " 'frame4016': {'Lat': 37.79333333333333, 'Lon': None},\n",
       " 'frame19737': {'Lon': 101.54638888888888, 'Lat': None},\n",
       " 'frame831': {'Lat': 38.908833333333334, 'Lon': None},\n",
       " 'frame17529': {'Lon': 98.30591666666666, 'Lat': None},\n",
       " 'frame28655': {'Lon': 111.45030555555556, 'Lat': None},\n",
       " 'frame15738': {'Lon': 95.67108333333334, 'Lat': None},\n",
       " 'frame2891': {'Lon': 79.93361111111112, 'Lat': None},\n",
       " 'frame10090': {'Lon': 88.328, 'Lat': None},\n",
       " 'frame20004': {'Lon': 101.96569444444445, 'Lat': None},\n",
       " 'frame5693': {'Lat': 38.39772222222222, 'Lon': None},\n",
       " 'frame22441': {'Lon': 105.2983611111111, 'Lat': None},\n",
       " 'frame38133': {'Lat': 47.133722222222225, 'Lon': None},\n",
       " 'frame12324': {'Lon': 90.74194444444444, 'Lat': None},\n",
       " 'frame15542': {'Lon': 95.40050000000001, 'Lat': None},\n",
       " 'frame11577': {'Lon': 90.29305555555555, 'Lat': None},\n",
       " 'frame1094': {'Lon': 78.30924999999999, 'Lat': None},\n",
       " 'frame38506': {'Lon': 121.32466666666666, 'Lat': None},\n",
       " 'frame36841': {'Lat': 46.22252777777778, 'Lon': None},\n",
       " 'frame29420': {'Lat': 41.095333333333336, 'Lon': None},\n",
       " 'frame10502': {'Lon': 88.93927777777778, 'Lat': None},\n",
       " 'frame1008': {'Lon': 78.20030555555556, 'Lat': None},\n",
       " 'frame8635': {'Lon': 86.27727777777778, 'Lat': None},\n",
       " 'frame32635': {'Lon': 115.8706111111111, 'Lat': None},\n",
       " 'frame36483': {'Lon': 119.20194444444445, 'Lat': None},\n",
       " 'frame35213': {'Lat': 45.364333333333335, 'Lon': None},\n",
       " 'frame11613': {'Lon': 90.31252777777777, 'Lat': None},\n",
       " 'frame7701': {'Lon': 85.04472222222222, 'Lat': None},\n",
       " 'frame12591': {'Lon': 91.08380555555556, 'Lat': None},\n",
       " 'frame4236': {'Lon': 81.31166666666667, 'Lat': None},\n",
       " 'frame6008': {'Lat': 38.3525, 'Lon': None},\n",
       " 'frame2402': {'Lat': 37.80233333333333, 'Lon': None},\n",
       " 'frame38338': {'Lat': 47.214305555555555, 'Lon': None},\n",
       " 'frame16232': {'Lon': 96.43919444444445, 'Lat': None},\n",
       " 'frame19248': {'Lat': 39.20280555555556, 'Lon': None},\n",
       " 'frame36829': {'Lon': 119.67169444444446, 'Lat': None},\n",
       " 'frame28417': {'Lon': 111.37083333333332, 'Lat': None},\n",
       " 'frame30027': {'Lon': 112.23252777777778, 'Lat': None},\n",
       " 'frame8432': {'Lon': 85.98383333333334, 'Lat': None},\n",
       " 'frame969': {'Lon': 78.14927777777778, 'Lat': None},\n",
       " 'frame27792': {'Lon': 110.71083333333334, 'Lat': None},\n",
       " 'frame9142': {'Lat': 38.19725, 'Lon': None},\n",
       " 'frame29569': {'Lat': 41.25463888888889, 'Lon': None},\n",
       " 'frame12432': {'Lon': 90.85505555555555, 'Lat': None},\n",
       " 'frame30054': {'Lon': 112.25891666666666, 'Lat': None},\n",
       " 'frame18958': {'Lon': 100.51986111111111, 'Lat': None},\n",
       " 'frame5686': {'Lon': 82.45863888888888, 'Lat': None},\n",
       " 'frame10178': {'Lat': 38.26702777777778, 'Lon': None},\n",
       " 'frame24515': {'Lon': 107.7058888888889, 'Lat': None},\n",
       " 'frame6072': {'Lat': 38.32888888888889, 'Lon': None},\n",
       " 'frame28329': {'Lon': 111.30219444444444, 'Lat': None},\n",
       " 'frame24054': {'Lat': 39.60316666666667, 'Lon': None},\n",
       " 'frame4714': {'Lon': 81.56625, 'Lat': None},\n",
       " 'frame38138': {'Lon': 120.72897222222223, 'Lat': None},\n",
       " 'frame1761': {'Lat': 38.41163888888889, 'Lon': None},\n",
       " 'frame26907': {'Lon': 109.66147222222223, 'Lat': None},\n",
       " 'frame32421': {'Lon': 115.59230555555555, 'Lat': None},\n",
       " 'frame6073': {'Lat': 38.32877777777778, 'Lon': None},\n",
       " 'frame4199': {'Lon': 81.27191666666667, 'Lat': None},\n",
       " 'frame4968': {'Lat': 38.42258333333333, 'Lon': None},\n",
       " 'frame37513': {'Lon': 120.5196111111111, 'Lat': None},\n",
       " 'frame4147': {'Lon': 81.26708333333333, 'Lat': None},\n",
       " 'frame30431': {'Lat': 41.98216666666667, 'Lon': None},\n",
       " 'frame6614': {'Lon': 83.7226388888889, 'Lat': None},\n",
       " 'frame3147': {'Lon': 80.25861111111111, 'Lat': None},\n",
       " 'frame32310': {'Lat': 42.95880555555556, 'Lon': None},\n",
       " 'frame19675': {'Lon': 101.44333333333334, 'Lat': None},\n",
       " 'frame23489': {'Lon': 106.42552777777779, 'Lat': None},\n",
       " 'frame22117': {'Lon': 104.92113888888889, 'Lat': None},\n",
       " 'frame2120': {'Lon': 79.12369444444444, 'Lat': None},\n",
       " 'frame30410': {'Lat': 41.97005555555556, 'Lon': None},\n",
       " 'frame8882': {'Lon': 86.63386111111112, 'Lat': None},\n",
       " 'frame7030': {'Lon': 84.3055, 'Lat': None},\n",
       " 'frame4090': {'Lat': 37.858694444444446, 'Lon': 81.25552777777777},\n",
       " 'frame16609': {'Lon': 96.96438888888889, 'Lat': None},\n",
       " 'frame36157': {'Lon': 119.37533333333333, 'Lat': None},\n",
       " 'frame9697': {'Lon': 87.75608333333334, 'Lat': None},\n",
       " 'frame5213': {'Lon': 82.02030555555555, 'Lat': None},\n",
       " 'frame30330': {'Lat': 41.930499999999995, 'Lon': None},\n",
       " 'frame30194': {'Lat': 41.84975, 'Lon': None},\n",
       " 'frame8683': {'Lon': 86.34808333333334, 'Lat': None},\n",
       " 'frame30223': {'Lat': 41.87997222222222, 'Lon': None},\n",
       " 'frame30165': {'Lon': 112.41441666666667, 'Lat': None},\n",
       " 'frame2920': {'Lat': 37.7755, 'Lon': None},\n",
       " 'frame32998': {'Lon': 116.30588888888889, 'Lat': None},\n",
       " 'frame15164': {'Lon': 94.8308611111111, 'Lat': None},\n",
       " 'frame4760': {'Lon': 81.58361111111111, 'Lat': None},\n",
       " 'frame33450': {'Lon': 116.75447222222222, 'Lat': None},\n",
       " 'frame33169': {'Lon': 116.56372222222222, 'Lat': None},\n",
       " 'frame9685': {'Lon': 87.74155555555555, 'Lat': None},\n",
       " 'frame30112': {'Lat': 41.80544444444444, 'Lon': None},\n",
       " 'frame25543': {'Lon': 108.36441666666666, 'Lat': None},\n",
       " 'frame10270': {'Lon': 88.60038888888889, 'Lat': None},\n",
       " 'frame29064': {'Lon': 111.90166666666667, 'Lat': None},\n",
       " 'frame39257': {'Lon': 122.20052777777778, 'Lat': None},\n",
       " 'frame2607': {'Lat': 37.841944444444444, 'Lon': None},\n",
       " 'frame30770': {'Lon': 113.1803888888889, 'Lat': None},\n",
       " 'frame7006': {'Lon': 84.26972222222223, 'Lat': None},\n",
       " 'frame7696': {'Lon': 85.0376111111111, 'Lat': None},\n",
       " 'frame1344': {'Lon': 78.57544444444444, 'Lat': None},\n",
       " 'frame267': {'Lat': 38.88941666666667, 'Lon': None},\n",
       " 'frame16966': {'Lon': 97.48097222222222, 'Lat': None},\n",
       " 'frame15289': {'Lat': 39.069750000000006, 'Lon': None},\n",
       " 'frame33151': {'Lon': 116.53641666666667, 'Lat': None},\n",
       " 'frame19515': {'Lon': 101.18966666666667, 'Lat': None},\n",
       " 'frame5921': {'Lon': 82.78925, 'Lat': None},\n",
       " 'frame19858': {'Lon': 101.74727777777778, 'Lat': None},\n",
       " 'frame3012': {'Lon': 80.08166666666666, 'Lat': None},\n",
       " 'frame36330': {'Lon': 119.29527777777777, 'Lat': None},\n",
       " 'frame27934': {'Lat': 40.20027777777778, 'Lon': 110.9088888888889},\n",
       " 'frame23815': {'Lon': 106.83102777777778, 'Lat': None},\n",
       " 'frame25843': {'Lon': 108.70602777777778, 'Lat': None},\n",
       " 'frame27223': {'Lon': 110.01969444444444, 'Lat': None},\n",
       " 'frame18236': {'Lon': 99.37552777777778, 'Lat': None},\n",
       " 'frame9399': {'Lon': 87.31719444444444, 'Lat': None},\n",
       " 'frame29884': {'Lat': 41.58602777777778, 'Lon': None},\n",
       " 'frame27548': {'Lon': 110.3848888888889, 'Lat': None},\n",
       " 'frame23270': {'Lat': 39.53527777777778, 'Lon': 106.215},\n",
       " 'frame3521': {'Lon': 80.67380555555556, 'Lat': None},\n",
       " 'frame24107': {'Lon': 107.20605555555557, 'Lat': None},\n",
       " 'frame6145': {'Lat': 38.325388888888895, 'Lon': None},\n",
       " 'frame735': {'Lat': 38.858694444444446, 'Lon': None},\n",
       " 'frame14161': {'Lon': 93.44775, 'Lat': None},\n",
       " 'frame9755': {'Lon': 87.83836111111111, 'Lat': None},\n",
       " 'frame27126': {'Lon': 109.96441666666666, 'Lat': None},\n",
       " 'frame32694': {'Lon': 115.93780555555556, 'Lat': None},\n",
       " 'frame29057': {'Lon': 111.89200000000001, 'Lat': None},\n",
       " 'frame16583': {'Lon': 96.92255555555556, 'Lat': None},\n",
       " 'frame36526': {'Lat': 46.17586111111111, 'Lon': 119.22725},\n",
       " 'frame38414': {'Lat': 47.26391666666667, 'Lon': 121.21638888888889},\n",
       " 'frame3097': {'Lon': 80.1875, 'Lat': None},\n",
       " 'frame29782': {'Lat': 41.50980555555556, 'Lon': None},\n",
       " 'frame30554': {'Lat': 42.10044444444445, 'Lon': None},\n",
       " 'frame3375': {'Lon': 80.48402777777778, 'Lat': None},\n",
       " 'frame10032': {'Lon': 88.24208333333334, 'Lat': None},\n",
       " 'frame10497': {'Lat': 38.278305555555555, 'Lon': None},\n",
       " 'frame12351': {'Lat': 38.76155555555555, 'Lon': None},\n",
       " 'frame26911': {'Lon': 109.66705555555556, 'Lat': None},\n",
       " 'frame28156': {'Lon': 111.18036111111111, 'Lat': None},\n",
       " 'frame5087': {'Lon': 81.97272222222223, 'Lat': None},\n",
       " 'frame29822': {'Lat': 41.51138888888889, 'Lon': None},\n",
       " 'frame23068': {'Lat': 39.628277777777775, 'Lon': None},\n",
       " 'frame17621': {'Lon': 98.45608333333334, 'Lat': None},\n",
       " 'frame29375': {'Lat': 41.05283333333333, 'Lon': None},\n",
       " 'frame23783': {'Lat': 39.67552777777777, 'Lon': None},\n",
       " 'frame16085': {'Lon': 96.19697222222223, 'Lat': None},\n",
       " 'frame19077': {'Lon': 100.71708333333333, 'Lat': None},\n",
       " 'frame35259': {'Lon': 118.33316666666666, 'Lat': None},\n",
       " 'frame15184': {'Lon': 94.86305555555555, 'Lat': None},\n",
       " 'frame30875': {'Lon': 113.306, 'Lat': None},\n",
       " 'frame12891': {'Lon': 91.51611111111112, 'Lat': None},\n",
       " 'frame8391': {'Lon': 85.92461111111112, 'Lat': None},\n",
       " 'frame38478': {'Lon': 121.29277777777777, 'Lat': None},\n",
       " 'frame18729': {'Lon': 100.17030555555556, 'Lat': None},\n",
       " 'frame4319': {'Lon': 81.37113888888888, 'Lat': None},\n",
       " 'frame3499': {'Lat': 37.90047222222222, 'Lon': None},\n",
       " 'frame28345': {'Lon': 111.30536111111111, 'Lat': None},\n",
       " 'frame1479': {'Lon': 78.65586111111112, 'Lat': None},\n",
       " 'frame13288': {'Lon': 92.11472222222221, 'Lat': None},\n",
       " 'frame1422': {'Lon': 78.56027777777777, 'Lat': None},\n",
       " 'frame35668': {'Lat': 45.64216666666667, 'Lon': None},\n",
       " 'frame38831': {'Lon': 121.70305555555557, 'Lat': None},\n",
       " 'frame32274': {'Lon': 115.40425, 'Lat': None},\n",
       " 'frame38393': {'Lon': 121.18900000000001, 'Lat': None},\n",
       " 'frame23940': {'Lon': 107.02819444444444, 'Lat': None},\n",
       " 'frame14898': {'Lon': 94.51708333333333, 'Lat': None},\n",
       " 'frame15204': {'Lat': 39.09477777777778, 'Lon': 94.89305555555556},\n",
       " 'frame5666': {'Lat': 38.38861111111111, 'Lon': None},\n",
       " 'frame35280': {'Lon': 118.34952777777778, 'Lat': None},\n",
       " 'frame15205': {'Lon': 94.8948888888889, 'Lat': None},\n",
       " 'frame33986': {'Lon': 117.2725, 'Lat': None},\n",
       " 'frame10788': {'Lon': None, 'Lat': None},\n",
       " 'frame9931': {'Lon': 88.09216666666666, 'Lat': None},\n",
       " 'frame1937': {'Lon': 78.98097222222222, 'Lat': None},\n",
       " 'frame29115': {'Lon': 111.91025, 'Lat': None},\n",
       " 'frame8223': {'Lon': 85.75363888888889, 'Lat': None},\n",
       " 'frame13778': {'Lon': 92.84772222222222, 'Lat': None},\n",
       " 'frame27508': {'Lat': 40.171416666666666, 'Lon': None},\n",
       " 'frame38706': {'Lon': 121.52005555555556, 'Lat': None},\n",
       " 'frame30402': {'Lat': 41.96508333333334, 'Lon': None},\n",
       " 'frame38675': {'Lon': 121.46758333333334, 'Lat': None},\n",
       " 'frame12887': {'Lat': 38.906055555555554, 'Lon': None},\n",
       " 'frame30698': {'Lon': 113.08808333333333, 'Lat': None},\n",
       " 'frame29780': {'Lat': 41.50911111111111, 'Lon': None},\n",
       " 'frame18913': {'Lon': 100.44638888888889, 'Lat': None},\n",
       " 'frame17030': {'Lon': 97.57816666666666, 'Lat': None},\n",
       " 'frame30057': {'Lat': 41.75541666666667, 'Lon': None},\n",
       " 'frame9837': {'Lon': 87.95591666666667, 'Lat': None},\n",
       " 'frame37550': {'Lat': 46.671388888888885, 'Lon': None},\n",
       " 'frame17307': {'Lon': 97.97361111111111, 'Lat': None},\n",
       " 'frame18320': {'Lon': 99.50877777777778, 'Lat': None},\n",
       " 'frame8455': {'Lon': 86.01708333333333, 'Lat': None},\n",
       " 'frame29612': {'Lat': 41.305138888888884, 'Lon': None},\n",
       " 'frame11245': {'Lon': 89.92547222222223, 'Lat': None},\n",
       " 'frame3527': {'Lon': 80.68108333333333, 'Lat': None},\n",
       " 'frame28111': {'Lon': 111.12083333333332, 'Lat': None},\n",
       " 'frame18959': {'Lon': 100.52152777777778, 'Lat': None},\n",
       " 'frame11725': {'Lat': 38.63863888888889, 'Lon': None},\n",
       " 'frame10134': {'Lon': 88.39416666666668, 'Lat': None},\n",
       " 'frame36967': {'Lon': 119.88152777777778, 'Lat': None},\n",
       " 'frame36879': {'Lon': 119.74730555555556, 'Lat': None},\n",
       " 'frame9580': {'Lon': 87.58105555555555, 'Lat': None},\n",
       " 'frame28922': {'Lon': 111.72402777777778, 'Lat': None},\n",
       " 'frame25348': {'Lon': 108.14772222222223, 'Lat': None},\n",
       " 'frame38515': {'Lon': 121.33661111111111, 'Lat': None},\n",
       " 'frame740': {'Lat': 38.85805555555556, 'Lon': 77.84916666666666},\n",
       " 'frame30374': {'Lat': 41.96169444444445, 'Lon': None},\n",
       " 'frame34851': {'Lat': 45.10886111111111, 'Lon': None},\n",
       " 'frame38800': {'Lon': 121.66266666666667, 'Lat': None},\n",
       " 'frame36117': {'Lon': 119.38902777777778, 'Lat': None},\n",
       " 'frame19835': {'Lon': 101.70936111111111, 'Lat': None},\n",
       " 'frame27610': {'Lon': 110.45425, 'Lat': None},\n",
       " 'frame3979': {'Lon': 81.20863888888888, 'Lat': None},\n",
       " 'frame9662': {'Lon': 87.70597222222223, 'Lat': None},\n",
       " 'frame15957': {'Lon': 95.98086111111111, 'Lat': None},\n",
       " 'frame28996': {'Lon': 111.80638888888889, 'Lat': None},\n",
       " 'frame29839': {'Lat': 41.52902777777778, 'Lon': None},\n",
       " 'frame8000': {'Lat': 38.22141666666667, 'Lon': 85.46147222222223},\n",
       " 'frame38850': {'Lon': 121.73013888888889, 'Lat': None},\n",
       " 'frame38997': {'Lat': 47.52313888888889, 'Lon': 121.88619444444446},\n",
       " 'frame13604': {'Lon': 92.57833333333333, 'Lat': None},\n",
       " 'frame37834': {'Lat': 46.90591666666666, 'Lon': None},\n",
       " 'frame6083': {'Lat': 38.327222222222225, 'Lon': None},\n",
       " 'frame32665': {'Lat': 43.30047222222222, 'Lon': None},\n",
       " 'frame20251': {'Lon': 102.36425, 'Lat': None},\n",
       " 'frame36123': {'Lon': 119.38369444444444, 'Lat': None},\n",
       " 'frame19222': {'Lon': 100.86975, 'Lat': None},\n",
       " 'frame28841': {'Lon': 111.61416666666666, 'Lat': None},\n",
       " 'frame39147': {'Lat': 47.57805555555556, 'Lon': None},\n",
       " 'frame18167': {'Lon': 99.31744444444445, 'Lat': None},\n",
       " 'frame22166': {'Lon': 104.98108333333333, 'Lat': None},\n",
       " 'frame19917': {'Lon': 101.8453611111111, 'Lat': None},\n",
       " 'frame4945': {'Lon': 81.78658333333333, 'Lat': None},\n",
       " 'frame13189': {'Lon': 91.96722222222222, 'Lat': None},\n",
       " 'frame4073': {'Lon': 81.23705555555556, 'Lat': None},\n",
       " 'frame23326': {'Lon': 106.2448611111111, 'Lat': None},\n",
       " 'frame11236': {'Lon': 89.90402777777778, 'Lat': None},\n",
       " 'frame19816': {'Lon': 101.67783333333334, 'Lat': None},\n",
       " 'frame12671': {'Lon': 91.20027777777779, 'Lat': None},\n",
       " 'frame9008': {'Lon': 86.8171111111111, 'Lat': None},\n",
       " 'frame26347': {'Lon': 109.16430555555556, 'Lat': None},\n",
       " 'frame29074': {'Lon': 111.90433333333334, 'Lat': None},\n",
       " 'frame4237': {'Lon': 81.313, 'Lat': None},\n",
       " 'frame31798': {'Lon': 114.6876388888889, 'Lat': None},\n",
       " 'frame19414': {'Lon': 101.0453611111111, 'Lat': None},\n",
       " 'frame20561': {'Lat': 39.293638888888886, 'Lon': None},\n",
       " 'frame31349': {'Lon': 114.02547222222222, 'Lat': None},\n",
       " 'frame37082': {'Lon': 120.05027777777778, 'Lat': None},\n",
       " 'frame38146': {'Lon': 120.81713888888889, 'Lat': None},\n",
       " 'frame13041': {'Lat': 38.91694444444444, 'Lon': None},\n",
       " 'frame11918': {'Lat': 38.60461111111111, 'Lon': None},\n",
       " 'frame297': {'Lon': 77.24916666666667, 'Lat': None},\n",
       " 'frame7846': {'Lon': 85.23694444444445, 'Lat': None},\n",
       " 'frame4015': {'Lon': 81.21716666666667, 'Lat': None},\n",
       " 'frame4711': {'Lon': 81.56575, 'Lat': None},\n",
       " 'frame11583': {'Lat': 38.63261111111111, 'Lon': None},\n",
       " 'frame28325': {'Lat': 40.38180555555556, 'Lon': 111.30011111111111},\n",
       " 'frame8918': {'Lat': 38.230916666666666, 'Lon': None},\n",
       " 'frame23030': {'Lon': 106.0196111111111, 'Lat': None},\n",
       " 'frame32194': {'Lon': 115.26261111111111, 'Lat': None},\n",
       " 'frame3087': {'Lon': 80.187, 'Lat': None},\n",
       " 'frame29339': {'Lat': 41.01269444444444, 'Lon': None},\n",
       " 'frame15362': {'Lon': 95.12086111111111, 'Lat': None},\n",
       " 'frame22849': {'Lon': 105.78383333333333, 'Lat': None},\n",
       " 'frame32101': {'Lat': 42.947694444444444, 'Lon': None},\n",
       " 'frame19964': {'Lon': 101.91558333333334, 'Lat': None},\n",
       " 'frame25376': {'Lon': 108.17533333333334, 'Lat': None},\n",
       " 'frame14277': {'Lon': 93.59763888888888, 'Lat': None},\n",
       " 'frame38329': {'Lon': 121.0971111111111, 'Lat': None},\n",
       " 'frame35171': {'Lon': 118.2231388888889, 'Lat': None},\n",
       " 'frame33081': {'Lon': 116.43022222222223, 'Lat': None},\n",
       " 'frame30768': {'Lon': 113.17819444444444, 'Lat': None},\n",
       " 'frame21381': {'Lon': 103.97552777777778, 'Lat': None},\n",
       " ...}"
      ]
     },
     "execution_count": 343,
     "metadata": {},
     "output_type": "execute_result"
    }
   ],
   "source": [
    "merged_replacements"
   ]
  },
  {
   "cell_type": "code",
   "execution_count": 344,
   "metadata": {},
   "outputs": [
    {
     "data": {
      "text/plain": [
       "5841"
      ]
     },
     "execution_count": 344,
     "metadata": {},
     "output_type": "execute_result"
    }
   ],
   "source": [
    "len(merged_replacements)"
   ]
  },
  {
   "cell_type": "code",
   "execution_count": 277,
   "metadata": {},
   "outputs": [
    {
     "data": {
      "text/plain": [
       "0"
      ]
     },
     "execution_count": 277,
     "metadata": {},
     "output_type": "execute_result"
    }
   ],
   "source": [
    "sum(x is None for x in merged_replacements.values())"
   ]
  },
  {
   "cell_type": "code",
   "execution_count": null,
   "metadata": {},
   "outputs": [],
   "source": [
    "{merge_dicts(copy.deepcopy(replaced_lats),copy.deepcopy(replaced_lons)) for replaced_lats}\n",
    "\n",
    "merge_dicts(__, __) for dict(replaced_lats.items()"
   ]
  },
  {
   "cell_type": "code",
   "execution_count": null,
   "metadata": {},
   "outputs": [],
   "source": [
    "{k_lat_lon: {'Lat': replaced_lats[k_lat_lon]['Lat'], 'Lon': replaced_lons[k_lat_lon]['Lon']} for k_lat_lon in replaced_lats.key() }"
   ]
  },
  {
   "cell_type": "code",
   "execution_count": null,
   "metadata": {},
   "outputs": [],
   "source": [
    "'''\n",
    "{'frame8359': {'Lat': None, 'Lon': 85.89155555555556},\n",
    " 'frame6845': {'Lat': None, 'Lon': 84.04952777777778},\n",
    " 'frame7862': {'Lat': None, 'Lon': 85.25738888888888},\n",
    " 'frame32668': {'Lat': None, 'Lon': 115.90894444444444},\n",
    " 'frame467': {'Lat': None, 'Lon': 77.46622222222223},\n",
    " 'frame36963': {'Lat': None, 'Lon': None},\n",
    " 'frame24656': {'Lat': None, 'Lon': 107.78122222222223},\n",
    " 'frame6392': {'Lat': None, 'Lon': 83.43738888888889},\n",
    " 'frame9776': {'Lat': None, 'Lon': 87.869},\n",
    " 'frame5612': {'Lat': None, 'Lon': 82.36247222222222}}\n",
    "'''"
   ]
  },
  {
   "cell_type": "code",
   "execution_count": 206,
   "metadata": {},
   "outputs": [
    {
     "ename": "TypeError",
     "evalue": "unsupported operand type(s) for +: 'dict_items' and 'dict_items'",
     "output_type": "error",
     "traceback": [
      "\u001b[0;31m---------------------------------------------------------------------------\u001b[0m",
      "\u001b[0;31mTypeError\u001b[0m                                 Traceback (most recent call last)",
      "\u001b[0;32m<ipython-input-206-a400732665b1>\u001b[0m in \u001b[0;36m<module>\u001b[0;34m\u001b[0m\n\u001b[1;32m      2\u001b[0m \u001b[0mb_test\u001b[0m \u001b[0;34m=\u001b[0m \u001b[0;34m{\u001b[0m\u001b[0;34m'a'\u001b[0m\u001b[0;34m:\u001b[0m\u001b[0;34m'spam'\u001b[0m\u001b[0;34m,\u001b[0m\u001b[0;34m'c'\u001b[0m\u001b[0;34m:\u001b[0m\u001b[0;34m'ham'\u001b[0m\u001b[0;34m,\u001b[0m\u001b[0;34m'x'\u001b[0m\u001b[0;34m:\u001b[0m\u001b[0;34m'blah'\u001b[0m\u001b[0;34m}\u001b[0m\u001b[0;34m\u001b[0m\u001b[0m\n\u001b[1;32m      3\u001b[0m \u001b[0;34m\u001b[0m\u001b[0m\n\u001b[0;32m----> 4\u001b[0;31m \u001b[0mr_test\u001b[0m \u001b[0;34m=\u001b[0m \u001b[0mdict\u001b[0m\u001b[0;34m(\u001b[0m\u001b[0ma_test\u001b[0m\u001b[0;34m.\u001b[0m\u001b[0mitems\u001b[0m\u001b[0;34m(\u001b[0m\u001b[0;34m)\u001b[0m \u001b[0;34m+\u001b[0m \u001b[0mb_test\u001b[0m\u001b[0;34m.\u001b[0m\u001b[0mitems\u001b[0m\u001b[0;34m(\u001b[0m\u001b[0;34m)\u001b[0m\u001b[0;34m)\u001b[0m\u001b[0;34m\u001b[0m\u001b[0m\n\u001b[0m",
      "\u001b[0;31mTypeError\u001b[0m: unsupported operand type(s) for +: 'dict_items' and 'dict_items'"
     ]
    }
   ],
   "source": [
    "a_test = {'a':'foo','b':'bar','c':'baz'}\n",
    "b_test = {'a':'spam','c':'ham','x':'blah'}\n",
    "\n",
    "r_test = dict(a_test.items() + b_test.items())"
   ]
  },
  {
   "cell_type": "code",
   "execution_count": null,
   "metadata": {},
   "outputs": [],
   "source": []
  }
 ],
 "metadata": {
  "kernelspec": {
   "display_name": "Python 3",
   "language": "python",
   "name": "python3"
  },
  "language_info": {
   "codemirror_mode": {
    "name": "ipython",
    "version": 3
   },
   "file_extension": ".py",
   "mimetype": "text/x-python",
   "name": "python",
   "nbconvert_exporter": "python",
   "pygments_lexer": "ipython3",
   "version": "3.6.6"
  }
 },
 "nbformat": 4,
 "nbformat_minor": 2
}
