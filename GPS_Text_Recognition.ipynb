{
 "cells": [
  {
   "cell_type": "code",
   "execution_count": 1,
   "metadata": {},
   "outputs": [],
   "source": [
    "from PIL import Image, ImageOps\n",
    "import pytesseract"
   ]
  },
  {
   "cell_type": "code",
   "execution_count": 2,
   "metadata": {},
   "outputs": [],
   "source": [
    "import os\n",
    "import cv2"
   ]
  },
  {
   "cell_type": "code",
   "execution_count": 3,
   "metadata": {},
   "outputs": [],
   "source": [
    "import numpy as np\n",
    "import matplotlib.pyplot as plt\n",
    "%matplotlib inline"
   ]
  },
  {
   "cell_type": "code",
   "execution_count": 4,
   "metadata": {},
   "outputs": [],
   "source": [
    "import string"
   ]
  },
  {
   "cell_type": "code",
   "execution_count": 37,
   "metadata": {},
   "outputs": [],
   "source": [
    "import re"
   ]
  },
  {
   "cell_type": "code",
   "execution_count": 4,
   "metadata": {},
   "outputs": [
    {
     "name": "stdout",
     "output_type": "stream",
     "text": [
      "###################frame46.jpg###################\n",
      "KISS Mol Roe\n",
      "W77? 02' 23.1\"\n",
      "###################frame47.jpg###################\n",
      "KIS eto Roe\n",
      "W77? 02' 23.1\"\n",
      "###################frame45.jpg###################\n",
      "KIS Mtoe\n",
      "W77? 02' 23.3\"\n",
      "###################frame44.jpg###################\n",
      "LIS aa oX oy at\n",
      "W77° 02' 24.2\"\n",
      "###################frame50.jpg###################\n",
      "KISS etl Roe\n",
      "W77° 02' 21.9\"\n",
      "###################frame40.jpg###################\n",
      "IRIS aa X aos\n",
      "77° 02' 30.9\"\n",
      "###################frame41.jpg###################\n",
      "RIS ea eto Ro\n",
      "W77? 02' 29.1\"\n",
      "###################frame43.jpg###################\n",
      "N38° 53' 57.5\"\n",
      "W77° 02' 25.8\"\n",
      "###################frame42.jpg###################\n",
      "DIS aatoX aol tb\n",
      "W77? 02' 27.3\"\n",
      "###################frame25.jpg###################\n",
      "N38° 54' 05.6\"\n",
      "77° 02' 49.9\"\n",
      "###################frame31.jpg###################\n",
      "KISS Uo\n",
      "W77° 02' 46.1\"\n",
      "###################frame30.jpg###################\n",
      "DIS aak oe da Oo\n",
      "W77° 02' 47.8\"\n",
      "###################frame24.jpg###################\n",
      "KIS aaher oO\n",
      "W77° 02' 51.6\"\n",
      "###################frame32.jpg###################\n",
      "KISS Ro\n",
      "W77° 02' 44.3\"\n",
      "###################frame26.jpg###################\n",
      "KIS ero\n",
      "77° 02' 49.1\"\n",
      "###################frame27.jpg###################\n",
      "DIS er\n",
      "Ya eal as\n",
      "###################frame33.jpg###################\n",
      "KT Sete OS eo\n",
      "Ya eal 7S Oe\n",
      "###################frame37.jpg###################\n",
      "Disha ol 108 sa\n",
      "W77? 02' 36.2\" |\n",
      "###################frame23.jpg###################\n",
      "KIS aer oo\n",
      "W77° 02' 53.3\"\n",
      "###################frame22.jpg###################\n",
      "KIS eaer\n",
      "W77° 02' 55.2\"\n",
      "###################frame36.jpg###################\n",
      "N38° 54' 01.6\"\n",
      "W77° 02' 38.2\" _\n",
      "###################frame34.jpg###################\n",
      "N38° 54' 02.8\" —\n",
      "A Ta aa Ye a\n",
      "###################frame35.jpg###################\n",
      "DIS aa or aaa\n",
      "A doa Oa 10)\n",
      "###################frame21.jpg###################\n",
      "KIS aater oe\n",
      "77° 02' 57.0\"\n",
      "###################frame38.jpg###################\n",
      "LTS oe Oa\n",
      "W77? 02' 34.2\"\n",
      "###################frame39.jpg###################\n",
      "LIS aaoX aos\n",
      "W77? 02' 32.4\"\n",
      "###################frame29.jpg###################\n",
      "KIS aaer oo\n",
      "a eal ato oe\n",
      "###################frame28.jpg###################\n",
      "KISS ec ao\n",
      "a eal at\n",
      "###################frame49.jpg###################\n",
      "N38° 53' 56.1\"\n",
      "W77°? 02' 22.1\"\n",
      "###################frame48.jpg###################\n",
      "DIS ack aol\n",
      "W77? 02' 22.9\"\n"
     ]
    }
   ],
   "source": [
    "indir = './txt_boxes/test/'\n",
    "for root, dirs, filenames in os.walk(indir):\n",
    "    for filename in filenames:\n",
    "        print('###################' + filename + '###################')\n",
    "        im = Image.open(indir + filename)\n",
    "        #region = crop_box(im)\n",
    "        #text = pytesseract.image_to_string(region, lang='eng', config='--oem 1 --psm 1') #oem 1 means Neural Nets LSTM engine\n",
    "        text = pytesseract.image_to_string(im, lang='eng')\n",
    "        print(text)"
   ]
  },
  {
   "cell_type": "code",
   "execution_count": 53,
   "metadata": {},
   "outputs": [
    {
     "name": "stdout",
     "output_type": "stream",
     "text": [
      "###################frame46.jpg###################\n",
      "N38° 53' 56.5\"\n",
      "###################frame47.jpg###################\n",
      "N38° 53' 56.5\"\n",
      "###################frame45.jpg###################\n",
      "N38° 53' 56.8\"\n",
      "###################frame44.jpg###################\n",
      "N38° §3' 57.1\"\n",
      "###################frame50.jpg###################\n",
      "N38° 53' 55.5\"\n",
      "###################frame40.jpg###################\n",
      "N38° 53' 59.1\"\n",
      "###################frame41.jpg###################\n",
      "N38° §3' 58.6\"\n",
      "###################frame43.jpg###################\n",
      "N38° 53' 57.5\"\n",
      "###################frame42.jpg###################\n",
      "N38° 53' 58.1\"\n",
      "###################frame25.jpg###################\n",
      "N38° 54' 05.6\"\n",
      "###################frame31.jpg###################\n",
      "N38° 54' 04.6\"\n",
      "###################frame30.jpg###################\n",
      "N38° 54' 05.1\"\n",
      "###################frame24.jpg###################\n",
      "N38° 54' 06.0\"\n",
      "###################frame32.jpg###################\n",
      "N38° 54' 03.9\"\n",
      "###################frame26.jpg###################\n",
      "N38° 54' 05.4\"\n",
      "###################frame27.jpg###################\n",
      "N38° 54' 05.4\"\n",
      "###################frame33.jpg###################\n",
      "N38? 54' 03.3\"\n",
      "###################frame37.jpg###################\n",
      "N38° 54' 00.8\"\n",
      "###################frame23.jpg###################\n",
      "N38° 54' 06.5\"\n",
      "###################frame22.jpg###################\n",
      "N38° 54' 07.0\"\n",
      "###################frame36.jpg###################\n",
      "N38° 54' 01.6\"\n",
      "###################frame34.jpg###################\n",
      "N38° 54' 02.8\"\n",
      "###################frame35.jpg###################\n",
      "N38° 54' 02.2\"\n",
      "###################frame21.jpg###################\n",
      "N38° 54' 07.6\"\n",
      "###################frame38.jpg###################\n",
      "N38° 54' 00.2\"\n",
      "###################frame39.jpg###################\n",
      "N38° 53' 59.7\"\n",
      "###################frame29.jpg###################\n",
      "N38° 54' 05.3\"\n",
      "###################frame28.jpg###################\n",
      "N38° 54' 05.4\"\n",
      "###################frame49.jpg###################\n",
      "N38° 53' 56.1\"\n",
      "###################frame48.jpg###################\n",
      "N38° §3' 56.4\" *\n"
     ]
    }
   ],
   "source": [
    "indir = './txt_boxes/test/'\n",
    "for root, dirs, filenames in os.walk(indir):\n",
    "    for filename in filenames:\n",
    "        print('###################' + filename + '###################')\n",
    "        image = cv2.imread(indir + filename)\n",
    "        gray_image = cv2.cvtColor(image, cv2.COLOR_BGR2GRAY)\n",
    "        \n",
    "        result = cv2.threshold(gray_image,120,255,cv2.THRESH_BINARY)[1]\n",
    "        \n",
    "        #new_image = cv2.threshold(gray_image,190,255,cv2.THRESH_BINARY)[1]\n",
    "        #kernel = np.ones((1,1), np.uint8)\n",
    "        #result = cv2.dilate(new_image, kernel, iterations=1)\n",
    "        \n",
    "        result = cv2.bitwise_not(result)\n",
    "        \n",
    "        #im = Image.open(indir + filename)\n",
    "        #region = crop_box(im)\n",
    "        #text = pytesseract.image_to_string(region, lang='eng', config='--oem 1 --psm 1') #oem 1 means Neural Nets LSTM engine\n",
    "        \n",
    "        #plt.imshow(result, cmap='Greys')\n",
    "        #plt.show()\n",
    "        \n",
    "        text = pytesseract.image_to_string(result, lang='eng')\n",
    "        print(text.split('\\n')[0])"
   ]
  },
  {
   "cell_type": "code",
   "execution_count": 5,
   "metadata": {},
   "outputs": [
    {
     "name": "stdout",
     "output_type": "stream",
     "text": [
      "°\n"
     ]
    }
   ],
   "source": [
    "degree_sign = u'\\N{DEGREE SIGN}'\n",
    "print(degree_sign)"
   ]
  },
  {
   "cell_type": "code",
   "execution_count": 93,
   "metadata": {},
   "outputs": [
    {
     "name": "stdout",
     "output_type": "stream",
     "text": [
      "Loop counter:  100\n",
      "Loop counter:  200\n",
      "Loop counter:  300\n",
      "Loop counter:  400\n",
      "Loop counter:  500\n",
      "Loop counter:  600\n",
      "Loop counter:  700\n",
      "Loop counter:  800\n",
      "Loop counter:  900\n",
      "Loop counter:  1000\n",
      "Loop counter:  1100\n",
      "Loop counter:  1200\n",
      "Loop counter:  1300\n",
      "Loop counter:  1400\n",
      "Loop counter:  1500\n",
      "Loop counter:  1600\n",
      "Loop counter:  1700\n",
      "Loop counter:  1800\n",
      "Loop counter:  1900\n",
      "Loop counter:  2000\n",
      "Loop counter:  2100\n",
      "Loop counter:  2200\n",
      "Loop counter:  2300\n",
      "Loop counter:  2400\n",
      "Loop counter:  2500\n",
      "Loop counter:  2600\n",
      "Loop counter:  2700\n",
      "Loop counter:  2800\n",
      "Loop counter:  2900\n",
      "Loop counter:  3000\n",
      "Loop counter:  3100\n",
      "Loop counter:  3200\n",
      "Loop counter:  3300\n",
      "Loop counter:  3400\n",
      "Loop counter:  3500\n",
      "Loop counter:  3600\n",
      "Loop counter:  3700\n",
      "Loop counter:  3800\n",
      "Loop counter:  3900\n",
      "Loop counter:  4000\n",
      "Loop counter:  4100\n",
      "Loop counter:  4200\n",
      "Loop counter:  4300\n",
      "Loop counter:  4400\n",
      "Loop counter:  4500\n",
      "Loop counter:  4600\n",
      "Loop counter:  4700\n",
      "Loop counter:  4800\n",
      "Loop counter:  4900\n",
      "Loop counter:  5000\n",
      "Loop counter:  5100\n",
      "Loop counter:  5200\n",
      "Loop counter:  5300\n",
      "Loop counter:  5400\n",
      "Loop counter:  5500\n",
      "Loop counter:  5600\n",
      "Loop counter:  5700\n",
      "Loop counter:  5800\n",
      "Loop counter:  5900\n",
      "Loop counter:  6000\n",
      "Loop counter:  6100\n",
      "Loop counter:  6200\n",
      "Loop counter:  6300\n",
      "Loop counter:  6400\n",
      "Loop counter:  6500\n",
      "Loop counter:  6600\n",
      "Loop counter:  6700\n",
      "Loop counter:  6800\n",
      "Loop counter:  6900\n",
      "Loop counter:  7000\n",
      "Loop counter:  7100\n",
      "Loop counter:  7200\n",
      "Loop counter:  7300\n",
      "Loop counter:  7400\n",
      "Loop counter:  7500\n",
      "Loop counter:  7600\n",
      "Loop counter:  7700\n",
      "Loop counter:  7800\n",
      "Loop counter:  7900\n",
      "Loop counter:  8000\n",
      "Loop counter:  8100\n",
      "Loop counter:  8200\n",
      "Loop counter:  8300\n",
      "Loop counter:  8400\n",
      "Loop counter:  8500\n",
      "Loop counter:  8600\n",
      "Loop counter:  8700\n",
      "Loop counter:  8800\n",
      "Loop counter:  8900\n",
      "Loop counter:  9000\n",
      "Loop counter:  9100\n",
      "Loop counter:  9200\n",
      "Loop counter:  9300\n",
      "Loop counter:  9400\n",
      "Loop counter:  9500\n",
      "Loop counter:  9600\n",
      "Loop counter:  9700\n",
      "Loop counter:  9800\n",
      "Loop counter:  9900\n",
      "Loop counter:  10000\n",
      "Loop counter:  10100\n",
      "Loop counter:  10200\n",
      "Loop counter:  10300\n",
      "Loop counter:  10400\n",
      "Loop counter:  10500\n",
      "Loop counter:  10600\n",
      "Loop counter:  10700\n",
      "Loop counter:  10800\n",
      "Loop counter:  10900\n",
      "Loop counter:  11000\n",
      "Loop counter:  11100\n",
      "Loop counter:  11200\n",
      "Loop counter:  11300\n",
      "Loop counter:  11400\n",
      "Loop counter:  11500\n",
      "Loop counter:  11600\n",
      "Loop counter:  11700\n",
      "Loop counter:  11800\n",
      "Loop counter:  11900\n",
      "Loop counter:  12000\n",
      "Loop counter:  12100\n",
      "Loop counter:  12200\n",
      "Loop counter:  12300\n",
      "Loop counter:  12400\n",
      "Loop counter:  12500\n",
      "Loop counter:  12600\n",
      "Loop counter:  12700\n",
      "Loop counter:  12800\n",
      "Loop counter:  12900\n",
      "Loop counter:  13000\n",
      "Loop counter:  13100\n",
      "Loop counter:  13200\n",
      "Loop counter:  13300\n",
      "Loop counter:  13400\n",
      "Loop counter:  13500\n",
      "Loop counter:  13600\n",
      "Loop counter:  13700\n",
      "Loop counter:  13800\n",
      "Loop counter:  13900\n",
      "Loop counter:  14000\n",
      "Loop counter:  14100\n",
      "Loop counter:  14200\n",
      "Loop counter:  14300\n",
      "Loop counter:  14400\n",
      "Loop counter:  14500\n",
      "Loop counter:  14600\n",
      "Loop counter:  14700\n",
      "Loop counter:  14800\n",
      "Loop counter:  14900\n",
      "Loop counter:  15000\n",
      "Loop counter:  15100\n",
      "Loop counter:  15200\n",
      "Loop counter:  15300\n",
      "Loop counter:  15400\n",
      "Loop counter:  15500\n",
      "Loop counter:  15600\n",
      "Loop counter:  15700\n",
      "Loop counter:  15800\n",
      "Loop counter:  15900\n",
      "Loop counter:  16000\n",
      "Loop counter:  16100\n",
      "Loop counter:  16200\n",
      "Loop counter:  16300\n",
      "Loop counter:  16400\n",
      "Loop counter:  16500\n",
      "Loop counter:  16600\n",
      "Loop counter:  16700\n",
      "Loop counter:  16800\n",
      "Loop counter:  16900\n",
      "Loop counter:  17000\n",
      "Loop counter:  17100\n",
      "Loop counter:  17200\n",
      "Loop counter:  17300\n",
      "Loop counter:  17400\n",
      "Loop counter:  17500\n",
      "Loop counter:  17600\n",
      "Loop counter:  17700\n",
      "Loop counter:  17800\n",
      "Loop counter:  17900\n",
      "Loop counter:  18000\n",
      "Loop counter:  18100\n",
      "Loop counter:  18200\n",
      "Loop counter:  18300\n",
      "Loop counter:  18400\n",
      "Loop counter:  18500\n",
      "Loop counter:  18600\n",
      "Loop counter:  18700\n",
      "Loop counter:  18800\n",
      "Loop counter:  18900\n",
      "Loop counter:  19000\n",
      "Loop counter:  19100\n",
      "Loop counter:  19200\n",
      "Loop counter:  19300\n",
      "Loop counter:  19400\n",
      "Loop counter:  19500\n",
      "Loop counter:  19600\n",
      "Loop counter:  19700\n",
      "Loop counter:  19800\n",
      "Loop counter:  19900\n",
      "Loop counter:  20000\n",
      "Loop counter:  20100\n",
      "Loop counter:  20200\n",
      "Loop counter:  20300\n",
      "Loop counter:  20400\n",
      "Loop counter:  20500\n",
      "Loop counter:  20600\n",
      "Loop counter:  20700\n",
      "Loop counter:  20800\n",
      "Loop counter:  20900\n",
      "Loop counter:  21000\n",
      "Loop counter:  21100\n",
      "Loop counter:  21200\n",
      "Loop counter:  21300\n",
      "Loop counter:  21400\n",
      "Loop counter:  21500\n",
      "Loop counter:  21600\n",
      "Loop counter:  21700\n",
      "Loop counter:  21800\n",
      "Loop counter:  21900\n",
      "Loop counter:  22000\n",
      "Loop counter:  22100\n",
      "Loop counter:  22200\n",
      "Loop counter:  22300\n",
      "Loop counter:  22400\n",
      "Loop counter:  22500\n",
      "Loop counter:  22600\n",
      "Loop counter:  22700\n",
      "Loop counter:  22800\n",
      "Loop counter:  22900\n",
      "Loop counter:  23000\n",
      "Loop counter:  23100\n",
      "Loop counter:  23200\n",
      "Loop counter:  23300\n",
      "Loop counter:  23400\n",
      "Loop counter:  23500\n",
      "Loop counter:  23600\n",
      "Loop counter:  23700\n",
      "Loop counter:  23800\n",
      "Loop counter:  23900\n",
      "Loop counter:  24000\n",
      "Loop counter:  24100\n",
      "Loop counter:  24200\n",
      "Loop counter:  24300\n",
      "Loop counter:  24400\n",
      "Loop counter:  24500\n",
      "Loop counter:  24600\n",
      "Loop counter:  24700\n",
      "Loop counter:  24800\n",
      "Loop counter:  24900\n",
      "Loop counter:  25000\n",
      "Loop counter:  25100\n",
      "Loop counter:  25200\n",
      "Loop counter:  25300\n",
      "Loop counter:  25400\n",
      "Loop counter:  25500\n",
      "Loop counter:  25600\n",
      "Loop counter:  25700\n",
      "Loop counter:  25800\n",
      "Loop counter:  25900\n",
      "Loop counter:  26000\n",
      "Loop counter:  26100\n",
      "Loop counter:  26200\n",
      "Loop counter:  26300\n",
      "Loop counter:  26400\n",
      "Loop counter:  26500\n",
      "Loop counter:  26600\n",
      "Loop counter:  26700\n",
      "Loop counter:  26800\n",
      "Loop counter:  26900\n",
      "Loop counter:  27000\n",
      "Loop counter:  27100\n",
      "Loop counter:  27200\n",
      "Loop counter:  27300\n",
      "Loop counter:  27400\n",
      "Loop counter:  27500\n",
      "Loop counter:  27600\n",
      "Loop counter:  27700\n",
      "Loop counter:  27800\n",
      "Loop counter:  27900\n",
      "Loop counter:  28000\n",
      "Loop counter:  28100\n",
      "Loop counter:  28200\n",
      "Loop counter:  28300\n",
      "Loop counter:  28400\n",
      "Loop counter:  28500\n",
      "Loop counter:  28600\n",
      "Loop counter:  28700\n",
      "Loop counter:  28800\n",
      "Loop counter:  28900\n",
      "Loop counter:  29000\n",
      "Loop counter:  29100\n",
      "Loop counter:  29200\n",
      "Loop counter:  29300\n",
      "Loop counter:  29400\n",
      "Loop counter:  29500\n",
      "Loop counter:  29600\n",
      "Loop counter:  29700\n",
      "Loop counter:  29800\n",
      "Loop counter:  29900\n",
      "Loop counter:  30000\n",
      "Loop counter:  30100\n",
      "Loop counter:  30200\n",
      "Loop counter:  30300\n",
      "Loop counter:  30400\n",
      "Loop counter:  30500\n",
      "Loop counter:  30600\n",
      "Loop counter:  30700\n",
      "Loop counter:  30800\n",
      "Loop counter:  30900\n",
      "Loop counter:  31000\n",
      "Loop counter:  31100\n",
      "Loop counter:  31200\n",
      "Loop counter:  31300\n",
      "Loop counter:  31400\n",
      "Loop counter:  31500\n",
      "Loop counter:  31600\n",
      "Loop counter:  31700\n",
      "Loop counter:  31800\n",
      "Loop counter:  31900\n",
      "Loop counter:  32000\n",
      "Loop counter:  32100\n",
      "Loop counter:  32200\n",
      "Loop counter:  32300\n",
      "Loop counter:  32400\n",
      "Loop counter:  32500\n",
      "Loop counter:  32600\n",
      "Loop counter:  32700\n",
      "Loop counter:  32800\n",
      "Loop counter:  32900\n",
      "Loop counter:  33000\n",
      "Loop counter:  33100\n",
      "Loop counter:  33200\n",
      "Loop counter:  33300\n",
      "Loop counter:  33400\n",
      "Loop counter:  33500\n",
      "Loop counter:  33600\n",
      "Loop counter:  33700\n",
      "Loop counter:  33800\n",
      "Loop counter:  33900\n",
      "Loop counter:  34000\n",
      "Loop counter:  34100\n",
      "Loop counter:  34200\n",
      "Loop counter:  34300\n",
      "Loop counter:  34400\n",
      "Loop counter:  34500\n",
      "Loop counter:  34600\n",
      "Loop counter:  34700\n",
      "Loop counter:  34800\n",
      "Loop counter:  34900\n",
      "Loop counter:  35000\n",
      "Loop counter:  35100\n",
      "Loop counter:  35200\n",
      "Loop counter:  35300\n",
      "Loop counter:  35400\n",
      "Loop counter:  35500\n",
      "Loop counter:  35600\n",
      "Loop counter:  35700\n",
      "Loop counter:  35800\n",
      "Loop counter:  35900\n",
      "Loop counter:  36000\n",
      "Loop counter:  36100\n",
      "Loop counter:  36200\n",
      "Loop counter:  36300\n",
      "Loop counter:  36400\n",
      "Loop counter:  36500\n",
      "Loop counter:  36600\n",
      "Loop counter:  36700\n",
      "Loop counter:  36800\n",
      "Loop counter:  36900\n",
      "Loop counter:  37000\n",
      "Loop counter:  37100\n",
      "Loop counter:  37200\n",
      "Loop counter:  37300\n",
      "Loop counter:  37400\n",
      "Loop counter:  37500\n",
      "Loop counter:  37600\n",
      "Loop counter:  37700\n",
      "Loop counter:  37800\n",
      "Loop counter:  37900\n",
      "Loop counter:  38000\n",
      "Loop counter:  38100\n",
      "Loop counter:  38200\n",
      "Loop counter:  38300\n",
      "Loop counter:  38400\n",
      "Loop counter:  38500\n",
      "Loop counter:  38600\n",
      "Loop counter:  38700\n",
      "Loop counter:  38800\n",
      "Loop counter:  38900\n",
      "Loop counter:  39000\n",
      "Loop counter:  39100\n",
      "Loop counter:  39200\n",
      "Loop counter:  39300\n",
      "Loop counter:  39400\n",
      "Loop counter:  39500\n"
     ]
    }
   ],
   "source": [
    "indir = './txt_boxes/gps_box/'\n",
    "\n",
    "image_dict = {}\n",
    "bad_lats = {}\n",
    "bad_lons = {}\n",
    "imgs_w_ie = []\n",
    "degree_sign = u'\\N{DEGREE SIGN}'\n",
    "remove = string.punctuation + string.ascii_uppercase + degree_sign + '’' + '”'\n",
    "remove = remove.replace(\".\", \"\") # don't remove periods\n",
    "\n",
    "def lat_txt_to_float(line, bad_lats, dict_key):\n",
    "    mod_string = line.translate({ord(char): None for char in remove})\n",
    "    #print(mod_string)\n",
    "    pattern = re.compile(\"(\\d{2}\\s\\d{2}\\s\\d{2}\\.\\d)\")\n",
    "    if not(re.match(pattern, mod_string)):\n",
    "        bad_lats[dict_key] = mod_string\n",
    "    else:\n",
    "        try:\n",
    "            return float(mod_string.split(' ')[0]) + float(mod_string.split(' ')[1])/60 + \\\n",
    "                     float(mod_string.split(' ')[2][:4])/3600\n",
    "        except ValueError as e:\n",
    "            raise ValueError(f\"Check image: {filename.split('/')[-1]}\") from e\n",
    "            \n",
    "def lon_txt_to_float(line, bad_lons, dict_key):\n",
    "    mod_string = line.translate({ord(char): None for char in remove})\n",
    "    #print(mod_string)\n",
    "    pattern = re.compile(\"(\\d{2,3}\\s\\d{2}\\s\\d{2}\\.\\d)\")\n",
    "    if not(re.match(pattern, mod_string)):\n",
    "        bad_lons[dict_key] = mod_string\n",
    "    else:\n",
    "        try:\n",
    "            return float(mod_string.split(' ')[0]) + float(mod_string.split(' ')[1])/60 + \\\n",
    "                     float(mod_string.split(' ')[2][:4])/3600\n",
    "        except ValueError as e:\n",
    "            raise ValueError(f\"Check image: {filename.split('/')[-1]}\") from e\n",
    "\n",
    "loop_counter = 0\n",
    "\n",
    "for entry in os.scandir(indir):\n",
    "    loop_counter += 1\n",
    "    if loop_counter % 100 == 0:\n",
    "        print(\"Loop counter: \", loop_counter)\n",
    "    GPS_dict = {}\n",
    "    filename = entry.path\n",
    "    #print('###################' + filename.split('/')[-1] + '###################')\n",
    "    image = cv2.imread(filename)\n",
    "    gray_image = cv2.cvtColor(image, cv2.COLOR_BGR2GRAY)\n",
    "\n",
    "    result = cv2.threshold(gray_image,120,255,cv2.THRESH_BINARY)[1]\n",
    "\n",
    "    #new_image = cv2.threshold(gray_image,190,255,cv2.THRESH_BINARY)[1]\n",
    "    #kernel = np.ones((1,1), np.uint8)\n",
    "    #result = cv2.dilate(new_image, kernel, iterations=1)\n",
    "\n",
    "    result = cv2.bitwise_not(result)\n",
    "\n",
    "    #im = Image.open(indir + filename)\n",
    "    #region = crop_box(im)\n",
    "    #text = pytesseract.image_to_string(region, lang='eng', config='--oem 1 --psm 1') #oem 1 means Neural Nets LSTM engine\n",
    "\n",
    "    #plt.imshow(result, cmap='Greys')\n",
    "    #plt.show()\n",
    "                             \n",
    "    #text = pytesseract.image_to_string(result, lang='eng', config='-c tessedit_char_whitelist=’WN0123456789.° --oem 0')\n",
    "    text = pytesseract.image_to_string(result, lang='eng', config=\"\"\"-c tessedit_char_whitelist=’WN0123456789.°\\\\'\\\\\" --oem 0\"\"\")\n",
    "    #text = pytesseract.image_to_string(result, lang='eng')\n",
    "    \n",
    "    dict_key = filename.split('/')[-1].split('.')[0]\n",
    "    \n",
    "    try:\n",
    "        GPS_dict['Lat'] = lat_txt_to_float(text.split('\\n')[0], bad_lats, dict_key)\n",
    "    except IndexError:\n",
    "        imgs_w_ie.append({dict_key:('Lat',text)})\n",
    "\n",
    "    try:\n",
    "        GPS_dict['Lon'] = lon_txt_to_float(text.split('\\n')[1], bad_lons, dict_key)\n",
    "    except IndexError:\n",
    "        imgs_w_ie.append({dict_key:('Lon',text)})\n",
    "    \n",
    "    image_dict[dict_key] = GPS_dict\n",
    "    \n",
    "    #print(text.split('\\n')[0])\n",
    "    \n",
    "#print(bad_lats)\n",
    "#print(bad_lons)"
   ]
  },
  {
   "cell_type": "code",
   "execution_count": 100,
   "metadata": {},
   "outputs": [
    {
     "data": {
      "text/plain": [
       "39524"
      ]
     },
     "execution_count": 100,
     "metadata": {},
     "output_type": "execute_result"
    }
   ],
   "source": [
    "len(image_dict)"
   ]
  },
  {
   "cell_type": "code",
   "execution_count": 94,
   "metadata": {},
   "outputs": [
    {
     "data": {
      "text/plain": [
       "5089"
      ]
     },
     "execution_count": 94,
     "metadata": {},
     "output_type": "execute_result"
    }
   ],
   "source": [
    "len(bad_lons)"
   ]
  },
  {
   "cell_type": "code",
   "execution_count": 139,
   "metadata": {},
   "outputs": [
    {
     "data": {
      "text/plain": [
       "{'frame28907': '111 42 21 .6',\n",
       " 'frame6817': '84 00 35. 2 3',\n",
       " 'frame14998': '94 35 51 .9',\n",
       " 'frame17249': '97 52 41 .3',\n",
       " 'frame19516': '1011128.8.',\n",
       " 'frame16625': '96 59 241',\n",
       " 'frame6195': '831052.5 .',\n",
       " 'frame39188': '122 09 01 .8',\n",
       " 'frame18146': '99 18 41 .6',\n",
       " 'frame13013': '91 41 58 4'}"
      ]
     },
     "execution_count": 139,
     "metadata": {},
     "output_type": "execute_result"
    }
   ],
   "source": [
    "#print a 10-sample of key-value pairs from bad_lons\n",
    "{k: v for i, (k,v) in enumerate(dict((k, bad_lons[k]) for k in bad_lons.keys()).items()) if i < 10}"
   ]
  },
  {
   "cell_type": "code",
   "execution_count": 140,
   "metadata": {},
   "outputs": [
    {
     "data": {
      "text/plain": [
       "{'frame30190': '41  50 43.0',\n",
       " 'frame8184': '3815 00.1 5',\n",
       " 'frame6817': '38 04 03. 7  .',\n",
       " 'frame10532': '38 19 01 .0',\n",
       " 'frame25589': '4010 21.1',\n",
       " 'frame13985': '38 57 31 .0',\n",
       " 'frame30184': '41  50 18.6',\n",
       " 'frame3953': '37 43 51 .8',\n",
       " 'frame13013': '38 54 41 .5',\n",
       " 'frame24867': '39 4113.5 '}"
      ]
     },
     "execution_count": 140,
     "metadata": {},
     "output_type": "execute_result"
    }
   ],
   "source": [
    "#print a 10-sample of key-value pairs from bad_lats\n",
    "{k: v for i, (k,v) in enumerate(dict((k, bad_lats[k]) for k in bad_lats.keys()).items()) if i < 10}"
   ]
  },
  {
   "cell_type": "code",
   "execution_count": 95,
   "metadata": {},
   "outputs": [
    {
     "data": {
      "text/plain": [
       "2075"
      ]
     },
     "execution_count": 95,
     "metadata": {},
     "output_type": "execute_result"
    }
   ],
   "source": [
    "len(bad_lats)"
   ]
  },
  {
   "cell_type": "code",
   "execution_count": 101,
   "metadata": {},
   "outputs": [
    {
     "data": {
      "text/plain": [
       "486"
      ]
     },
     "execution_count": 101,
     "metadata": {},
     "output_type": "execute_result"
    }
   ],
   "source": [
    "#how many frames have both poorly OCR'd latitude and longitude values\n",
    "len(bad_lats.keys() & bad_lons.keys())"
   ]
  },
  {
   "cell_type": "code",
   "execution_count": 103,
   "metadata": {},
   "outputs": [
    {
     "data": {
      "text/plain": [
       "2075"
      ]
     },
     "execution_count": 103,
     "metadata": {},
     "output_type": "execute_result"
    }
   ],
   "source": [
    "len(image_dict.keys() & bad_lats.keys())"
   ]
  },
  {
   "cell_type": "code",
   "execution_count": 104,
   "metadata": {},
   "outputs": [
    {
     "data": {
      "text/plain": [
       "5089"
      ]
     },
     "execution_count": 104,
     "metadata": {},
     "output_type": "execute_result"
    }
   ],
   "source": [
    "len(image_dict.keys() & bad_lons.keys())"
   ]
  },
  {
   "cell_type": "code",
   "execution_count": 121,
   "metadata": {},
   "outputs": [
    {
     "data": {
      "text/plain": [
       "2075"
      ]
     },
     "execution_count": 121,
     "metadata": {},
     "output_type": "execute_result"
    }
   ],
   "source": [
    "#size of dictionary containing key-value pairs from image_dict for keys that are also found in bad_lats dictionary\n",
    "len(dict((k, image_dict[k]) for k in (image_dict.keys() & bad_lats.keys())))"
   ]
  },
  {
   "cell_type": "code",
   "execution_count": 117,
   "metadata": {},
   "outputs": [
    {
     "data": {
      "text/plain": [
       "{'frame8359': {'Lat': None, 'Lon': 85.89155555555556},\n",
       " 'frame6845': {'Lat': None, 'Lon': 84.04952777777778},\n",
       " 'frame7862': {'Lat': None, 'Lon': 85.25738888888888},\n",
       " 'frame32668': {'Lat': None, 'Lon': 115.90894444444444},\n",
       " 'frame467': {'Lat': None, 'Lon': 77.46622222222223},\n",
       " 'frame36963': {'Lat': None, 'Lon': None},\n",
       " 'frame24656': {'Lat': None, 'Lon': 107.78122222222223},\n",
       " 'frame6392': {'Lat': None, 'Lon': 83.43738888888889},\n",
       " 'frame9776': {'Lat': None, 'Lon': 87.869},\n",
       " 'frame5612': {'Lat': None, 'Lon': 82.36247222222222}}"
      ]
     },
     "execution_count": 117,
     "metadata": {},
     "output_type": "execute_result"
    }
   ],
   "source": [
    "#print a 10-sample of key-value pairs from image_dict for keys that are also found in bad_lats dictionary\n",
    "{k: v for i, (k,v) in enumerate(dict((k, image_dict[k]) for k in (image_dict.keys() & bad_lats.keys())).items()) if i < 10}"
   ]
  },
  {
   "cell_type": "code",
   "execution_count": 136,
   "metadata": {},
   "outputs": [
    {
     "name": "stdout",
     "output_type": "stream",
     "text": [
      "Only Lat none: 1571 \n",
      "Only Lon none: 4603 \n",
      "Both none: 486\n"
     ]
    }
   ],
   "source": [
    "n_none_lats, n_none_lons, n_none_both = (0,0,0)\n",
    "#subset image_dict to frames that are NOT found in imgs_w_ie list of dictionaries\n",
    "missing_keys = set().union(*(d.keys() for d in imgs_w_ie))\n",
    "image_dict_rstr = dict((k, image_dict[k]) for k in (image_dict.keys() - missing_keys))\n",
    "#count frames in image_dict that have None values in one or both of Lat and Lon\n",
    "for gps_dict in image_dict_rstr.values():\n",
    "    if (gps_dict['Lat'] is None) & (gps_dict['Lon'] is None):\n",
    "        n_none_both += 1\n",
    "    elif gps_dict['Lat'] is None:\n",
    "        n_none_lats += 1\n",
    "    elif gps_dict['Lon'] is None:\n",
    "        n_none_lons += 1\n",
    "print(\"Only Lat none:\", n_none_lats, \"\\nOnly Lon none:\", n_none_lons, \"\\nBoth none:\", n_none_both)"
   ]
  },
  {
   "cell_type": "code",
   "execution_count": 137,
   "metadata": {},
   "outputs": [
    {
     "data": {
      "text/plain": [
       "39506"
      ]
     },
     "execution_count": 137,
     "metadata": {},
     "output_type": "execute_result"
    }
   ],
   "source": [
    "len(image_dict_rstr)"
   ]
  },
  {
   "cell_type": "code",
   "execution_count": 138,
   "metadata": {},
   "outputs": [
    {
     "data": {
      "text/plain": [
       "2057"
      ]
     },
     "execution_count": 138,
     "metadata": {},
     "output_type": "execute_result"
    }
   ],
   "source": [
    "#subset bad_lats dictionary to frames that are NOT found in imgs_w_ie list of dictionaries\n",
    "missing_keys = set().union(*(d.keys() for d in imgs_w_ie))\n",
    "bad_lats_rstr = dict((k, image_dict[k]) for k in (bad_lats.keys() - missing_keys))\n",
    "len(bad_lats_rstr)"
   ]
  },
  {
   "cell_type": "code",
   "execution_count": 96,
   "metadata": {},
   "outputs": [
    {
     "name": "stdout",
     "output_type": "stream",
     "text": [
      "{7: 1757, 8: 274, 9: 11, 5: 3, 1: 6, 0: 20, 6: 3, 4: 1}\n"
     ]
    }
   ],
   "source": [
    "lat_n_digits = {}\n",
    "for value in bad_lats.values():\n",
    "    n_digits = sum(c.isdigit() for c in value)\n",
    "    if n_digits not in lat_n_digits:\n",
    "        lat_n_digits[n_digits] = 1\n",
    "    else:\n",
    "        lat_n_digits[n_digits] += 1\n",
    "print(lat_n_digits)"
   ]
  },
  {
   "cell_type": "code",
   "execution_count": 87,
   "metadata": {},
   "outputs": [
    {
     "name": "stdout",
     "output_type": "stream",
     "text": [
      "frame12124 , 38 381371 1\n",
      "frame147 , 1\n",
      "frame37987 , 47 0145.41 5\n",
      "frame4623 , 38 130211 1\n",
      "frame8151 , 381419.5 5 1\n",
      "frame2108 , 38 03 2411 1\n",
      "frame9470 , 38 10 2570 3\n",
      "frame8961 , 38 124941 1\n",
      "frame22008 , \n",
      "frame5473 , 38 25 1\n",
      "frame8619 , 38 143013 1\n",
      "frame39538 , \n",
      "frame39539 , \n",
      "frame39103 , 47 331177 5\n",
      "frame22735 , 1\n",
      "frame5589 , 38 251911 1\n",
      "frame3271 , 37 47 15. \n",
      "frame652 , \n",
      "frame39529 , \n",
      "frame39531 , \n",
      "frame5541 , 38 24 58 \n",
      "frame39530 , \n",
      "frame12010 , \n",
      "frame39532 , \n",
      "frame29292 , 7\n",
      "frame39533 , \n",
      "frame9755 , 38 11 33 01 1\n",
      "frame39537 , \n",
      "frame39536 , \n",
      "frame8128 , 38114010.0\n",
      "frame39534 , \n",
      "frame39051 , 47 32 173.4 3\n",
      "frame39535 , \n",
      "frame4288 , 1\n",
      "frame4370 , 38 05 \n",
      "frame24884 , 39 42 010.0 1 \n",
      "frame4373 ,  05 58.8\n",
      "frame39021 , 47 32 419. 5 5\n",
      "frame4428 , 38 06 51 .0 11\n",
      "frame3347 , 4\n",
      "frame39544 , \n",
      "frame4362 , 38 051773  1\n",
      "frame4438 , 3807 28.7 51\n",
      "frame38138 , 47 034 22. 54 5\n",
      "frame39540 , \n",
      "frame23914 , 39 39 010.0 5\n",
      "frame39541 , \n",
      "frame5484 , 38 25 00.  .\n",
      "frame39543 , \n",
      "frame39542 , \n",
      "frame23297 , 39 33 4 1\n"
     ]
    }
   ],
   "source": [
    "for key, value in bad_lats.items():\n",
    "    if sum(c.isdigit() for c in value) not in (7,8):\n",
    "        print(key, ',', value)"
   ]
  },
  {
   "cell_type": "code",
   "execution_count": 97,
   "metadata": {},
   "outputs": [
    {
     "name": "stdout",
     "output_type": "stream",
     "text": [
      "{8: 2769, 7: 1912, 10: 16, 5: 8, 9: 154, 0: 157, 6: 72, 11: 1}\n"
     ]
    }
   ],
   "source": [
    "lon_n_digits = {}\n",
    "for value in bad_lons.values():\n",
    "    n_digits = sum(c.isdigit() for c in value)\n",
    "    if n_digits not in lon_n_digits:\n",
    "        lon_n_digits[n_digits] = 1\n",
    "    else:\n",
    "        lon_n_digits[n_digits] += 1\n",
    "print(lon_n_digits)"
   ]
  },
  {
   "cell_type": "code",
   "execution_count": 98,
   "metadata": {},
   "outputs": [
    {
     "name": "stdout",
     "output_type": "stream",
     "text": [
      "{'8, starts with 1': 2454, '8, starts with other': 315}\n"
     ]
    }
   ],
   "source": [
    "lon_8_digits = {'8, starts with 1': 0, '8, starts with other': 0}\n",
    "for value in bad_lons.values():\n",
    "    n_digits = sum(c.isdigit() for c in value)\n",
    "    if n_digits == 8:\n",
    "        first_digit_1 = (value[0] == '1')\n",
    "        if first_digit_1:\n",
    "            lon_8_digits['8, starts with 1'] += 1\n",
    "        else:\n",
    "            lon_8_digits['8, starts with other'] += 1\n",
    "print(lon_8_digits)"
   ]
  },
  {
   "cell_type": "code",
   "execution_count": 92,
   "metadata": {},
   "outputs": [
    {
     "name": "stdout",
     "output_type": "stream",
     "text": [
      "frame36536 , 1191431.81\n",
      "frame22543 , 105 25 3515\n",
      "frame38916 , 121 491832\n",
      "frame36873 , 119 44 2313\n",
      "frame22351 , 1051118.61\n",
      "frame36324 , 1191815.31\n",
      "frame36325 , 1191810.05\n",
      "frame7671 , 85 001774 1\n",
      "frame19661 , 101 25.12.33\n",
      "frame38877 , 121  46 27.6.1\n",
      "frame19932 , 101 5213.33\n",
      "frame20380 , 102 3410.03\n",
      "frame19663 , 101  25 24.31\n",
      "frame38861 , 121 44. 47.94\n",
      "frame39202 , 122 09. 50.41\n",
      "frame38450 , 12116 23.77\n",
      "frame38322 , 121 05 010.0.\n",
      "frame27564 , 110 23. 54.41\n",
      "frame25400 , 108 12 010.0\n",
      "frame24087 , 107 11.21.87\n",
      "frame37560 , 120 28 3251\n",
      "frame39217 , 122 100311\n",
      "frame19662 , 101 2918.31\n",
      "frame28246 , 11115 24.65\n",
      "frame19058 , 100 41 08 31\n",
      "frame38531 , 121 21  13.01\n",
      "frame24124 , 107 13. 25.71\n",
      "frame19276 , 100 54 010.0\n",
      "frame20420 , 102 33. 40.21\n",
      "frame28256 , 11115 39.21\n",
      "frame19666 , 101 25. 42.33\n",
      "frame36336 , 1191710.21\n",
      "frame39010 , 121 57. 03.51\n",
      "frame22418 , 105 1558.41\n",
      "frame35414 , 118 27. 52.03\n",
      "frame27819 , 110 45. 02.71\n",
      "frame18828 , 100 1335.01\n",
      "frame28080 , 111 0917.82\n",
      "frame31512 , 114 1628.31\n",
      "frame36269 , 1191955.22\n",
      "frame24123 , 10713 24.12\n",
      "frame27172 , 109 59. 20.21\n",
      "frame28269 , 111 15139. 7\n",
      "frame35238 , 1181831.34\n",
      "frame20782 , 103 13. 52.13\n",
      "frame19665 , 101 253631\n",
      "frame39238 , 122 10. 25.55\n",
      "frame21463 , 104 02 010.0\n",
      "frame23248 , 106 12. 16.71\n",
      "frame24043 , 107 09. 0221\n",
      "frame4355 , 81 22 5540 1\n",
      "frame19880 , 101 4712.11\n",
      "frame27601 , 110 2616.55\n",
      "frame23473 , 106 24 31 .7 5\n",
      "frame37823 , 120 26 4843\n",
      "frame6109 , 83 0314.11 1\n",
      "frame34342 , 117 33 010.0\n",
      "frame39128 , 122 06 2747\n",
      "frame19987 , 101 5614.81\n",
      "frame23366 , 106 16 4544\n",
      "frame25071 , 107 5713.14\n",
      "frame33983 , 117 16 010.0\n",
      "frame19429 , 101 041321\n",
      "frame36353 , 119 15. 33.23\n",
      "frame27510 , 110 2013.51\n",
      "frame36346 , 1191614.21\n",
      "frame29064 , 111 54 0631\n",
      "frame20915 , 103 2710.41\n",
      "frame39459 , 122 160215\n",
      "frame35277 , 1 18 20 50.41\n",
      "frame28226 , 111 1901.21\n",
      "frame30455 , 112 50. 07.21\n",
      "frame24391 , 107 31 3846\n",
      "frame4084 , 81 1504.11 1\n",
      "frame24436 , 107 35 010.0\n",
      "frame27895 , 110 5113.11\n",
      "frame20042 , 102 0113.51\n",
      "frame38619 , 1217 24 34.6\n",
      "frame24218 , 107 13. 42.61\n",
      "frame25310 , 108 06 4145\n",
      "frame35314 , 118 22. 42.15\n",
      "frame38181 , 120 52 14 11\n",
      "frame19167 , 100 5020.81\n",
      "frame38988 , 121 55 27. 81\n",
      "frame19985 , 101 5902.81\n",
      "frame20692 , 103 04.54.11\n",
      "frame19573 , 1011710.21\n",
      "frame19215 , 100 52 010.0\n",
      "frame19956 , 10154 33.11\n",
      "frame34973 , 118 00. 43.21\n",
      "frame35310 , 1 18 22 3951\n",
      "frame38620 , 1217 24 34.1\n",
      "frame20047 , 102 02. 13.4 1\n",
      "frame38392 , 1211116.63\n",
      "frame31639 , 114 27. 48.01\n",
      "frame20046 , 102 02. 07.41\n",
      "frame35477 , 118 3019.31\n",
      "frame28340 , 11118 09.51\n",
      "frame38184 , 120 523113\n",
      "frame20668 , 103 02.32.1 1\n",
      "frame38966 , 121 53. 41.53\n",
      "frame23836 , 106 51 45. 0 1.\n",
      "frame23411 , 106 192631\n",
      "frame20050 , 102 02. 31.51\n",
      "frame23968 , 107 0415.01\n",
      "frame35688 , 118 42. 55.21\n",
      "frame24785 , 107 5118.51\n",
      "frame36343 , 1191631.31\n",
      "frame24035 , 107 08 3221\n",
      "frame37075 , 120 02 310.4\n",
      "frame19149 , 100 4920.31\n",
      "frame8336 , 85 514442 1\n",
      "frame27138 , 109 5923.31\n",
      "frame35266 , 118 20 21 .31\n",
      "frame25263 , 108 0325.61\n",
      "frame24831 , 107 53. 37.23\n",
      "frame36010 , 1191311.02\n",
      "frame19839 , 101  42 57.41\n",
      "frame19434 , 101 0413.21\n",
      "frame24005 , 107 06 5247\n",
      "frame28367 , 11119 39.77\n",
      "frame35450 , 118 27. 52.11\n",
      "frame33035 , 116 2113.91\n",
      "frame38148 , 120 49 013.0\n",
      "frame39242 , 122 117 41.8\n",
      "frame33009 , 1161921.41\n",
      "frame24373 , 107 30 010.0\n",
      "frame19958 , 101 54. 42.61\n",
      "frame39108 , 122 05 0161\n",
      "frame24171 , 107 15 5121\n",
      "frame38599 , 121 24 010.0\n",
      "frame35718 , 118 45 5032\n",
      "frame26980 , 109 45 51 .71\n",
      "frame11335 , 90 024 24. 94\n",
      "frame34189 , 117 23 010.0\n",
      "frame28205 , 1111333.81\n",
      "frame28198 , 1111300.51\n",
      "frame19422 , 101 03. 31.23\n",
      "frame27645 , 110 300311\n",
      "frame38995 , 121 56 01 .37\n",
      "frame38956 , 121 52. 44.91\n",
      "frame19754 , 101 3419.01\n",
      "frame32066 , 115 04. 15.41\n",
      "frame38749 , 121  35 09.11.\n",
      "frame19618 , 101 211654\n",
      "frame27912 , 110 523811\n",
      "frame35331 , 118 233131\n",
      "frame38371 , 121 0952.71\n",
      "frame24002 , 107 06 4049\n",
      "frame27278 , 110 04 03. 2  1\n",
      "frame19396 , 101 0118.91\n",
      "frame29269 , 111 5328.31\n",
      "frame35640 , 1184101.91\n",
      "frame19433 , 101 0417.33\n",
      "frame38172 , 120 5110.01\n",
      "frame35330 , 118 23. 28.81\n",
      "frame19792 , 1013816.41\n",
      "frame19989 , 101 5616.84\n",
      "frame26774 , 109 33. 45.73\n",
      "frame19221 , 10052 10.11\n",
      "frame19223 , 100 5211.55\n",
      "frame27911 , 110 52 35. 01\n",
      "frame35326 , 118 23 15 73\n",
      "frame23975 , 107 0501.01\n",
      "frame19425 , 101  03 49.31\n",
      "frame23752 , 106 44 40. 81\n",
      "frame28148 , 11110 010.0\n",
      "frame38398 , 1211140.41\n",
      "frame27284 , 110 04 03. 24\n",
      "frame38830 , 121  42 09.71\n",
      "frame27910 , 110 52 31. 31\n",
      "frame27086 , 109 5415.91\n",
      "frame21568 , 104 0915.13\n",
      "frame28202 , 1111319.21\n",
      "frame35253 , 118 19.34.17\n",
      "frame22562 , 105 261031\n",
      "frame38274 , 121 0054.91\n",
      "frame31522 , 1141718.81\n",
      "frame27630 , 110 28 5342\n",
      "frame19899 , 101 4956.01\n",
      "frame38857 , 121 4415.93\n",
      "frame19641 , 101 23.14.01\n",
      "frame22172 , 104 5919.11\n",
      "frame27591 , 110 25 2211\n",
      "frame24067 , 107 10.21.31\n",
      "frame38315 , 121 0410.11\n",
      "frame19683 , 101 2713.94\n",
      "frame19697 , 101  28 47.81\n",
      "frame18825 , 100 1319.51\n",
      "frame31521 , 1141713.71\n",
      "frame39169 , 122 03. 23.0 1\n",
      "frame39380 , 122 19. 17.93\n",
      "frame19911 , 101  50 07.61\n",
      "frame19642 , 101 23.19.13\n",
      "frame36110 , 119 22. 57.71\n",
      "frame39223 , 122 10 0513\n",
      "frame29018 , 111 50.15.21\n",
      "frame35425 , 118 27. 34.71.\n",
      "frame28312 , 11117 35.51\n",
      "frame25421 , 108 13. 47.11\n",
      "frame38896 , 121 4717.53\n",
      "frame23285 , 106 13. 23.21\n",
      "frame38855 , 121 441611\n",
      "frame37353 , 120 25 01 .41\n",
      "frame36918 , 119 43. 27.27\n",
      "frame26048 , 108 54. 02.71\n",
      "frame39140 , 122 07. 21.1 1\n",
      "frame20159 , 102 1311.71\n",
      "frame29155 , 111 55 1041\n",
      "frame29790 , 112 0311.6 2\n",
      "frame19690 , 101  2306.01\n",
      "frame23054 , 106 030213\n",
      "frame39018 , 121 57. 48.85\n",
      "frame19450 , 101 0618.91\n",
      "frame27019 , 109 49. 21.24\n",
      "frame19691 , 101 2811.91\n",
      "frame19652 , 101 2418.41\n",
      "frame19901 , 101  49 08.21\n",
      "frame19526 , 10112 28.51\n",
      "frame19532 , 101 1304.51\n",
      "frame28937 , 111 44 3111\n",
      "frame22573 , 105 270415\n",
      "frame27812 , 110 4415.51\n",
      "frame27147 , 109 58 47. 21\n",
      "frame39026 , 121758 31 .3\n",
      "frame3143 , 80 15 010.05\n",
      "frame26516 , 109 21. 34.51\n",
      "frame27146 , 109 58 44. 31\n",
      "frame39378 , 122 1916.41\n",
      "frame19902 , 101 4914.04\n",
      "frame12658 , 9110 55.1 31\n",
      "frame23491 , 106 25. 38.25\n"
     ]
    }
   ],
   "source": [
    "for key, value in bad_lons.items():\n",
    "    if sum(c.isdigit() for c in value) == 9:\n",
    "        print(key, ',', value)"
   ]
  },
  {
   "cell_type": "code",
   "execution_count": 99,
   "metadata": {},
   "outputs": [
    {
     "data": {
      "text/plain": [
       "18"
      ]
     },
     "execution_count": 99,
     "metadata": {},
     "output_type": "execute_result"
    }
   ],
   "source": [
    "len(imgs_w_ie)"
   ]
  },
  {
   "cell_type": "code",
   "execution_count": 76,
   "metadata": {},
   "outputs": [
    {
     "data": {
      "text/plain": [
       "[{'frame22008': ('Lon', '')},\n",
       " {'frame39538': ('Lon', '')},\n",
       " {'frame39539': ('Lon', '')},\n",
       " {'frame39529': ('Lon', '')},\n",
       " {'frame39531': ('Lon', '')},\n",
       " {'frame39530': ('Lon', '')},\n",
       " {'frame12010': ('Lon', '')},\n",
       " {'frame39532': ('Lon', '')},\n",
       " {'frame39533': ('Lon', '')},\n",
       " {'frame39537': ('Lon', '')},\n",
       " {'frame39536': ('Lon', '')},\n",
       " {'frame39534': ('Lon', '')},\n",
       " {'frame39535': ('Lon', '')},\n",
       " {'frame39544': ('Lon', '')},\n",
       " {'frame39540': ('Lon', '')},\n",
       " {'frame39541': ('Lon', '')},\n",
       " {'frame39543': ('Lon', '')},\n",
       " {'frame39542': ('Lon', '')}]"
      ]
     },
     "execution_count": 76,
     "metadata": {},
     "output_type": "execute_result"
    }
   ],
   "source": [
    "imgs_w_ie"
   ]
  },
  {
   "cell_type": "code",
   "execution_count": 127,
   "metadata": {},
   "outputs": [],
   "source": [
    "#extract keys of all dictionaries present in imgs_w_ie list of dictionaries\n",
    "all_keys = set().union(*(d.keys() for d in imgs_w_ie))"
   ]
  },
  {
   "cell_type": "code",
   "execution_count": 128,
   "metadata": {},
   "outputs": [
    {
     "data": {
      "text/plain": [
       "{'frame12010',\n",
       " 'frame22008',\n",
       " 'frame39529',\n",
       " 'frame39530',\n",
       " 'frame39531',\n",
       " 'frame39532',\n",
       " 'frame39533',\n",
       " 'frame39534',\n",
       " 'frame39535',\n",
       " 'frame39536',\n",
       " 'frame39537',\n",
       " 'frame39538',\n",
       " 'frame39539',\n",
       " 'frame39540',\n",
       " 'frame39541',\n",
       " 'frame39542',\n",
       " 'frame39543',\n",
       " 'frame39544'}"
      ]
     },
     "execution_count": 128,
     "metadata": {},
     "output_type": "execute_result"
    }
   ],
   "source": [
    "all_keys"
   ]
  },
  {
   "cell_type": "code",
   "execution_count": 38,
   "metadata": {},
   "outputs": [],
   "source": [
    "pattern = re.compile(\"(\\d{2,3}\\s\\d{2}\\s\\d{2}\\.\\d)\")"
   ]
  },
  {
   "cell_type": "code",
   "execution_count": 46,
   "metadata": {},
   "outputs": [
    {
     "name": "stdout",
     "output_type": "stream",
     "text": [
      "yes\n"
     ]
    }
   ],
   "source": [
    "if re.match(pattern, '77 14 08.2'):\n",
    "    print(\"yes\")\n",
    "else:\n",
    "    print(\"no\")"
   ]
  },
  {
   "cell_type": "code",
   "execution_count": 51,
   "metadata": {},
   "outputs": [
    {
     "name": "stdout",
     "output_type": "stream",
     "text": [
      "no\n"
     ]
    }
   ],
   "source": [
    "if not(re.match(pattern, '77 14 08 2')):\n",
    "    print(\"no\")"
   ]
  },
  {
   "cell_type": "code",
   "execution_count": 48,
   "metadata": {},
   "outputs": [],
   "source": [
    "#dpi = im.info\n",
    "\n",
    "#indir = './frames_lmtd/'\n",
    "#im_full = Image.open(indir + 'frame40.jpg')\n",
    "\n",
    "#dpi = im_full.info['dpi']"
   ]
  },
  {
   "cell_type": "code",
   "execution_count": 106,
   "metadata": {},
   "outputs": [
    {
     "data": {
      "text/plain": [
       "{2: 39506, 1: 18}"
      ]
     },
     "execution_count": 106,
     "metadata": {},
     "output_type": "execute_result"
    }
   ],
   "source": [
    "n_stamps_per_frame = {}\n",
    "for key, value in image_dict.items():\n",
    "    if len(value) not in n_stamps_per_frame:\n",
    "        n_stamps_per_frame[len(value)] = 1\n",
    "    else:\n",
    "        n_stamps_per_frame[len(value)] += 1\n",
    "n_stamps_per_frame"
   ]
  },
  {
   "cell_type": "code",
   "execution_count": null,
   "metadata": {},
   "outputs": [],
   "source": []
  },
  {
   "cell_type": "code",
   "execution_count": null,
   "metadata": {},
   "outputs": [],
   "source": []
  }
 ],
 "metadata": {
  "kernelspec": {
   "display_name": "Python 3",
   "language": "python",
   "name": "python3"
  },
  "language_info": {
   "codemirror_mode": {
    "name": "ipython",
    "version": 3
   },
   "file_extension": ".py",
   "mimetype": "text/x-python",
   "name": "python",
   "nbconvert_exporter": "python",
   "pygments_lexer": "ipython3",
   "version": "3.6.6"
  }
 },
 "nbformat": 4,
 "nbformat_minor": 2
}
