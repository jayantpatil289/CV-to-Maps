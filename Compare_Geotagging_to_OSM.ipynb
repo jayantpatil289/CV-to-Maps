{
 "cells": [
  {
   "cell_type": "code",
   "execution_count": 2,
   "metadata": {},
   "outputs": [],
   "source": [
    "from sqlalchemy import create_engine\n",
    "import psycopg2 #driver to run query for PostgreSQL from Python"
   ]
  },
  {
   "cell_type": "code",
   "execution_count": 3,
   "metadata": {},
   "outputs": [],
   "source": [
    "#connect to an existing database\n",
    "conn = psycopg2.connect(database=\"roadtrips\", user=\"sashakapralov\")\n",
    "\n",
    "#open a cursor to perform database operations\n",
    "cur = conn.cursor()"
   ]
  },
  {
   "cell_type": "code",
   "execution_count": 4,
   "metadata": {},
   "outputs": [],
   "source": [
    "import json"
   ]
  },
  {
   "cell_type": "code",
   "execution_count": 7,
   "metadata": {},
   "outputs": [],
   "source": [
    "import csv"
   ]
  },
  {
   "cell_type": "code",
   "execution_count": 10,
   "metadata": {},
   "outputs": [],
   "source": [
    "import geojson"
   ]
  },
  {
   "cell_type": "code",
   "execution_count": 14,
   "metadata": {},
   "outputs": [],
   "source": [
    "#convert csv file with coordinates, bearing and depth values of tower used in geotagging code to GeoJSON\n",
    "features = []\n",
    "with open('detection_input_one.csv', 'r') as inf:\n",
    "    reader = csv.reader(inf)\n",
    "    next(inf)\n",
    "    for lat,lon,bearing,depth in reader:\n",
    "        lat, lon = map(float, (lat, lon))\n",
    "        features.append(\n",
    "            geojson.Feature(\n",
    "                geometry = geojson.Point((lon*(-1.),lat)),\n",
    "                properties = {\n",
    "                    'bearing': bearing,\n",
    "                    'depth': depth\n",
    "                }\n",
    "            )\n",
    "        )\n",
    "\n",
    "collection = geojson.FeatureCollection(features)\n",
    "with open(\"one_tower.geojson\", \"w\") as outf:\n",
    "    outf.write('%s' % collection)"
   ]
  },
  {
   "cell_type": "code",
   "execution_count": 19,
   "metadata": {},
   "outputs": [],
   "source": [
    "#run this line if Postgres returns any error on a query before re-running fixed query\n",
    "cur.execute(\"rollback\")"
   ]
  },
  {
   "cell_type": "code",
   "execution_count": 15,
   "metadata": {},
   "outputs": [],
   "source": [
    "#execute a command: this creates a new table\n",
    "#Then commit the changes to the database\n",
    "cur.execute(\"DROP TABLE IF EXISTS detected_tower\")\n",
    "cur.execute(\"CREATE TABLE detected_tower (id SERIAL PRIMARY KEY, bearing FLOAT8 NOT NULL, depth FLOAT8 NOT NULL, latlon GEOMETRY)\")\n",
    "conn.commit()"
   ]
  },
  {
   "cell_type": "code",
   "execution_count": 16,
   "metadata": {},
   "outputs": [],
   "source": [
    "#First delete the existing contents of this table in case we want to run the code multiple times.\n",
    "cur.execute(\"DELETE FROM detected_tower\")\n",
    "\n",
    "#read GeoJSON file and load data into database table\n",
    "with open('one_tower.geojson') as f:\n",
    "    data = json.load(f)\n",
    "    #loop through list of dictionaries of frames and their coordinates\n",
    "    for frame in data['features']:\n",
    "        bearing = frame['properties']['bearing']\n",
    "        depth = frame['properties']['depth']\n",
    "        #json.dumps is needed below to create double quotes inside geometry dictionary\n",
    "        latlon = json.dumps(frame['geometry'])\n",
    "        cur.execute(\"\"\"INSERT INTO detected_tower (bearing, depth, latlon) VALUES ({}, {}, ST_SetSRID(ST_GeomFromGeoJSON('{}'),4326))\"\"\".format(bearing, depth, latlon))\n",
    "conn.commit()"
   ]
  },
  {
   "cell_type": "code",
   "execution_count": 32,
   "metadata": {},
   "outputs": [],
   "source": [
    "#SQL query to find OSM-tagged (true) coordinates of water tower that was used in geotagging code\n",
    "cur.execute(\"SELECT nneighbors.frameno, nneighbors.frame_loc_geog, nneighbors.tower_id, ST_AsText(nneighbors.tower_loc_geog), nneighbors.dist \\\n",
    "            FROM nneighbors RIGHT JOIN detected_tower \\\n",
    "            ON nneighbors.frame_loc_geog = detected_tower.latlon\")\n",
    "results = cur.fetchall()"
   ]
  },
  {
   "cell_type": "code",
   "execution_count": 33,
   "metadata": {},
   "outputs": [
    {
     "data": {
      "text/plain": [
       "['POINT(-90.6424566 38.5982481)',\n",
       " 'POINT(-90.6424566 38.5982481)',\n",
       " 'POINT(-90.6424566 38.5982481)',\n",
       " 'POINT(-90.6424566 38.5982481)',\n",
       " 'POINT(-90.6424566 38.5982481)',\n",
       " 'POINT(-90.6424566 38.5982481)',\n",
       " 'POINT(-90.6424566 38.5982481)',\n",
       " 'POINT(-90.6424566 38.5982481)',\n",
       " 'POINT(-90.6424566 38.5982481)',\n",
       " 'POINT(-90.6424566 38.5982481)',\n",
       " 'POINT(-90.6424566 38.5982481)',\n",
       " 'POINT(-90.6424566 38.5982481)',\n",
       " 'POINT(-90.6424566 38.5982481)',\n",
       " 'POINT(-90.6424566 38.5982481)',\n",
       " 'POINT(-90.6424566 38.5982481)',\n",
       " 'POINT(-90.6424566 38.5982481)',\n",
       " 'POINT(-90.6424566 38.5982481)',\n",
       " 'POINT(-90.6424566 38.5982481)',\n",
       " 'POINT(-90.6424566 38.5982481)',\n",
       " 'POINT(-90.6424566 38.5982481)',\n",
       " 'POINT(-90.6424566 38.5982481)']"
      ]
     },
     "execution_count": 33,
     "metadata": {},
     "output_type": "execute_result"
    }
   ],
   "source": [
    "[frame[3] for frame in results]"
   ]
  },
  {
   "cell_type": "code",
   "execution_count": 40,
   "metadata": {},
   "outputs": [
    {
     "data": {
      "text/plain": [
       "(-90.6424566, 38.5982481)"
      ]
     },
     "execution_count": 40,
     "metadata": {},
     "output_type": "execute_result"
    }
   ],
   "source": [
    "true_lon_lat = ''.join(c for c in results[0][3] if (c.isdigit() | (c in ['-','.',' '])))\n",
    "true_lon, true_lat = map(float,true_lon_lat.split())\n",
    "true_lon, true_lat"
   ]
  },
  {
   "cell_type": "code",
   "execution_count": 41,
   "metadata": {},
   "outputs": [],
   "source": [
    "import matplotlib.pyplot as plt\n",
    "%matplotlib inline\n",
    "from matplotlib.colors import Normalize\n",
    "from matplotlib.cm import ScalarMappable\n",
    "from gmplot import GoogleMapPlotter\n",
    "from random import random"
   ]
  },
  {
   "cell_type": "code",
   "execution_count": 186,
   "metadata": {},
   "outputs": [],
   "source": [
    "class CustomGoogleMapPlotter(GoogleMapPlotter):\n",
    "    def __init__(self, center_lat, center_lng, zoom, apikey='',\n",
    "                 map_type='satellite'):\n",
    "        if apikey == '':\n",
    "            try:\n",
    "                with open('apikey.txt', 'r') as apifile:\n",
    "                    apikey = apifile.readline()\n",
    "            except FileNotFoundError:\n",
    "                pass\n",
    "        super().__init__(center_lat, center_lng, zoom, apikey)\n",
    "\n",
    "        self.map_type = map_type\n",
    "        assert(self.map_type in ['roadmap', 'satellite', 'hybrid', 'terrain'])\n",
    "\n",
    "    def write_map(self,  f):\n",
    "        f.write('\\t\\tvar centerlatlng = new google.maps.LatLng(%f, %f);\\n' %\n",
    "                (self.center[0], self.center[1]))\n",
    "        f.write('\\t\\tvar myOptions = {\\n')\n",
    "        f.write('\\t\\t\\tzoom: %d,\\n' % (self.zoom))\n",
    "        f.write('\\t\\t\\tcenter: centerlatlng,\\n')\n",
    "\n",
    "        # Change this line to allow different map types\n",
    "        f.write('\\t\\t\\tmapTypeId: \\'{}\\'\\n'.format(self.map_type))\n",
    "\n",
    "        f.write('\\t\\t};\\n')\n",
    "        f.write(\n",
    "            '\\t\\tvar map = new google.maps.Map(document.getElementById(\"map_canvas\"), myOptions);\\n')\n",
    "        f.write('\\n')\n",
    "\n",
    "    def color_scatter(self, lats, lngs, values=None, colormap='coolwarm',\n",
    "                      size=None, marker=False, s=None, **kwargs):\n",
    "        def rgb2hex(rgb):\n",
    "            \"\"\" Convert RGBA or RGB to #RRGGBB \"\"\"\n",
    "            rgb = list(rgb[0:3]) # remove alpha if present\n",
    "            rgb = [int(c * 255) for c in rgb]\n",
    "            hexcolor = '#%02x%02x%02x' % tuple(rgb)\n",
    "            return hexcolor\n",
    "\n",
    "        if values is None:\n",
    "            colors = [None for _ in lats]\n",
    "        else:\n",
    "            cmap = plt.get_cmap(colormap)\n",
    "            norm = Normalize(vmin=min(values), vmax=max(values))\n",
    "            scalar_map = ScalarMappable(norm=norm, cmap=cmap)\n",
    "            colors = [rgb2hex(scalar_map.to_rgba(value)) for value in values]\n",
    "        for lat, lon, c in zip(lats, lngs, colors):\n",
    "            self.scatter(lats=[lat], lngs=[lon], c=c, size=size, marker=marker,\n",
    "                         s=s, **kwargs)\n",
    "\n",
    "    def cam_tower_scatter(self, lats, lngs, color=None, size=None, marker=True, c=None, s=None, symbol='o',\n",
    "                          tower_color=None, true_tower_color=None, **kwargs):\n",
    "        color = color or c\n",
    "        size = size or s or 40\n",
    "        kwargs[\"color\"] = color\n",
    "        kwargs[\"size\"] = size\n",
    "        settings = self._process_kwargs(kwargs)\n",
    "        for lat, lng in zip(lats[:-2], lngs[:-2]):\n",
    "            if marker:\n",
    "                self.marker(lat, lng, settings['color'])\n",
    "            else:\n",
    "                self._add_symbol(Symbol(symbol, lat, lng, size), **settings)\n",
    "        if marker:\n",
    "            self.marker(lats[-2], lngs[-2], tower_color)\n",
    "            tower_col = self.color_dict.get(color)\n",
    "            tower_col = self.html_color_codes.get(color,color)\n",
    "            self.points.append((lats[-2], lngs[-2], tower_col[1:], \"no implementation\"))\n",
    "            \n",
    "            if true_tower_color:            \n",
    "                self.marker(lats[-1], lngs[-1], true_tower_color)\n",
    "                true_tower_col = self.color_dict.get(color)\n",
    "                true_tower_col = self.html_color_codes.get(color,color)\n",
    "                self.points.append((lats[-1], lngs[-1], true_tower_col[1:], \"no implementation\"))"
   ]
  },
  {
   "cell_type": "code",
   "execution_count": 210,
   "metadata": {},
   "outputs": [
    {
     "name": "stdout",
     "output_type": "stream",
     "text": [
      "cam_lats: [38.596667, 38.597111, 38.597333, 38.597389, 38.597389, 38.597389, 38.597389, 38.597472, 38.597778] \n",
      "cam_lons: [-90.640028, -90.640417, -90.640639, -90.640694, -90.640694, -90.640694, -90.640694, -90.640806, -90.641111]\n"
     ]
    }
   ],
   "source": [
    "cam_lats = []\n",
    "cam_lons = []\n",
    "with open('./detection_input_one.csv','r') as f:\n",
    "    reader = csv.DictReader(f)\n",
    "    for row in reader:\n",
    "        cam_lats.append(float(row['lat']))\n",
    "        cam_lons.append(float(row['lon'])*(-1.))\n",
    "        #print(row['lat'],row['lon'])\n",
    "print('cam_lats:',cam_lats,'\\ncam_lons:',cam_lons)"
   ]
  },
  {
   "cell_type": "code",
   "execution_count": 211,
   "metadata": {},
   "outputs": [
    {
     "name": "stdout",
     "output_type": "stream",
     "text": [
      "norm_lats: [38.595937138530665, 38.59573936425739, 38.59584943001999, 38.59568711062047, 38.59563378523053, 38.59563378523053, 38.59563378523053, 38.59561175655161, 38.595866091317724] \n",
      "norm_lons: [-90.63563457530068, -90.63628248210517, -90.63656824931394, -90.6367655787464, -90.63680418071672, -90.63680418071672, -90.63680418071672, -90.63699692716777, -90.63734404705237]\n"
     ]
    }
   ],
   "source": [
    "norm_lats = []\n",
    "norm_lons = []\n",
    "with open('./object_positions.csv','r') as f:\n",
    "    reader = csv.DictReader(f)\n",
    "    for row in reader:\n",
    "        norm_lats.append(float(row['latp1']))\n",
    "        norm_lons.append(float(row['lonp1'])*(-1.))\n",
    "print('norm_lats:',norm_lats,'\\nnorm_lons:',norm_lons)"
   ]
  },
  {
   "cell_type": "code",
   "execution_count": 212,
   "metadata": {},
   "outputs": [
    {
     "name": "stdout",
     "output_type": "stream",
     "text": [
      "tower_lats: [38.5966613] \n",
      "tower_lons: [-90.63904579999999]\n"
     ]
    }
   ],
   "source": [
    "tower_lats = []\n",
    "tower_lons = []\n",
    "with open('./water_tower_detection_loop.csv','r') as f:\n",
    "    reader = csv.DictReader(f)\n",
    "    for row in reader:\n",
    "        tower_lats.append(float(row['lat']))\n",
    "        tower_lons.append(float(row['lon'])*(-1.))\n",
    "print('tower_lats:',tower_lats,'\\ntower_lons:',tower_lons)"
   ]
  },
  {
   "cell_type": "code",
   "execution_count": 160,
   "metadata": {},
   "outputs": [],
   "source": [
    "all_lats = cam_lats + tower_lats\n",
    "all_lons = cam_lons + tower_lons"
   ]
  },
  {
   "cell_type": "code",
   "execution_count": 213,
   "metadata": {},
   "outputs": [],
   "source": [
    "all_lats = cam_lats + norm_lats + tower_lats\n",
    "all_lons = cam_lons + norm_lons + tower_lons"
   ]
  },
  {
   "cell_type": "code",
   "execution_count": 214,
   "metadata": {},
   "outputs": [],
   "source": [
    "all_lats.append(true_lat)"
   ]
  },
  {
   "cell_type": "code",
   "execution_count": 215,
   "metadata": {},
   "outputs": [],
   "source": [
    "all_lons.append(true_lon)"
   ]
  },
  {
   "cell_type": "code",
   "execution_count": 216,
   "metadata": {},
   "outputs": [],
   "source": [
    "initial_zoom = 12\n",
    "gmap = CustomGoogleMapPlotter(all_lats[0], all_lons[0], initial_zoom,\n",
    "                              map_type='satellite')\n",
    "gmap.cam_tower_scatter(all_lats,all_lons,alpha=0.5,c='red', marker=True, tower_color='blue', true_tower_color='yellow')\n",
    "gmap.draw(\"tower_map_with_true_v26.html\")"
   ]
  },
  {
   "cell_type": "code",
   "execution_count": null,
   "metadata": {},
   "outputs": [],
   "source": []
  },
  {
   "cell_type": "markdown",
   "metadata": {},
   "source": [
    "#### Plot points produced by Intersection() function"
   ]
  },
  {
   "cell_type": "code",
   "execution_count": 208,
   "metadata": {},
   "outputs": [
    {
     "name": "stdout",
     "output_type": "stream",
     "text": [
      "int_lats: [38.59635110191371, 38.59629564405737, 38.59639739589488, 38.59642141323996, 38.59642141323996, 38.59642141323996, 38.596447877657866, 38.59639387542463, 38.595679303410876, 38.59659444835876, 38.59668615394061, 38.59668615394061, 38.59668615394061, 38.59674873715421, 38.59651699763621, 38.59716252227377, 38.597202055601045, 38.597202055601045, 38.597202055601045, 38.5971640718349, 38.59680979859447, 38.59716666157824, 38.596355221904275, 38.59704512823787, 38.59596792937662, 38.59704512823787, 38.59596792937662, 38.59704512823787, 38.59596792937662, 38.59362132847227, 38.59652243424516] \n",
      "int_lons: [-90.63812644126169, -90.63779261090339, -90.63840510937729, -90.63854968256209, -90.63854968256209, -90.63854968256209, -90.63870898598084, -90.63838391779288, -90.6361014408586, -90.6388599597903, -90.63913638767669, -90.63913638767669, -90.63913638767669, -90.63932503208751, -90.63862650028759, -90.6401712281184, -90.64027970316259, -90.64027970316259, -90.64027970316259, -90.64017547994146, -90.63920339365234, -90.64018078275332, -90.63830776039384, -90.63993192858027, -90.63754469427975, -90.63993192858027, -90.63754469427975, -90.63993192858027, -90.63754469427975, -90.63292128560155, -90.63872057058617]\n"
     ]
    }
   ],
   "source": [
    "int_lats = []\n",
    "int_lons = []\n",
    "with open('./intersections.csv','r') as f:\n",
    "    reader = csv.reader(f)\n",
    "    next(reader)\n",
    "    for row in reader:\n",
    "        int_lats.append(float(row[0]))\n",
    "        int_lons.append(float(row[1])*(-1.))\n",
    "print('int_lats:',int_lats,'\\nint_lons:',int_lons)"
   ]
  },
  {
   "cell_type": "code",
   "execution_count": 209,
   "metadata": {},
   "outputs": [],
   "source": [
    "initial_zoom = 12\n",
    "gmap = CustomGoogleMapPlotter(int_lats[0], int_lons[0], initial_zoom,\n",
    "                              map_type='satellite')\n",
    "gmap.scatter(int_lats,int_lons,alpha=0.5,c='red',marker=True)\n",
    "gmap.cam_tower_scatter(all_lats,all_lons,alpha=0.5,c='red', marker=True, tower_color='blue')\n",
    "gmap.draw(\"ints_map_v6.html\")"
   ]
  },
  {
   "cell_type": "code",
   "execution_count": 222,
   "metadata": {},
   "outputs": [],
   "source": [
    "from math import radians, pi"
   ]
  },
  {
   "cell_type": "code",
   "execution_count": 223,
   "metadata": {},
   "outputs": [
    {
     "data": {
      "text/plain": [
       "1.0471975511965983"
      ]
     },
     "execution_count": 223,
     "metadata": {},
     "output_type": "execute_result"
    }
   ],
   "source": [
    "bearing = 420\n",
    "br1 = radians(bearing)\n",
    "br1 - 2*pi"
   ]
  },
  {
   "cell_type": "code",
   "execution_count": null,
   "metadata": {},
   "outputs": [],
   "source": [
    "bearing = 0\n",
    "br1 ="
   ]
  }
 ],
 "metadata": {
  "kernelspec": {
   "display_name": "Python 3",
   "language": "python",
   "name": "python3"
  },
  "language_info": {
   "codemirror_mode": {
    "name": "ipython",
    "version": 3
   },
   "file_extension": ".py",
   "mimetype": "text/x-python",
   "name": "python",
   "nbconvert_exporter": "python",
   "pygments_lexer": "ipython3",
   "version": "3.7.3"
  }
 },
 "nbformat": 4,
 "nbformat_minor": 2
}
