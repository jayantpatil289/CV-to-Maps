{
 "cells": [
  {
   "cell_type": "code",
   "execution_count": 1,
   "metadata": {},
   "outputs": [],
   "source": [
    "import matplotlib.pyplot as plt\n",
    "%matplotlib inline\n",
    "from matplotlib.colors import Normalize\n",
    "from matplotlib.cm import ScalarMappable\n",
    "from gmplot import GoogleMapPlotter\n",
    "from random import random\n",
    "import csv"
   ]
  },
  {
   "cell_type": "code",
   "execution_count": 2,
   "metadata": {},
   "outputs": [],
   "source": [
    "class CustomGoogleMapPlotter(GoogleMapPlotter):\n",
    "    def __init__(self, center_lat, center_lng, zoom, apikey='',\n",
    "                 map_type='satellite'):\n",
    "        if apikey == '':\n",
    "            try:\n",
    "                with open('apikey.txt', 'r') as apifile:\n",
    "                    apikey = apifile.readline()\n",
    "            except FileNotFoundError:\n",
    "                pass\n",
    "        super().__init__(center_lat, center_lng, zoom, apikey)\n",
    "\n",
    "        self.map_type = map_type\n",
    "        assert(self.map_type in ['roadmap', 'satellite', 'hybrid', 'terrain'])\n",
    "\n",
    "    def write_map(self,  f):\n",
    "        f.write('\\t\\tvar centerlatlng = new google.maps.LatLng(%f, %f);\\n' %\n",
    "                (self.center[0], self.center[1]))\n",
    "        f.write('\\t\\tvar myOptions = {\\n')\n",
    "        f.write('\\t\\t\\tzoom: %d,\\n' % (self.zoom))\n",
    "        f.write('\\t\\t\\tcenter: centerlatlng,\\n')\n",
    "\n",
    "        # Change this line to allow different map types\n",
    "        f.write('\\t\\t\\tmapTypeId: \\'{}\\'\\n'.format(self.map_type))\n",
    "\n",
    "        f.write('\\t\\t};\\n')\n",
    "        f.write(\n",
    "            '\\t\\tvar map = new google.maps.Map(document.getElementById(\"map_canvas\"), myOptions);\\n')\n",
    "        f.write('\\n')\n",
    "\n",
    "    def color_scatter(self, lats, lngs, values=None, colormap='coolwarm',\n",
    "                      size=None, marker=False, s=None, **kwargs):\n",
    "        def rgb2hex(rgb):\n",
    "            \"\"\" Convert RGBA or RGB to #RRGGBB \"\"\"\n",
    "            rgb = list(rgb[0:3]) # remove alpha if present\n",
    "            rgb = [int(c * 255) for c in rgb]\n",
    "            hexcolor = '#%02x%02x%02x' % tuple(rgb)\n",
    "            return hexcolor\n",
    "\n",
    "        if values is None:\n",
    "            colors = [None for _ in lats]\n",
    "        else:\n",
    "            cmap = plt.get_cmap(colormap)\n",
    "            norm = Normalize(vmin=min(values), vmax=max(values))\n",
    "            scalar_map = ScalarMappable(norm=norm, cmap=cmap)\n",
    "            colors = [rgb2hex(scalar_map.to_rgba(value)) for value in values]\n",
    "        for lat, lon, c in zip(lats, lngs, colors):\n",
    "            self.scatter(lats=[lat], lngs=[lon], c=c, size=size, marker=marker,\n",
    "                         s=s, **kwargs)\n",
    "\n",
    "    def cam_tower_scatter(self, lats, lngs, color=None, size=None, marker=True, c=None, s=None, symbol='o',\n",
    "                          tower_color=None, **kwargs):\n",
    "        color = color or c\n",
    "        size = size or s or 40\n",
    "        kwargs[\"color\"] = color\n",
    "        kwargs[\"size\"] = size\n",
    "        settings = self._process_kwargs(kwargs)\n",
    "        for lat, lng in zip(lats[:-1], lngs[:-1]):\n",
    "            if marker:\n",
    "                self.marker(lat, lng, settings['color'])\n",
    "            else:\n",
    "                self._add_symbol(Symbol(symbol, lat, lng, size), **settings)\n",
    "        if marker:\n",
    "            self.marker(lats[-1], lngs[-1], tower_color)\n",
    "            tower_col = self.color_dict.get(color)\n",
    "            tower_col = self.html_color_codes.get(color,color)\n",
    "            self.points.append((lats[-1], lngs[-1], tower_col[1:], \"no implementation\"))"
   ]
  },
  {
   "cell_type": "code",
   "execution_count": 19,
   "metadata": {},
   "outputs": [
    {
     "name": "stdout",
     "output_type": "stream",
     "text": [
      "norm_lats: [38.59739685404832, 38.598482609532915, 38.598816539317795, 38.599090849028975, 38.59914417185073, 38.59914417185073, 38.59914417185073, 38.59933219523949, 38.599689857757895] \n",
      "norm_lons: [-90.64442142469932, -90.64455151789481, -90.64470975068606, -90.64462242125359, -90.64458381928326, -90.64458381928326, -90.64458381928326, -90.64461507283222, -90.64487795294762]\n"
     ]
    }
   ],
   "source": [
    "norm_lats = []\n",
    "norm_lons = []\n",
    "with open('./object_positions.csv','r') as f:\n",
    "    reader = csv.DictReader(f)\n",
    "    for row in reader:\n",
    "        norm_lats.append(float(row['latp1']))\n",
    "        norm_lons.append(float(row['lonp1'])*(-1.))\n",
    "print('norm_lats:',norm_lats,'\\nnorm_lons:',norm_lons)"
   ]
  },
  {
   "cell_type": "code",
   "execution_count": 20,
   "metadata": {},
   "outputs": [],
   "source": [
    "initial_zoom = 12\n",
    "gmap = CustomGoogleMapPlotter(norm_lats[0], norm_lons[0], initial_zoom,\n",
    "                              map_type='satellite')\n",
    "gmap.scatter(norm_lats,norm_lons,alpha=0.5,c='red', marker=True)\n",
    "gmap.draw(\"norm_map5.html\")"
   ]
  },
  {
   "cell_type": "code",
   "execution_count": 11,
   "metadata": {},
   "outputs": [
    {
     "name": "stdout",
     "output_type": "stream",
     "text": [
      "depth_lats: [38.596677793292635, 38.597130939824154, 38.59735337371244, 38.59741223707159, 38.59741296436111, 38.59741295019673, 38.597412940560716, 38.59749726874073, 38.59780360158391] \n",
      "depth_lons: [-90.64009297090905, -90.64047710514045, -90.64069490378199, -90.64074763809417, -90.64074710927805, -90.64074707788718, -90.6407470565321, -90.64085774147402, -90.64116144240052]\n"
     ]
    }
   ],
   "source": [
    "depth_lats = []\n",
    "depth_lons = []\n",
    "with open('./object_positions.csv','r') as f:\n",
    "    reader = csv.DictReader(f)\n",
    "    for row in reader:\n",
    "        depth_lats.append(float(row['latp']))\n",
    "        depth_lons.append(float(row['lonp'])*(-1.))\n",
    "print('depth_lats:',depth_lats,'\\ndepth_lons:',depth_lons)"
   ]
  },
  {
   "cell_type": "code",
   "execution_count": 14,
   "metadata": {},
   "outputs": [],
   "source": [
    "initial_zoom = 12\n",
    "gmap = CustomGoogleMapPlotter(depth_lats[0], depth_lons[0], initial_zoom,\n",
    "                              map_type='satellite')\n",
    "gmap.scatter(depth_lats,depth_lons,alpha=0.5,c='red', marker=True)\n",
    "gmap.draw(\"depth_map2.html\")"
   ]
  },
  {
   "cell_type": "code",
   "execution_count": null,
   "metadata": {},
   "outputs": [],
   "source": []
  }
 ],
 "metadata": {
  "kernelspec": {
   "display_name": "Python 3",
   "language": "python",
   "name": "python3"
  },
  "language_info": {
   "codemirror_mode": {
    "name": "ipython",
    "version": 3
   },
   "file_extension": ".py",
   "mimetype": "text/x-python",
   "name": "python",
   "nbconvert_exporter": "python",
   "pygments_lexer": "ipython3",
   "version": "3.7.3"
  }
 },
 "nbformat": 4,
 "nbformat_minor": 2
}
