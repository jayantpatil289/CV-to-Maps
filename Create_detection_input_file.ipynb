{
 "cells": [
  {
   "cell_type": "code",
   "execution_count": 19,
   "metadata": {},
   "outputs": [],
   "source": [
    "import pickle\n",
    "import json\n",
    "import csv"
   ]
  },
  {
   "cell_type": "code",
   "execution_count": 8,
   "metadata": {},
   "outputs": [],
   "source": [
    "with open(\"./Mask_RCNN/samples/water_towers/depth_values.pkl\", \"rb\") as dv:\n",
    "    depth_vls = pickle.load(dv)"
   ]
  },
  {
   "cell_type": "code",
   "execution_count": 2,
   "metadata": {},
   "outputs": [],
   "source": [
    "#create dictionary of bearing/heading values\n",
    "heading_list = [('frame7920',287),('frame7973',281),('frame11288',270),('frame11289',270),('frame12048',348),\n",
    "                ('frame12049',337),('frame12050',335),('frame12052',331),('frame12053',330),('frame12054',330),\n",
    "                ('frame12055',330),('frame12056',328),('frame12057',327),('frame12058',327),('frame12349',326),\n",
    "                ('frame12350',326),('frame12351',326),('frame12669',285),('frame12670',285),('frame12672',284),\n",
    "                ('frame13731',250),('frame13732',251),('frame14431',273),('frame16433',216),('frame16434',215),\n",
    "                ('frame18135',303),('frame33152',269)]\n",
    "heading_dict = dict(heading_list)"
   ]
  },
  {
   "cell_type": "code",
   "execution_count": 3,
   "metadata": {},
   "outputs": [
    {
     "data": {
      "text/plain": [
       "{'frame7920': 287,\n",
       " 'frame7973': 281,\n",
       " 'frame11288': 270,\n",
       " 'frame11289': 270,\n",
       " 'frame12048': 348,\n",
       " 'frame12049': 337,\n",
       " 'frame12050': 335,\n",
       " 'frame12052': 331,\n",
       " 'frame12053': 330,\n",
       " 'frame12054': 330,\n",
       " 'frame12055': 330,\n",
       " 'frame12056': 328,\n",
       " 'frame12057': 327,\n",
       " 'frame12058': 327,\n",
       " 'frame12349': 326,\n",
       " 'frame12350': 326,\n",
       " 'frame12351': 326,\n",
       " 'frame12669': 285,\n",
       " 'frame12670': 285,\n",
       " 'frame12672': 284,\n",
       " 'frame13731': 250,\n",
       " 'frame13732': 251,\n",
       " 'frame14431': 273,\n",
       " 'frame16433': 216,\n",
       " 'frame16434': 215,\n",
       " 'frame18135': 303,\n",
       " 'frame33152': 269}"
      ]
     },
     "execution_count": 3,
     "metadata": {},
     "output_type": "execute_result"
    }
   ],
   "source": [
    "heading_dict"
   ]
  },
  {
   "cell_type": "code",
   "execution_count": 5,
   "metadata": {},
   "outputs": [],
   "source": [
    "with open('image_txt.json','r') as coords:\n",
    "    image_txt = json.load(coords)"
   ]
  },
  {
   "cell_type": "code",
   "execution_count": 16,
   "metadata": {},
   "outputs": [
    {
     "data": {
      "text/plain": [
       "{'frame11288': 1.1417814,\n",
       " 'frame11289': 1.0169624,\n",
       " 'frame12048': 0.9858812,\n",
       " 'frame12049': 0.96916014,\n",
       " 'frame12050': 0.9155358,\n",
       " 'frame12052': 0.91025686,\n",
       " 'frame12053': 0.9102273,\n",
       " 'frame12054': 0.9096894,\n",
       " 'frame12055': 0.9093233,\n",
       " 'frame12056': 0.9055825,\n",
       " 'frame12057': 0.89271754,\n",
       " 'frame12058': 1.2999741,\n",
       " 'frame12349': 1.0757191,\n",
       " 'frame12350': 0.9950051,\n",
       " 'frame12351': 1.2459457,\n",
       " 'frame12669': 2.1056335,\n",
       " 'frame12670': 2.0850503,\n",
       " 'frame12672': 0.9919193,\n",
       " 'frame13731': 1.6799518,\n",
       " 'frame13732': 0.95637995,\n",
       " 'frame14431': 0.84524286,\n",
       " 'frame16433': 1.5303446,\n",
       " 'frame16434': 1.3227637,\n",
       " 'frame18135': 1.0443932,\n",
       " 'frame33152': 1.2270098,\n",
       " 'frame7920': 1.3969398,\n",
       " 'frame7973': 0.9277557}"
      ]
     },
     "execution_count": 16,
     "metadata": {},
     "output_type": "execute_result"
    }
   ],
   "source": [
    "depth_vls_clean = {}\n",
    "for k, v in depth_vls.items():\n",
    "    depth_vls_clean[k.split('_')[0]] = v\n",
    "depth_vls_clean"
   ]
  },
  {
   "cell_type": "code",
   "execution_count": 18,
   "metadata": {},
   "outputs": [
    {
     "data": {
      "text/plain": [
       "{'frame11288': {'lat': 38.598777777777784,\n",
       "  'lon': 89.97516666666667,\n",
       "  'bearing': 270.0,\n",
       "  'depth': 1.1417814},\n",
       " 'frame11289': {'lat': 38.59875,\n",
       "  'lon': 89.97661111111111,\n",
       "  'bearing': 270.0,\n",
       "  'depth': 1.0169624},\n",
       " 'frame12048': {'lat': 38.59666666666667,\n",
       "  'lon': 90.64002777777779,\n",
       "  'bearing': 348.0,\n",
       "  'depth': 0.9858812},\n",
       " 'frame12049': {'lat': 38.59711111111111,\n",
       "  'lon': 90.64041666666667,\n",
       "  'bearing': 337.0,\n",
       "  'depth': 0.96916014},\n",
       " 'frame12050': {'lat': 38.59733333333334,\n",
       "  'lon': 90.6406388888889,\n",
       "  'bearing': 335.0,\n",
       "  'depth': 0.9155358},\n",
       " 'frame12052': {'lat': 38.597388888888894,\n",
       "  'lon': 90.64069444444445,\n",
       "  'bearing': 331.0,\n",
       "  'depth': 0.91025686},\n",
       " 'frame12053': {'lat': 38.597388888888894,\n",
       "  'lon': 90.64069444444445,\n",
       "  'bearing': 330.0,\n",
       "  'depth': 0.9102273},\n",
       " 'frame12054': {'lat': 38.597388888888894,\n",
       "  'lon': 90.64069444444445,\n",
       "  'bearing': 330.0,\n",
       "  'depth': 0.9096894},\n",
       " 'frame12055': {'lat': 38.597388888888894,\n",
       "  'lon': 90.64069444444445,\n",
       "  'bearing': 330.0,\n",
       "  'depth': 0.9093233},\n",
       " 'frame12056': {'lat': 38.59747222222222,\n",
       "  'lon': 90.64080555555556,\n",
       "  'bearing': 328.0,\n",
       "  'depth': 0.9055825},\n",
       " 'frame12057': {'lat': 38.59777777777778,\n",
       "  'lon': 90.64111111111112,\n",
       "  'bearing': 327.0,\n",
       "  'depth': 0.89271754},\n",
       " 'frame12058': {'lat': 38.59813888888889,\n",
       "  'lon': 90.64144444444445,\n",
       "  'bearing': 327.0,\n",
       "  'depth': 1.2999741},\n",
       " 'frame12349': {'lat': 38.75975,\n",
       "  'lon': 90.76341666666667,\n",
       "  'bearing': 326.0,\n",
       "  'depth': 1.0757191},\n",
       " 'frame12350': {'lat': 38.76063888888889,\n",
       "  'lon': 90.76422222222222,\n",
       "  'bearing': 326.0,\n",
       "  'depth': 0.9950051},\n",
       " 'frame12351': {'lat': 38.76155555555555,\n",
       "  'lon': 90.76511111111111,\n",
       "  'bearing': 326.0,\n",
       "  'depth': 1.2459457},\n",
       " 'frame12669': {'lat': 38.82391666666667,\n",
       "  'lon': 91.19747222222223,\n",
       "  'bearing': 285.0,\n",
       "  'depth': 2.1056335},\n",
       " 'frame12670': {'lat': 38.824361111111116,\n",
       "  'lon': 91.19891666666668,\n",
       "  'bearing': 285.0,\n",
       "  'depth': 2.0850503},\n",
       " 'frame12672': {'lat': 38.82522222222222,\n",
       "  'lon': 91.20175,\n",
       "  'bearing': 284.0,\n",
       "  'depth': 0.9919193},\n",
       " 'frame13731': {'lat': 38.93588888888888,\n",
       "  'lon': 92.77483333333333,\n",
       "  'bearing': 250.0,\n",
       "  'depth': 1.6799518},\n",
       " 'frame13732': {'lat': 38.93586111111111,\n",
       "  'lon': 92.77638888888889,\n",
       "  'bearing': 251.0,\n",
       "  'depth': 0.95637995},\n",
       " 'frame14431': {'lat': 39.00333333333333,\n",
       "  'lon': 93.82525,\n",
       "  'bearing': 273.0,\n",
       "  'depth': 0.84524286},\n",
       " 'frame16433': {'lat': 39.05008333333333,\n",
       "  'lon': 96.75666666666666,\n",
       "  'bearing': 216.0,\n",
       "  'depth': 1.5303446},\n",
       " 'frame16434': {'lat': 39.049055555555555,\n",
       "  'lon': 96.75758333333333,\n",
       "  'bearing': 215.0,\n",
       "  'depth': 1.3227637},\n",
       " 'frame18135': {'lat': 38.888777777777776,\n",
       "  'lon': 99.29583333333333,\n",
       "  'bearing': 303.0,\n",
       "  'depth': 1.0443932},\n",
       " 'frame33152': {'lat': 43.598333333333336,\n",
       "  'lon': 116.53794444444445,\n",
       "  'bearing': 269.0,\n",
       "  'depth': 1.2270098},\n",
       " 'frame7920': {'lat': 38.206583333333334,\n",
       "  'lon': 85.34008333333333,\n",
       "  'bearing': 287.0,\n",
       "  'depth': 1.3969398},\n",
       " 'frame7973': {'lat': 38.21819444444445,\n",
       "  'lon': 85.4191388888889,\n",
       "  'bearing': 281.0,\n",
       "  'depth': 0.9277557}}"
      ]
     },
     "execution_count": 18,
     "metadata": {},
     "output_type": "execute_result"
    }
   ],
   "source": [
    "all_img_info = {}\n",
    "for k, v in depth_vls_clean.items():\n",
    "    all_img_info[k] = {'lat': image_txt[k]['Lat'], 'lon': image_txt[k]['Lon'],\n",
    "                       'bearing': float(heading_dict[k]), 'depth': v}\n",
    "all_img_info"
   ]
  },
  {
   "cell_type": "code",
   "execution_count": 28,
   "metadata": {},
   "outputs": [
    {
     "data": {
      "text/plain": [
       "dict_keys(['lat', 'lon', 'bearing', 'depth'])"
      ]
     },
     "execution_count": 28,
     "metadata": {},
     "output_type": "execute_result"
    }
   ],
   "source": [
    "keys = list(all_img_info.values())[0].keys()\n",
    "keys"
   ]
  },
  {
   "cell_type": "code",
   "execution_count": 30,
   "metadata": {},
   "outputs": [],
   "source": [
    "with open('detection_input.csv', 'w') as f:\n",
    "    writer = csv.DictWriter(f, fieldnames=keys)\n",
    "    writer.writeheader()\n",
    "    writer.writerows(list(all_img_info.values()))"
   ]
  },
  {
   "cell_type": "code",
   "execution_count": null,
   "metadata": {},
   "outputs": [],
   "source": []
  }
 ],
 "metadata": {
  "kernelspec": {
   "display_name": "Python 3",
   "language": "python",
   "name": "python3"
  },
  "language_info": {
   "codemirror_mode": {
    "name": "ipython",
    "version": 3
   },
   "file_extension": ".py",
   "mimetype": "text/x-python",
   "name": "python",
   "nbconvert_exporter": "python",
   "pygments_lexer": "ipython3",
   "version": "3.6.6"
  }
 },
 "nbformat": 4,
 "nbformat_minor": 2
}
