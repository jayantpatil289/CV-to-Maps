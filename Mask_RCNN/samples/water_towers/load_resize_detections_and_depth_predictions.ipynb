{
 "cells": [
  {
   "cell_type": "code",
   "execution_count": 1,
   "metadata": {},
   "outputs": [],
   "source": [
    "import pickle"
   ]
  },
  {
   "cell_type": "code",
   "execution_count": 2,
   "metadata": {},
   "outputs": [],
   "source": [
    "import numpy as np"
   ]
  },
  {
   "cell_type": "code",
   "execution_count": 3,
   "metadata": {},
   "outputs": [],
   "source": [
    "import matplotlib.pyplot as plt\n",
    "%matplotlib inline"
   ]
  },
  {
   "cell_type": "code",
   "execution_count": 4,
   "metadata": {},
   "outputs": [],
   "source": [
    "import cv2"
   ]
  },
  {
   "cell_type": "code",
   "execution_count": 5,
   "metadata": {},
   "outputs": [
    {
     "data": {
      "text/plain": [
       "'3.4.2'"
      ]
     },
     "execution_count": 5,
     "metadata": {},
     "output_type": "execute_result"
    }
   ],
   "source": [
    "cv2.__version__"
   ]
  },
  {
   "cell_type": "code",
   "execution_count": 6,
   "metadata": {},
   "outputs": [],
   "source": [
    "import imageio\n",
    "import PIL"
   ]
  },
  {
   "cell_type": "code",
   "execution_count": 7,
   "metadata": {},
   "outputs": [
    {
     "data": {
      "text/plain": [
       "'2.5.0'"
      ]
     },
     "execution_count": 7,
     "metadata": {},
     "output_type": "execute_result"
    }
   ],
   "source": [
    "imageio.__version__"
   ]
  },
  {
   "cell_type": "code",
   "execution_count": 8,
   "metadata": {},
   "outputs": [
    {
     "data": {
      "text/plain": [
       "'5.3.0'"
      ]
     },
     "execution_count": 8,
     "metadata": {},
     "output_type": "execute_result"
    }
   ],
   "source": [
    "PIL.__version__"
   ]
  },
  {
   "cell_type": "code",
   "execution_count": 9,
   "metadata": {},
   "outputs": [],
   "source": [
    "import scipy.ndimage"
   ]
  },
  {
   "cell_type": "code",
   "execution_count": 87,
   "metadata": {},
   "outputs": [
    {
     "name": "stdout",
     "output_type": "stream",
     "text": [
      "Imageio: 'libfreeimage-3.16.0-osx10.6.dylib' was not found on your computer; downloading it now.\n",
      "Try 1. Download from https://github.com/imageio/imageio-binaries/raw/master/freeimage/libfreeimage-3.16.0-osx10.6.dylib (4.3 MB)\n",
      "Downloading: 8192/4461680 bytes (0.2%245760/4461680 bytes (5.5%491520/4461680 bytes (11.0720896/4461680 bytes (16.21015808/4461680 bytes (22.8%1359872/4461680 bytes (30.5%1695744/4461680 bytes (38.0%2015232/4461680 bytes (45.2%2326528/4461680 bytes (52.1%2678784/4461680 bytes (60.0%2965504/4461680 bytes (66.5%3211264/4461680 bytes (72.0%3424256/4461680 bytes (76.7%3768320/4461680 bytes (84.5%4096000/4461680 bytes (91.8%4440064/4461680 bytes (99.5%4461680/4461680 bytes (100.0%)\n",
      "  Done\n",
      "File saved as /Users/sashakapralov/Library/Application Support/imageio/freeimage/libfreeimage-3.16.0-osx10.6.dylib.\n"
     ]
    }
   ],
   "source": [
    "imageio.plugins.freeimage.download()"
   ]
  },
  {
   "cell_type": "markdown",
   "metadata": {},
   "source": [
    "### Investigate loading of tower mask data"
   ]
  },
  {
   "cell_type": "code",
   "execution_count": 10,
   "metadata": {},
   "outputs": [],
   "source": [
    "#load dictionary of masks (pixel locations of correctly identified towers)\n",
    "with open(\"masks_dict.pkl\", \"rb\") as md:\n",
    "    final_mask_dict = pickle.load(md)"
   ]
  },
  {
   "cell_type": "code",
   "execution_count": 11,
   "metadata": {},
   "outputs": [
    {
     "data": {
      "text/plain": [
       "27"
      ]
     },
     "execution_count": 11,
     "metadata": {},
     "output_type": "execute_result"
    }
   ],
   "source": [
    "len(final_mask_dict)"
   ]
  },
  {
   "cell_type": "code",
   "execution_count": 12,
   "metadata": {},
   "outputs": [
    {
     "data": {
      "text/plain": [
       "dict_keys(['frame11288_splash.jpg', 'frame11289_splash.jpg', 'frame12048_splash.jpg', 'frame12049_splash.jpg', 'frame12050_splash.jpg', 'frame12052_splash.jpg', 'frame12053_splash.jpg', 'frame12054_splash.jpg', 'frame12055_splash.jpg', 'frame12056_splash.jpg', 'frame12057_splash.jpg', 'frame12058_splash.jpg', 'frame12349_splash.jpg', 'frame12350_splash.jpg', 'frame12351_splash.jpg', 'frame12669_splash.jpg', 'frame12670_splash.jpg', 'frame12672_splash.jpg', 'frame13731_splash.jpg', 'frame13732_splash.jpg', 'frame14431_splash.jpg', 'frame16433_splash.jpg', 'frame16434_splash.jpg', 'frame18135_splash.jpg', 'frame33152_splash.jpg', 'frame7920_splash.jpg', 'frame7973_splash.jpg'])"
      ]
     },
     "execution_count": 12,
     "metadata": {},
     "output_type": "execute_result"
    }
   ],
   "source": [
    "final_mask_dict.keys()"
   ]
  },
  {
   "cell_type": "code",
   "execution_count": 13,
   "metadata": {},
   "outputs": [
    {
     "data": {
      "text/plain": [
       "(1080, 1920, 1)"
      ]
     },
     "execution_count": 13,
     "metadata": {},
     "output_type": "execute_result"
    }
   ],
   "source": [
    "final_mask_dict['frame18135_splash.jpg'].shape"
   ]
  },
  {
   "cell_type": "code",
   "execution_count": 14,
   "metadata": {},
   "outputs": [
    {
     "data": {
      "text/plain": [
       "(1080, 1920, 2)"
      ]
     },
     "execution_count": 14,
     "metadata": {},
     "output_type": "execute_result"
    }
   ],
   "source": [
    "final_mask_dict['frame12048_splash.jpg'].shape"
   ]
  },
  {
   "cell_type": "code",
   "execution_count": 15,
   "metadata": {},
   "outputs": [
    {
     "data": {
      "text/plain": [
       "array([False, False])"
      ]
     },
     "execution_count": 15,
     "metadata": {},
     "output_type": "execute_result"
    }
   ],
   "source": [
    "final_mask_dict['frame12048_splash.jpg'][1,1,:]"
   ]
  },
  {
   "cell_type": "code",
   "execution_count": 16,
   "metadata": {},
   "outputs": [
    {
     "name": "stdout",
     "output_type": "stream",
     "text": [
      "(1080, 1920, 1)\n",
      "(1080, 1920, 1)\n",
      "(1080, 1920, 2)\n",
      "(1080, 1920, 1)\n",
      "(1080, 1920, 1)\n",
      "(1080, 1920, 1)\n",
      "(1080, 1920, 1)\n",
      "(1080, 1920, 1)\n",
      "(1080, 1920, 1)\n",
      "(1080, 1920, 1)\n",
      "(1080, 1920, 1)\n",
      "(1080, 1920, 1)\n",
      "(1080, 1920, 1)\n",
      "(1080, 1920, 1)\n",
      "(1080, 1920, 1)\n",
      "(1080, 1920, 1)\n",
      "(1080, 1920, 1)\n",
      "(1080, 1920, 1)\n",
      "(1080, 1920, 1)\n",
      "(1080, 1920, 1)\n",
      "(1080, 1920, 1)\n",
      "(1080, 1920, 1)\n",
      "(1080, 1920, 1)\n",
      "(1080, 1920, 1)\n",
      "(1080, 1920, 1)\n",
      "(1080, 1920, 1)\n",
      "(1080, 1920, 1)\n"
     ]
    }
   ],
   "source": [
    "for img_file in final_mask_dict.keys():\n",
    "    print(final_mask_dict[img_file].shape)"
   ]
  },
  {
   "cell_type": "code",
   "execution_count": 17,
   "metadata": {},
   "outputs": [],
   "source": [
    "unique, counts = np.unique(final_mask_dict['frame12048_splash.jpg'], return_counts=True)"
   ]
  },
  {
   "cell_type": "code",
   "execution_count": 18,
   "metadata": {},
   "outputs": [
    {
     "name": "stdout",
     "output_type": "stream",
     "text": [
      "[[      0 4139850]\n",
      " [      1    7350]]\n"
     ]
    }
   ],
   "source": [
    "print(np.asarray((unique,counts)).T)"
   ]
  },
  {
   "cell_type": "code",
   "execution_count": 19,
   "metadata": {},
   "outputs": [
    {
     "name": "stdout",
     "output_type": "stream",
     "text": [
      "[[      0 2071608]\n",
      " [      1    1992]]\n"
     ]
    }
   ],
   "source": [
    "unique, counts = np.unique(final_mask_dict['frame12048_splash.jpg'][:,:,0], return_counts=True)\n",
    "print(np.asarray((unique,counts)).T)"
   ]
  },
  {
   "cell_type": "code",
   "execution_count": 20,
   "metadata": {},
   "outputs": [
    {
     "name": "stdout",
     "output_type": "stream",
     "text": [
      "[[      0 2068242]\n",
      " [      1    5358]]\n"
     ]
    }
   ],
   "source": [
    "unique, counts = np.unique(final_mask_dict['frame12048_splash.jpg'][:,:,1], return_counts=True)\n",
    "print(np.asarray((unique,counts)).T)"
   ]
  },
  {
   "cell_type": "code",
   "execution_count": 21,
   "metadata": {},
   "outputs": [
    {
     "data": {
      "text/plain": [
       "<matplotlib.image.AxesImage at 0xb2d851f60>"
      ]
     },
     "execution_count": 21,
     "metadata": {},
     "output_type": "execute_result"
    },
    {
     "data": {
      "image/png": "[encoded data removed]",
      "text/plain": [
       "<Figure size 432x288 with 1 Axes>"
      ]
     },
     "metadata": {
      "needs_background": "light"
     },
     "output_type": "display_data"
    }
   ],
   "source": [
    "plt.imshow(final_mask_dict['frame12048_splash.jpg'][:,:,0])"
   ]
  },
  {
   "cell_type": "code",
   "execution_count": 22,
   "metadata": {},
   "outputs": [
    {
     "data": {
      "text/plain": [
       "<matplotlib.image.AxesImage at 0xb2e2c5ac8>"
      ]
     },
     "execution_count": 22,
     "metadata": {},
     "output_type": "execute_result"
    },
    {
     "data": {
      "image/png": "[encoded data removed]",
      "text/plain": [
       "<Figure size 432x288 with 1 Axes>"
      ]
     },
     "metadata": {
      "needs_background": "light"
     },
     "output_type": "display_data"
    }
   ],
   "source": [
    "plt.imshow(final_mask_dict['frame12048_splash.jpg'][:,:,1])"
   ]
  },
  {
   "cell_type": "code",
   "execution_count": 23,
   "metadata": {},
   "outputs": [],
   "source": [
    "#remove second (incorrect) splash from frame12048\n",
    "temp_dict = {}\n",
    "temp_dict['frame12048_splash.jpg'] = final_mask_dict['frame12048_splash.jpg']"
   ]
  },
  {
   "cell_type": "code",
   "execution_count": 24,
   "metadata": {},
   "outputs": [],
   "source": [
    "temp_dict['frame12048_splash.jpg'] = np.delete(temp_dict['frame12048_splash.jpg'],1,2)"
   ]
  },
  {
   "cell_type": "code",
   "execution_count": 25,
   "metadata": {},
   "outputs": [
    {
     "data": {
      "text/plain": [
       "(1080, 1920, 1)"
      ]
     },
     "execution_count": 25,
     "metadata": {},
     "output_type": "execute_result"
    }
   ],
   "source": [
    "temp_dict['frame12048_splash.jpg'].shape"
   ]
  },
  {
   "cell_type": "code",
   "execution_count": 26,
   "metadata": {},
   "outputs": [
    {
     "data": {
      "text/plain": [
       "dict_keys(['frame12048_splash.jpg'])"
      ]
     },
     "execution_count": 26,
     "metadata": {},
     "output_type": "execute_result"
    }
   ],
   "source": [
    "temp_dict.keys()"
   ]
  },
  {
   "cell_type": "code",
   "execution_count": 27,
   "metadata": {},
   "outputs": [
    {
     "data": {
      "text/plain": [
       "<matplotlib.image.AxesImage at 0xb2e36a748>"
      ]
     },
     "execution_count": 27,
     "metadata": {},
     "output_type": "execute_result"
    },
    {
     "data": {
      "image/png": "[encoded data removed]",
      "text/plain": [
       "<Figure size 432x288 with 1 Axes>"
      ]
     },
     "metadata": {
      "needs_background": "light"
     },
     "output_type": "display_data"
    }
   ],
   "source": [
    "plt.imshow(temp_dict['frame12048_splash.jpg'][:,:,0])"
   ]
  },
  {
   "cell_type": "code",
   "execution_count": 28,
   "metadata": {},
   "outputs": [
    {
     "data": {
      "text/plain": [
       "array([[428, 661],\n",
       "       [428, 662],\n",
       "       [428, 663],\n",
       "       ...,\n",
       "       [506, 668],\n",
       "       [506, 669],\n",
       "       [506, 670]])"
      ]
     },
     "execution_count": 28,
     "metadata": {},
     "output_type": "execute_result"
    }
   ],
   "source": [
    "#identify locations (indices) of pixels where splash is located\n",
    "np.argwhere(temp_dict['frame12048_splash.jpg'][:,:,0]==True)"
   ]
  },
  {
   "cell_type": "code",
   "execution_count": 46,
   "metadata": {},
   "outputs": [],
   "source": [
    "splash_arr = np.argwhere(temp_dict['frame12048_splash.jpg'][:,:,0]==True)"
   ]
  },
  {
   "cell_type": "markdown",
   "metadata": {},
   "source": [
    "### Investigate how to work with depth prediction arrays"
   ]
  },
  {
   "cell_type": "code",
   "execution_count": 30,
   "metadata": {},
   "outputs": [],
   "source": [
    "#load depth prediction array for one image\n",
    "with open(\"../../../../FCRN-DepthPrediction/tensorflow/pred_array.pkl\", \"rb\") as pa:\n",
    "    pred_array = pickle.load(pa)"
   ]
  },
  {
   "cell_type": "code",
   "execution_count": 31,
   "metadata": {},
   "outputs": [
    {
     "data": {
      "text/plain": [
       "(1, 544, 960, 1)"
      ]
     },
     "execution_count": 31,
     "metadata": {},
     "output_type": "execute_result"
    }
   ],
   "source": [
    "pred_array.shape"
   ]
  },
  {
   "cell_type": "code",
   "execution_count": 32,
   "metadata": {},
   "outputs": [
    {
     "data": {
      "text/plain": [
       "array([[0.92335385]], dtype=float32)"
      ]
     },
     "execution_count": 32,
     "metadata": {},
     "output_type": "execute_result"
    }
   ],
   "source": [
    "pred_array[:,1,1,:]"
   ]
  },
  {
   "cell_type": "code",
   "execution_count": 33,
   "metadata": {},
   "outputs": [
    {
     "data": {
      "text/plain": [
       "array([[1.0370883]], dtype=float32)"
      ]
     },
     "execution_count": 33,
     "metadata": {},
     "output_type": "execute_result"
    }
   ],
   "source": [
    "pred_array[:,100,200,:]"
   ]
  },
  {
   "cell_type": "code",
   "execution_count": 34,
   "metadata": {},
   "outputs": [],
   "source": [
    "pred_array_sqz = pred_array[0,:,:,:]"
   ]
  },
  {
   "cell_type": "code",
   "execution_count": 35,
   "metadata": {},
   "outputs": [
    {
     "data": {
      "text/plain": [
       "(544, 960, 1)"
      ]
     },
     "execution_count": 35,
     "metadata": {},
     "output_type": "execute_result"
    }
   ],
   "source": [
    "pred_array_sqz.shape"
   ]
  },
  {
   "cell_type": "code",
   "execution_count": 36,
   "metadata": {},
   "outputs": [
    {
     "data": {
      "text/plain": [
       "array([0.94829893], dtype=float32)"
      ]
     },
     "execution_count": 36,
     "metadata": {},
     "output_type": "execute_result"
    }
   ],
   "source": [
    "pred_array_sqz[100,500]"
   ]
  },
  {
   "cell_type": "code",
   "execution_count": 37,
   "metadata": {},
   "outputs": [],
   "source": [
    "pred_arr_sqz = pred_array[0,:,:,0]"
   ]
  },
  {
   "cell_type": "code",
   "execution_count": 38,
   "metadata": {},
   "outputs": [
    {
     "data": {
      "text/plain": [
       "(544, 960)"
      ]
     },
     "execution_count": 38,
     "metadata": {},
     "output_type": "execute_result"
    }
   ],
   "source": [
    "pred_arr_sqz.shape"
   ]
  },
  {
   "cell_type": "markdown",
   "metadata": {},
   "source": [
    "#### Save array as EXR file and load it back from EXR to understand effect on array values"
   ]
  },
  {
   "cell_type": "code",
   "execution_count": 88,
   "metadata": {},
   "outputs": [],
   "source": [
    "imageio.imwrite('./pred_arr_sqz_float.exr',pred_arr_sqz)"
   ]
  },
  {
   "cell_type": "code",
   "execution_count": 89,
   "metadata": {},
   "outputs": [],
   "source": [
    "image_in = imageio.imread('./pred_arr_sqz_float.exr')"
   ]
  },
  {
   "cell_type": "code",
   "execution_count": 90,
   "metadata": {},
   "outputs": [
    {
     "data": {
      "text/plain": [
       "imageio.core.util.Array"
      ]
     },
     "execution_count": 90,
     "metadata": {},
     "output_type": "execute_result"
    }
   ],
   "source": [
    "type(image_in)"
   ]
  },
  {
   "cell_type": "code",
   "execution_count": 92,
   "metadata": {},
   "outputs": [],
   "source": [
    "assert image_in.dtype == np.float32"
   ]
  },
  {
   "cell_type": "code",
   "execution_count": 93,
   "metadata": {},
   "outputs": [
    {
     "data": {
      "text/plain": [
       "(544, 960)"
      ]
     },
     "execution_count": 93,
     "metadata": {},
     "output_type": "execute_result"
    }
   ],
   "source": [
    "image_in.shape"
   ]
  },
  {
   "cell_type": "code",
   "execution_count": 94,
   "metadata": {},
   "outputs": [
    {
     "data": {
      "text/plain": [
       "1.0654297"
      ]
     },
     "execution_count": 94,
     "metadata": {},
     "output_type": "execute_result"
    }
   ],
   "source": [
    "image_in[100,500]"
   ]
  },
  {
   "cell_type": "code",
   "execution_count": 95,
   "metadata": {},
   "outputs": [
    {
     "data": {
      "text/plain": [
       "1.0653863"
      ]
     },
     "execution_count": 95,
     "metadata": {},
     "output_type": "execute_result"
    }
   ],
   "source": [
    "pred_arr_sqz[100,500]"
   ]
  },
  {
   "cell_type": "code",
   "execution_count": 104,
   "metadata": {},
   "outputs": [
    {
     "data": {
      "text/plain": [
       "array([[100, 500]])"
      ]
     },
     "execution_count": 104,
     "metadata": {},
     "output_type": "execute_result"
    }
   ],
   "source": [
    "np.argwhere(pred_arr_sqz==1.0653863)"
   ]
  },
  {
   "cell_type": "code",
   "execution_count": 107,
   "metadata": {},
   "outputs": [
    {
     "data": {
      "text/plain": [
       "array([], shape=(0, 2), dtype=int64)"
      ]
     },
     "execution_count": 107,
     "metadata": {},
     "output_type": "execute_result"
    }
   ],
   "source": [
    "np.argwhere(pred_arr_sqz==1.0654297)"
   ]
  },
  {
   "cell_type": "code",
   "execution_count": 108,
   "metadata": {},
   "outputs": [
    {
     "data": {
      "text/plain": [
       "<matplotlib.image.AxesImage at 0x1247c0240>"
      ]
     },
     "execution_count": 108,
     "metadata": {},
     "output_type": "execute_result"
    },
    {
     "data": {
      "image/png": "[encoded data removed]",
      "text/plain": [
       "<Figure size 432x288 with 1 Axes>"
      ]
     },
     "metadata": {
      "needs_background": "light"
     },
     "output_type": "display_data"
    }
   ],
   "source": [
    "plt.imshow(pred_arr_sqz)"
   ]
  },
  {
   "cell_type": "code",
   "execution_count": 109,
   "metadata": {},
   "outputs": [
    {
     "data": {
      "text/plain": [
       "<matplotlib.image.AxesImage at 0x1195f4e80>"
      ]
     },
     "execution_count": 109,
     "metadata": {},
     "output_type": "execute_result"
    },
    {
     "data": {
      "image/png": "[encoded data removed]",
      "text/plain": [
       "<Figure size 432x288 with 1 Axes>"
      ]
     },
     "metadata": {
      "needs_background": "light"
     },
     "output_type": "display_data"
    }
   ],
   "source": [
    "plt.imshow(image_in)"
   ]
  },
  {
   "cell_type": "markdown",
   "metadata": {},
   "source": [
    "**CONCLUSION:** Saving and loading array from EXR modifies original array values"
   ]
  },
  {
   "cell_type": "markdown",
   "metadata": {},
   "source": [
    "#### Use scipy.ndimage.interpolation.zoom to enlarge array without first saving it and loading it from EXR file"
   ]
  },
  {
   "cell_type": "code",
   "execution_count": 119,
   "metadata": {},
   "outputs": [],
   "source": [
    "im2 = scipy.ndimage.interpolation.zoom(pred_arr_sqz, 2.)"
   ]
  },
  {
   "cell_type": "code",
   "execution_count": 120,
   "metadata": {},
   "outputs": [
    {
     "data": {
      "text/plain": [
       "(1088, 1920)"
      ]
     },
     "execution_count": 120,
     "metadata": {},
     "output_type": "execute_result"
    }
   ],
   "source": [
    "im2.shape"
   ]
  },
  {
   "cell_type": "code",
   "execution_count": 121,
   "metadata": {},
   "outputs": [
    {
     "data": {
      "text/plain": [
       "1.055502"
      ]
     },
     "execution_count": 121,
     "metadata": {},
     "output_type": "execute_result"
    }
   ],
   "source": [
    "im2[100,100]"
   ]
  },
  {
   "cell_type": "code",
   "execution_count": 126,
   "metadata": {},
   "outputs": [
    {
     "data": {
      "text/plain": [
       "<matplotlib.image.AxesImage at 0xb271eee10>"
      ]
     },
     "execution_count": 126,
     "metadata": {},
     "output_type": "execute_result"
    },
    {
     "data": {
      "image/png": "[encoded data removed]",
      "text/plain": [
       "<Figure size 432x288 with 1 Axes>"
      ]
     },
     "metadata": {
      "needs_background": "light"
     },
     "output_type": "display_data"
    }
   ],
   "source": [
    "plt.imshow(im2)"
   ]
  },
  {
   "cell_type": "code",
   "execution_count": 123,
   "metadata": {},
   "outputs": [],
   "source": [
    "im3 = scipy.ndimage.interpolation.zoom(pred_array_sqz, 2.)"
   ]
  },
  {
   "cell_type": "code",
   "execution_count": 129,
   "metadata": {},
   "outputs": [
    {
     "data": {
      "text/plain": [
       "(1088, 1920, 2)"
      ]
     },
     "execution_count": 129,
     "metadata": {},
     "output_type": "execute_result"
    }
   ],
   "source": [
    "im3.shape"
   ]
  },
  {
   "cell_type": "code",
   "execution_count": 125,
   "metadata": {},
   "outputs": [
    {
     "data": {
      "text/plain": [
       "array([1.055502, 1.055502], dtype=float32)"
      ]
     },
     "execution_count": 125,
     "metadata": {},
     "output_type": "execute_result"
    }
   ],
   "source": [
    "im3[100,100,:]"
   ]
  },
  {
   "cell_type": "code",
   "execution_count": 128,
   "metadata": {},
   "outputs": [
    {
     "data": {
      "text/plain": [
       "<matplotlib.image.AxesImage at 0xb2a33b208>"
      ]
     },
     "execution_count": 128,
     "metadata": {},
     "output_type": "execute_result"
    },
    {
     "data": {
      "image/png": "[encoded data removed]",
      "text/plain": [
       "<Figure size 432x288 with 1 Axes>"
      ]
     },
     "metadata": {
      "needs_background": "light"
     },
     "output_type": "display_data"
    }
   ],
   "source": [
    "plt.imshow(im3[:,:,0])"
   ]
  },
  {
   "cell_type": "markdown",
   "metadata": {},
   "source": [
    "#### Resize and plot array created from reading in of EXR file (using OpenCV)"
   ]
  },
  {
   "cell_type": "code",
   "execution_count": 110,
   "metadata": {},
   "outputs": [],
   "source": [
    "r_in,c_in = image_in.shape\n",
    "res_in = cv2.resize(image_in, (2*c_in, 2*r_in), interpolation = cv2.INTER_CUBIC)"
   ]
  },
  {
   "cell_type": "code",
   "execution_count": 111,
   "metadata": {},
   "outputs": [
    {
     "data": {
      "text/plain": [
       "(1088, 1920)"
      ]
     },
     "execution_count": 111,
     "metadata": {},
     "output_type": "execute_result"
    }
   ],
   "source": [
    "res_in.shape"
   ]
  },
  {
   "cell_type": "code",
   "execution_count": 112,
   "metadata": {},
   "outputs": [
    {
     "data": {
      "text/plain": [
       "<matplotlib.image.AxesImage at 0x1250d3cf8>"
      ]
     },
     "execution_count": 112,
     "metadata": {},
     "output_type": "execute_result"
    },
    {
     "data": {
      "image/png": "[encoded data removed]",
      "text/plain": [
       "<Figure size 432x288 with 1 Axes>"
      ]
     },
     "metadata": {
      "needs_background": "light"
     },
     "output_type": "display_data"
    }
   ],
   "source": [
    "plt.imshow(res_in)"
   ]
  },
  {
   "cell_type": "code",
   "execution_count": 122,
   "metadata": {},
   "outputs": [
    {
     "data": {
      "text/plain": [
       "1.0542848"
      ]
     },
     "execution_count": 122,
     "metadata": {},
     "output_type": "execute_result"
    }
   ],
   "source": [
    "res_in[100,100]"
   ]
  },
  {
   "cell_type": "markdown",
   "metadata": {},
   "source": [
    "**CONCLUSION:** OpenCV can resize this kind of array (created from loading EXR file) while still keeping float values, but the process of saving array to EXR file and loading it from EXR modifies values."
   ]
  },
  {
   "cell_type": "markdown",
   "metadata": {},
   "source": [
    "#### Save prediction array to EXR and load it using OpenCV, then resize it using OpenCV"
   ]
  },
  {
   "cell_type": "code",
   "execution_count": 70,
   "metadata": {},
   "outputs": [
    {
     "data": {
      "text/plain": [
       "True"
      ]
     },
     "execution_count": 70,
     "metadata": {},
     "output_type": "execute_result"
    }
   ],
   "source": [
    "cv2.imwrite('pred_array_sqz.exr',pred_array_sqz)"
   ]
  },
  {
   "cell_type": "code",
   "execution_count": 71,
   "metadata": {},
   "outputs": [],
   "source": [
    "img = cv2.imread(\"pred_array_sqz.exr\")"
   ]
  },
  {
   "cell_type": "code",
   "execution_count": 72,
   "metadata": {},
   "outputs": [],
   "source": [
    "r,c = img.shape[:2]"
   ]
  },
  {
   "cell_type": "code",
   "execution_count": 73,
   "metadata": {},
   "outputs": [
    {
     "data": {
      "text/plain": [
       "(544, 960)"
      ]
     },
     "execution_count": 73,
     "metadata": {},
     "output_type": "execute_result"
    }
   ],
   "source": [
    "r, c"
   ]
  },
  {
   "cell_type": "code",
   "execution_count": 74,
   "metadata": {},
   "outputs": [
    {
     "data": {
      "text/plain": [
       "array([1, 1, 1], dtype=uint8)"
      ]
     },
     "execution_count": 74,
     "metadata": {},
     "output_type": "execute_result"
    }
   ],
   "source": [
    "img[100,400,:]"
   ]
  },
  {
   "cell_type": "code",
   "execution_count": 58,
   "metadata": {},
   "outputs": [],
   "source": [
    "res = cv2.resize(img, (2*c, 2*r), interpolation = cv2.INTER_CUBIC)"
   ]
  },
  {
   "cell_type": "code",
   "execution_count": 59,
   "metadata": {},
   "outputs": [
    {
     "data": {
      "text/plain": [
       "numpy.ndarray"
      ]
     },
     "execution_count": 59,
     "metadata": {},
     "output_type": "execute_result"
    }
   ],
   "source": [
    "type(res)"
   ]
  },
  {
   "cell_type": "code",
   "execution_count": 60,
   "metadata": {},
   "outputs": [
    {
     "data": {
      "text/plain": [
       "(1088, 1920, 3)"
      ]
     },
     "execution_count": 60,
     "metadata": {},
     "output_type": "execute_result"
    }
   ],
   "source": [
    "res.shape"
   ]
  },
  {
   "cell_type": "code",
   "execution_count": 61,
   "metadata": {},
   "outputs": [
    {
     "data": {
      "text/plain": [
       "<matplotlib.image.AxesImage at 0x1211c2940>"
      ]
     },
     "execution_count": 61,
     "metadata": {},
     "output_type": "execute_result"
    },
    {
     "data": {
      "image/png": "[encoded data removed]",
      "text/plain": [
       "<Figure size 432x288 with 1 Axes>"
      ]
     },
     "metadata": {
      "needs_background": "light"
     },
     "output_type": "display_data"
    }
   ],
   "source": [
    "plt.imshow(res)"
   ]
  },
  {
   "cell_type": "code",
   "execution_count": 64,
   "metadata": {},
   "outputs": [
    {
     "data": {
      "text/plain": [
       "array([1, 1, 1], dtype=uint8)"
      ]
     },
     "execution_count": 64,
     "metadata": {},
     "output_type": "execute_result"
    }
   ],
   "source": [
    "res[100,400,:]"
   ]
  },
  {
   "cell_type": "code",
   "execution_count": 66,
   "metadata": {},
   "outputs": [
    {
     "name": "stdout",
     "output_type": "stream",
     "text": [
      "[[      0     112]\n",
      " [      1 1950881]\n",
      " [      2  129434]\n",
      " [      3    7873]\n",
      " [      4     656]\n",
      " [      5       4]]\n"
     ]
    }
   ],
   "source": [
    "unique, counts = np.unique(res[:,:,0], return_counts=True)\n",
    "print(np.asarray((unique,counts)).T)"
   ]
  },
  {
   "cell_type": "markdown",
   "metadata": {},
   "source": [
    "**CONCLUSION**: Using OpenCV directly on a float array does not work as OpenCV converts values from EXR file to integers"
   ]
  },
  {
   "cell_type": "markdown",
   "metadata": {},
   "source": [
    "#### Enlarge array using OpenCV, but without first saving it to EXR file"
   ]
  },
  {
   "cell_type": "code",
   "execution_count": 130,
   "metadata": {},
   "outputs": [
    {
     "data": {
      "text/plain": [
       "(544, 960)"
      ]
     },
     "execution_count": 130,
     "metadata": {},
     "output_type": "execute_result"
    }
   ],
   "source": [
    "r, c = pred_arr_sqz.shape\n",
    "r, c"
   ]
  },
  {
   "cell_type": "code",
   "execution_count": 131,
   "metadata": {},
   "outputs": [],
   "source": [
    "im4 = cv2.resize(pred_arr_sqz, (c*2, r*2))"
   ]
  },
  {
   "cell_type": "code",
   "execution_count": 132,
   "metadata": {},
   "outputs": [
    {
     "data": {
      "text/plain": [
       "(1088, 1920)"
      ]
     },
     "execution_count": 132,
     "metadata": {},
     "output_type": "execute_result"
    }
   ],
   "source": [
    "im4.shape"
   ]
  },
  {
   "cell_type": "code",
   "execution_count": 133,
   "metadata": {},
   "outputs": [
    {
     "data": {
      "text/plain": [
       "1.0549669"
      ]
     },
     "execution_count": 133,
     "metadata": {},
     "output_type": "execute_result"
    }
   ],
   "source": [
    "im4[100,100]"
   ]
  },
  {
   "cell_type": "code",
   "execution_count": 43,
   "metadata": {},
   "outputs": [],
   "source": [
    "im5 = cv2.resize(pred_arr_sqz, (1920,1080), interpolation = cv2.INTER_CUBIC)"
   ]
  },
  {
   "cell_type": "code",
   "execution_count": 44,
   "metadata": {},
   "outputs": [
    {
     "data": {
      "text/plain": [
       "(1080, 1920)"
      ]
     },
     "execution_count": 44,
     "metadata": {},
     "output_type": "execute_result"
    }
   ],
   "source": [
    "im5.shape"
   ]
  },
  {
   "cell_type": "code",
   "execution_count": 45,
   "metadata": {},
   "outputs": [
    {
     "data": {
      "text/plain": [
       "1.1371437"
      ]
     },
     "execution_count": 45,
     "metadata": {},
     "output_type": "execute_result"
    }
   ],
   "source": [
    "im5[100,100]"
   ]
  },
  {
   "cell_type": "code",
   "execution_count": 42,
   "metadata": {},
   "outputs": [
    {
     "data": {
      "text/plain": [
       "<matplotlib.image.AxesImage at 0xb2e74b940>"
      ]
     },
     "execution_count": 42,
     "metadata": {},
     "output_type": "execute_result"
    },
    {
     "data": {
      "image/png": "[encoded data removed]",
      "text/plain": [
       "<Figure size 432x288 with 1 Axes>"
      ]
     },
     "metadata": {
      "needs_background": "light"
     },
     "output_type": "display_data"
    }
   ],
   "source": [
    "plt.imshow(im5)"
   ]
  },
  {
   "cell_type": "markdown",
   "metadata": {},
   "source": [
    "**CONCLUSION:** Using OpenCV directly to resize a float array works and allows you to specify the exact dimensions of resized image"
   ]
  },
  {
   "cell_type": "markdown",
   "metadata": {},
   "source": [
    "#### Test identifying pixels of mask on a depth prediction array and taking a trimmed mean of those pixel values "
   ]
  },
  {
   "cell_type": "code",
   "execution_count": 47,
   "metadata": {},
   "outputs": [
    {
     "data": {
      "text/plain": [
       "(1992, 2)"
      ]
     },
     "execution_count": 47,
     "metadata": {},
     "output_type": "execute_result"
    }
   ],
   "source": [
    "splash_arr.shape"
   ]
  },
  {
   "cell_type": "code",
   "execution_count": 51,
   "metadata": {},
   "outputs": [
    {
     "data": {
      "text/plain": [
       "((428, 661),\n",
       " (428, 662),\n",
       " (428, 663),\n",
       " (428, 664),\n",
       " (428, 665),\n",
       " (428, 666),\n",
       " (428, 667),\n",
       " (428, 668),\n",
       " (428, 669),\n",
       " (428, 670),\n",
       " (428, 671),\n",
       " (428, 672),\n",
       " (428, 673),\n",
       " (428, 674),\n",
       " (428, 675),\n",
       " (428, 676),\n",
       " (428, 677),\n",
       " (428, 678),\n",
       " (428, 679),\n",
       " (429, 659),\n",
       " (429, 660),\n",
       " (429, 661),\n",
       " (429, 662),\n",
       " (429, 663),\n",
       " (429, 664),\n",
       " (429, 665),\n",
       " (429, 666),\n",
       " (429, 667),\n",
       " (429, 668),\n",
       " (429, 669),\n",
       " (429, 670),\n",
       " (429, 671),\n",
       " (429, 672),\n",
       " (429, 673),\n",
       " (429, 674),\n",
       " (429, 675),\n",
       " (429, 676),\n",
       " (429, 677),\n",
       " (429, 678),\n",
       " (429, 679),\n",
       " (429, 680),\n",
       " (429, 681),\n",
       " (430, 658),\n",
       " (430, 659),\n",
       " (430, 660),\n",
       " (430, 661),\n",
       " (430, 662),\n",
       " (430, 663),\n",
       " (430, 664),\n",
       " (430, 665),\n",
       " (430, 666),\n",
       " (430, 667),\n",
       " (430, 668),\n",
       " (430, 669),\n",
       " (430, 670),\n",
       " (430, 671),\n",
       " (430, 672),\n",
       " (430, 673),\n",
       " (430, 674),\n",
       " (430, 675),\n",
       " (430, 676),\n",
       " (430, 677),\n",
       " (430, 678),\n",
       " (430, 679),\n",
       " (430, 680),\n",
       " (430, 681),\n",
       " (430, 682),\n",
       " (431, 657),\n",
       " (431, 658),\n",
       " (431, 659),\n",
       " (431, 660),\n",
       " (431, 661),\n",
       " (431, 662),\n",
       " (431, 663),\n",
       " (431, 664),\n",
       " (431, 665),\n",
       " (431, 666),\n",
       " (431, 667),\n",
       " (431, 668),\n",
       " (431, 669),\n",
       " (431, 670),\n",
       " (431, 671),\n",
       " (431, 672),\n",
       " (431, 673),\n",
       " (431, 674),\n",
       " (431, 675),\n",
       " (431, 676),\n",
       " (431, 677),\n",
       " (431, 678),\n",
       " (431, 679),\n",
       " (431, 680),\n",
       " (431, 681),\n",
       " (431, 682),\n",
       " (431, 683),\n",
       " (431, 684),\n",
       " (432, 656),\n",
       " (432, 657),\n",
       " (432, 658),\n",
       " (432, 659),\n",
       " (432, 660),\n",
       " (432, 661),\n",
       " (432, 662),\n",
       " (432, 663),\n",
       " (432, 664),\n",
       " (432, 665),\n",
       " (432, 666),\n",
       " (432, 667),\n",
       " (432, 668),\n",
       " (432, 669),\n",
       " (432, 670),\n",
       " (432, 671),\n",
       " (432, 672),\n",
       " (432, 673),\n",
       " (432, 674),\n",
       " (432, 675),\n",
       " (432, 676),\n",
       " (432, 677),\n",
       " (432, 678),\n",
       " (432, 679),\n",
       " (432, 680),\n",
       " (432, 681),\n",
       " (432, 682),\n",
       " (432, 683),\n",
       " (432, 684),\n",
       " (432, 685),\n",
       " (433, 655),\n",
       " (433, 656),\n",
       " (433, 657),\n",
       " (433, 658),\n",
       " (433, 659),\n",
       " (433, 660),\n",
       " (433, 661),\n",
       " (433, 662),\n",
       " (433, 663),\n",
       " (433, 664),\n",
       " (433, 665),\n",
       " (433, 666),\n",
       " (433, 667),\n",
       " (433, 668),\n",
       " (433, 669),\n",
       " (433, 670),\n",
       " (433, 671),\n",
       " (433, 672),\n",
       " (433, 673),\n",
       " (433, 674),\n",
       " (433, 675),\n",
       " (433, 676),\n",
       " (433, 677),\n",
       " (433, 678),\n",
       " (433, 679),\n",
       " (433, 680),\n",
       " (433, 681),\n",
       " (433, 682),\n",
       " (433, 683),\n",
       " (433, 684),\n",
       " (433, 685),\n",
       " (433, 686),\n",
       " (434, 654),\n",
       " (434, 655),\n",
       " (434, 656),\n",
       " (434, 657),\n",
       " (434, 658),\n",
       " (434, 659),\n",
       " (434, 660),\n",
       " (434, 661),\n",
       " (434, 662),\n",
       " (434, 663),\n",
       " (434, 664),\n",
       " (434, 665),\n",
       " (434, 666),\n",
       " (434, 667),\n",
       " (434, 668),\n",
       " (434, 669),\n",
       " (434, 670),\n",
       " (434, 671),\n",
       " (434, 672),\n",
       " (434, 673),\n",
       " (434, 674),\n",
       " (434, 675),\n",
       " (434, 676),\n",
       " (434, 677),\n",
       " (434, 678),\n",
       " (434, 679),\n",
       " (434, 680),\n",
       " (434, 681),\n",
       " (434, 682),\n",
       " (434, 683),\n",
       " (434, 684),\n",
       " (434, 685),\n",
       " (434, 686),\n",
       " (434, 687),\n",
       " (435, 653),\n",
       " (435, 654),\n",
       " (435, 655),\n",
       " (435, 656),\n",
       " (435, 657),\n",
       " (435, 658),\n",
       " (435, 659),\n",
       " (435, 660),\n",
       " (435, 661),\n",
       " (435, 662),\n",
       " (435, 663),\n",
       " (435, 664),\n",
       " (435, 665),\n",
       " (435, 666),\n",
       " (435, 667),\n",
       " (435, 668),\n",
       " (435, 669),\n",
       " (435, 670),\n",
       " (435, 671),\n",
       " (435, 672),\n",
       " (435, 673),\n",
       " (435, 674),\n",
       " (435, 675),\n",
       " (435, 676),\n",
       " (435, 677),\n",
       " (435, 678),\n",
       " (435, 679),\n",
       " (435, 680),\n",
       " (435, 681),\n",
       " (435, 682),\n",
       " (435, 683),\n",
       " (435, 684),\n",
       " (435, 685),\n",
       " (435, 686),\n",
       " (435, 687),\n",
       " (435, 688),\n",
       " (436, 652),\n",
       " (436, 653),\n",
       " (436, 654),\n",
       " (436, 655),\n",
       " (436, 656),\n",
       " (436, 657),\n",
       " (436, 658),\n",
       " (436, 659),\n",
       " (436, 660),\n",
       " (436, 661),\n",
       " (436, 662),\n",
       " (436, 663),\n",
       " (436, 664),\n",
       " (436, 665),\n",
       " (436, 666),\n",
       " (436, 667),\n",
       " (436, 668),\n",
       " (436, 669),\n",
       " (436, 670),\n",
       " (436, 671),\n",
       " (436, 672),\n",
       " (436, 673),\n",
       " (436, 674),\n",
       " (436, 675),\n",
       " (436, 676),\n",
       " (436, 677),\n",
       " (436, 678),\n",
       " (436, 679),\n",
       " (436, 680),\n",
       " (436, 681),\n",
       " (436, 682),\n",
       " (436, 683),\n",
       " (436, 684),\n",
       " (436, 685),\n",
       " (436, 686),\n",
       " (436, 687),\n",
       " (436, 688),\n",
       " (436, 689),\n",
       " (437, 651),\n",
       " (437, 652),\n",
       " (437, 653),\n",
       " (437, 654),\n",
       " (437, 655),\n",
       " (437, 656),\n",
       " (437, 657),\n",
       " (437, 658),\n",
       " (437, 659),\n",
       " (437, 660),\n",
       " (437, 661),\n",
       " (437, 662),\n",
       " (437, 663),\n",
       " (437, 664),\n",
       " (437, 665),\n",
       " (437, 666),\n",
       " (437, 667),\n",
       " (437, 668),\n",
       " (437, 669),\n",
       " (437, 670),\n",
       " (437, 671),\n",
       " (437, 672),\n",
       " (437, 673),\n",
       " (437, 674),\n",
       " (437, 675),\n",
       " (437, 676),\n",
       " (437, 677),\n",
       " (437, 678),\n",
       " (437, 679),\n",
       " (437, 680),\n",
       " (437, 681),\n",
       " (437, 682),\n",
       " (437, 683),\n",
       " (437, 684),\n",
       " (437, 685),\n",
       " (437, 686),\n",
       " (437, 687),\n",
       " (437, 688),\n",
       " (437, 689),\n",
       " (437, 690),\n",
       " (438, 650),\n",
       " (438, 651),\n",
       " (438, 652),\n",
       " (438, 653),\n",
       " (438, 654),\n",
       " (438, 655),\n",
       " (438, 656),\n",
       " (438, 657),\n",
       " (438, 658),\n",
       " (438, 659),\n",
       " (438, 660),\n",
       " (438, 661),\n",
       " (438, 662),\n",
       " (438, 663),\n",
       " (438, 664),\n",
       " (438, 665),\n",
       " (438, 666),\n",
       " (438, 667),\n",
       " (438, 668),\n",
       " (438, 669),\n",
       " (438, 670),\n",
       " (438, 671),\n",
       " (438, 672),\n",
       " (438, 673),\n",
       " (438, 674),\n",
       " (438, 675),\n",
       " (438, 676),\n",
       " (438, 677),\n",
       " (438, 678),\n",
       " (438, 679),\n",
       " (438, 680),\n",
       " (438, 681),\n",
       " (438, 682),\n",
       " (438, 683),\n",
       " (438, 684),\n",
       " (438, 685),\n",
       " (438, 686),\n",
       " (438, 687),\n",
       " (438, 688),\n",
       " (438, 689),\n",
       " (438, 690),\n",
       " (439, 649),\n",
       " (439, 650),\n",
       " (439, 651),\n",
       " (439, 652),\n",
       " (439, 653),\n",
       " (439, 654),\n",
       " (439, 655),\n",
       " (439, 656),\n",
       " (439, 657),\n",
       " (439, 658),\n",
       " (439, 659),\n",
       " (439, 660),\n",
       " (439, 661),\n",
       " (439, 662),\n",
       " (439, 663),\n",
       " (439, 664),\n",
       " (439, 665),\n",
       " (439, 666),\n",
       " (439, 667),\n",
       " (439, 668),\n",
       " (439, 669),\n",
       " (439, 670),\n",
       " (439, 671),\n",
       " (439, 672),\n",
       " (439, 673),\n",
       " (439, 674),\n",
       " (439, 675),\n",
       " (439, 676),\n",
       " (439, 677),\n",
       " (439, 678),\n",
       " (439, 679),\n",
       " (439, 680),\n",
       " (439, 681),\n",
       " (439, 682),\n",
       " (439, 683),\n",
       " (439, 684),\n",
       " (439, 685),\n",
       " (439, 686),\n",
       " (439, 687),\n",
       " (439, 688),\n",
       " (439, 689),\n",
       " (439, 690),\n",
       " (439, 691),\n",
       " (440, 648),\n",
       " (440, 649),\n",
       " (440, 650),\n",
       " (440, 651),\n",
       " (440, 652),\n",
       " (440, 653),\n",
       " (440, 654),\n",
       " (440, 655),\n",
       " (440, 656),\n",
       " (440, 657),\n",
       " (440, 658),\n",
       " (440, 659),\n",
       " (440, 660),\n",
       " (440, 661),\n",
       " (440, 662),\n",
       " (440, 663),\n",
       " (440, 664),\n",
       " (440, 665),\n",
       " (440, 666),\n",
       " (440, 667),\n",
       " (440, 668),\n",
       " (440, 669),\n",
       " (440, 670),\n",
       " (440, 671),\n",
       " (440, 672),\n",
       " (440, 673),\n",
       " (440, 674),\n",
       " (440, 675),\n",
       " (440, 676),\n",
       " (440, 677),\n",
       " (440, 678),\n",
       " (440, 679),\n",
       " (440, 680),\n",
       " (440, 681),\n",
       " (440, 682),\n",
       " (440, 683),\n",
       " (440, 684),\n",
       " (440, 685),\n",
       " (440, 686),\n",
       " (440, 687),\n",
       " (440, 688),\n",
       " (440, 689),\n",
       " (440, 690),\n",
       " (440, 691),\n",
       " (441, 647),\n",
       " (441, 648),\n",
       " (441, 649),\n",
       " (441, 650),\n",
       " (441, 651),\n",
       " (441, 652),\n",
       " (441, 653),\n",
       " (441, 654),\n",
       " (441, 655),\n",
       " (441, 656),\n",
       " (441, 657),\n",
       " (441, 658),\n",
       " (441, 659),\n",
       " (441, 660),\n",
       " (441, 661),\n",
       " (441, 662),\n",
       " (441, 663),\n",
       " (441, 664),\n",
       " (441, 665),\n",
       " (441, 666),\n",
       " (441, 667),\n",
       " (441, 668),\n",
       " (441, 669),\n",
       " (441, 670),\n",
       " (441, 671),\n",
       " (441, 672),\n",
       " (441, 673),\n",
       " (441, 674),\n",
       " (441, 675),\n",
       " (441, 676),\n",
       " (441, 677),\n",
       " (441, 678),\n",
       " (441, 679),\n",
       " (441, 680),\n",
       " (441, 681),\n",
       " (441, 682),\n",
       " (441, 683),\n",
       " (441, 684),\n",
       " (441, 685),\n",
       " (441, 686),\n",
       " (441, 687),\n",
       " (441, 688),\n",
       " (441, 689),\n",
       " (441, 690),\n",
       " (441, 691),\n",
       " (442, 646),\n",
       " (442, 647),\n",
       " (442, 648),\n",
       " (442, 649),\n",
       " (442, 650),\n",
       " (442, 651),\n",
       " (442, 652),\n",
       " (442, 653),\n",
       " (442, 654),\n",
       " (442, 655),\n",
       " (442, 656),\n",
       " (442, 657),\n",
       " (442, 658),\n",
       " (442, 659),\n",
       " (442, 660),\n",
       " (442, 661),\n",
       " (442, 662),\n",
       " (442, 663),\n",
       " (442, 664),\n",
       " (442, 665),\n",
       " (442, 666),\n",
       " (442, 667),\n",
       " (442, 668),\n",
       " (442, 669),\n",
       " (442, 670),\n",
       " (442, 671),\n",
       " (442, 672),\n",
       " (442, 673),\n",
       " (442, 674),\n",
       " (442, 675),\n",
       " (442, 676),\n",
       " (442, 677),\n",
       " (442, 678),\n",
       " (442, 679),\n",
       " (442, 680),\n",
       " (442, 681),\n",
       " (442, 682),\n",
       " (442, 683),\n",
       " (442, 684),\n",
       " (442, 685),\n",
       " (442, 686),\n",
       " (442, 687),\n",
       " (442, 688),\n",
       " (442, 689),\n",
       " (442, 690),\n",
       " (442, 691),\n",
       " (442, 692),\n",
       " (443, 646),\n",
       " (443, 647),\n",
       " (443, 648),\n",
       " (443, 649),\n",
       " (443, 650),\n",
       " (443, 651),\n",
       " (443, 652),\n",
       " (443, 653),\n",
       " (443, 654),\n",
       " (443, 655),\n",
       " (443, 656),\n",
       " (443, 657),\n",
       " (443, 658),\n",
       " (443, 659),\n",
       " (443, 660),\n",
       " (443, 661),\n",
       " (443, 662),\n",
       " (443, 663),\n",
       " (443, 664),\n",
       " (443, 665),\n",
       " (443, 666),\n",
       " (443, 667),\n",
       " (443, 668),\n",
       " (443, 669),\n",
       " (443, 670),\n",
       " (443, 671),\n",
       " (443, 672),\n",
       " (443, 673),\n",
       " (443, 674),\n",
       " (443, 675),\n",
       " (443, 676),\n",
       " (443, 677),\n",
       " (443, 678),\n",
       " (443, 679),\n",
       " (443, 680),\n",
       " (443, 681),\n",
       " (443, 682),\n",
       " (443, 683),\n",
       " (443, 684),\n",
       " (443, 685),\n",
       " (443, 686),\n",
       " (443, 687),\n",
       " (443, 688),\n",
       " (443, 689),\n",
       " (443, 690),\n",
       " (443, 691),\n",
       " (443, 692),\n",
       " (444, 645),\n",
       " (444, 646),\n",
       " (444, 647),\n",
       " (444, 648),\n",
       " (444, 649),\n",
       " (444, 650),\n",
       " (444, 651),\n",
       " (444, 652),\n",
       " (444, 653),\n",
       " (444, 654),\n",
       " (444, 655),\n",
       " (444, 656),\n",
       " (444, 657),\n",
       " (444, 658),\n",
       " (444, 659),\n",
       " (444, 660),\n",
       " (444, 661),\n",
       " (444, 662),\n",
       " (444, 663),\n",
       " (444, 664),\n",
       " (444, 665),\n",
       " (444, 666),\n",
       " (444, 667),\n",
       " (444, 668),\n",
       " (444, 669),\n",
       " (444, 670),\n",
       " (444, 671),\n",
       " (444, 672),\n",
       " (444, 673),\n",
       " (444, 674),\n",
       " (444, 675),\n",
       " (444, 676),\n",
       " (444, 677),\n",
       " (444, 678),\n",
       " (444, 679),\n",
       " (444, 680),\n",
       " (444, 681),\n",
       " (444, 682),\n",
       " (444, 683),\n",
       " (444, 684),\n",
       " (444, 685),\n",
       " (444, 686),\n",
       " (444, 687),\n",
       " (444, 688),\n",
       " (444, 689),\n",
       " (444, 690),\n",
       " (444, 691),\n",
       " (444, 692),\n",
       " (445, 644),\n",
       " (445, 645),\n",
       " (445, 646),\n",
       " (445, 647),\n",
       " (445, 648),\n",
       " (445, 649),\n",
       " (445, 650),\n",
       " (445, 651),\n",
       " (445, 652),\n",
       " (445, 653),\n",
       " (445, 654),\n",
       " (445, 655),\n",
       " (445, 656),\n",
       " (445, 657),\n",
       " (445, 658),\n",
       " (445, 659),\n",
       " (445, 660),\n",
       " (445, 661),\n",
       " (445, 662),\n",
       " (445, 663),\n",
       " (445, 664),\n",
       " (445, 665),\n",
       " (445, 666),\n",
       " (445, 667),\n",
       " (445, 668),\n",
       " (445, 669),\n",
       " (445, 670),\n",
       " (445, 671),\n",
       " (445, 672),\n",
       " (445, 673),\n",
       " (445, 674),\n",
       " (445, 675),\n",
       " (445, 676),\n",
       " (445, 677),\n",
       " (445, 678),\n",
       " (445, 679),\n",
       " (445, 680),\n",
       " (445, 681),\n",
       " (445, 682),\n",
       " (445, 683),\n",
       " (445, 684),\n",
       " (445, 685),\n",
       " (445, 686),\n",
       " (445, 687),\n",
       " (445, 688),\n",
       " (445, 689),\n",
       " (445, 690),\n",
       " (445, 691),\n",
       " (445, 692),\n",
       " (446, 644),\n",
       " (446, 645),\n",
       " (446, 646),\n",
       " (446, 647),\n",
       " (446, 648),\n",
       " (446, 649),\n",
       " (446, 650),\n",
       " (446, 651),\n",
       " (446, 652),\n",
       " (446, 653),\n",
       " (446, 654),\n",
       " (446, 655),\n",
       " (446, 656),\n",
       " (446, 657),\n",
       " (446, 658),\n",
       " (446, 659),\n",
       " (446, 660),\n",
       " (446, 661),\n",
       " (446, 662),\n",
       " (446, 663),\n",
       " (446, 664),\n",
       " (446, 665),\n",
       " (446, 666),\n",
       " (446, 667),\n",
       " (446, 668),\n",
       " (446, 669),\n",
       " (446, 670),\n",
       " (446, 671),\n",
       " (446, 672),\n",
       " (446, 673),\n",
       " (446, 674),\n",
       " (446, 675),\n",
       " (446, 676),\n",
       " (446, 677),\n",
       " (446, 678),\n",
       " (446, 679),\n",
       " (446, 680),\n",
       " (446, 681),\n",
       " (446, 682),\n",
       " (446, 683),\n",
       " (446, 684),\n",
       " (446, 685),\n",
       " (446, 686),\n",
       " (446, 687),\n",
       " (446, 688),\n",
       " (446, 689),\n",
       " (446, 690),\n",
       " (446, 691),\n",
       " (446, 692),\n",
       " (447, 643),\n",
       " (447, 644),\n",
       " (447, 645),\n",
       " (447, 646),\n",
       " (447, 647),\n",
       " (447, 648),\n",
       " (447, 649),\n",
       " (447, 650),\n",
       " (447, 651),\n",
       " (447, 652),\n",
       " (447, 653),\n",
       " (447, 654),\n",
       " (447, 655),\n",
       " (447, 656),\n",
       " (447, 657),\n",
       " (447, 658),\n",
       " (447, 659),\n",
       " (447, 660),\n",
       " (447, 661),\n",
       " (447, 662),\n",
       " (447, 663),\n",
       " (447, 664),\n",
       " (447, 665),\n",
       " (447, 666),\n",
       " (447, 667),\n",
       " (447, 668),\n",
       " (447, 669),\n",
       " (447, 670),\n",
       " (447, 671),\n",
       " (447, 672),\n",
       " (447, 673),\n",
       " (447, 674),\n",
       " (447, 675),\n",
       " (447, 676),\n",
       " (447, 677),\n",
       " (447, 678),\n",
       " (447, 679),\n",
       " (447, 680),\n",
       " (447, 681),\n",
       " (447, 682),\n",
       " (447, 683),\n",
       " (447, 684),\n",
       " (447, 685),\n",
       " (447, 686),\n",
       " (447, 687),\n",
       " (447, 688),\n",
       " (447, 689),\n",
       " (447, 690),\n",
       " (447, 691),\n",
       " (447, 692),\n",
       " (448, 642),\n",
       " (448, 643),\n",
       " (448, 644),\n",
       " (448, 645),\n",
       " (448, 646),\n",
       " (448, 647),\n",
       " (448, 648),\n",
       " (448, 649),\n",
       " (448, 650),\n",
       " (448, 651),\n",
       " (448, 652),\n",
       " (448, 653),\n",
       " (448, 654),\n",
       " (448, 655),\n",
       " (448, 656),\n",
       " (448, 657),\n",
       " (448, 658),\n",
       " (448, 659),\n",
       " (448, 660),\n",
       " (448, 661),\n",
       " (448, 662),\n",
       " (448, 663),\n",
       " (448, 664),\n",
       " (448, 665),\n",
       " (448, 666),\n",
       " (448, 667),\n",
       " (448, 668),\n",
       " (448, 669),\n",
       " (448, 670),\n",
       " (448, 671),\n",
       " (448, 672),\n",
       " (448, 673),\n",
       " (448, 674),\n",
       " (448, 675),\n",
       " (448, 676),\n",
       " (448, 677),\n",
       " (448, 678),\n",
       " (448, 679),\n",
       " (448, 680),\n",
       " (448, 681),\n",
       " (448, 682),\n",
       " (448, 683),\n",
       " (448, 684),\n",
       " (448, 685),\n",
       " (448, 686),\n",
       " (448, 687),\n",
       " (448, 688),\n",
       " (448, 689),\n",
       " (448, 690),\n",
       " (448, 691),\n",
       " (448, 692),\n",
       " (448, 693),\n",
       " (449, 641),\n",
       " (449, 642),\n",
       " (449, 643),\n",
       " (449, 644),\n",
       " (449, 645),\n",
       " (449, 646),\n",
       " (449, 647),\n",
       " (449, 648),\n",
       " (449, 649),\n",
       " (449, 650),\n",
       " (449, 651),\n",
       " (449, 652),\n",
       " (449, 653),\n",
       " (449, 654),\n",
       " (449, 655),\n",
       " (449, 656),\n",
       " (449, 657),\n",
       " (449, 658),\n",
       " (449, 659),\n",
       " (449, 660),\n",
       " (449, 661),\n",
       " (449, 662),\n",
       " (449, 663),\n",
       " (449, 664),\n",
       " (449, 665),\n",
       " (449, 666),\n",
       " (449, 667),\n",
       " (449, 668),\n",
       " (449, 669),\n",
       " (449, 670),\n",
       " (449, 671),\n",
       " (449, 672),\n",
       " (449, 673),\n",
       " (449, 674),\n",
       " (449, 675),\n",
       " (449, 676),\n",
       " (449, 677),\n",
       " (449, 678),\n",
       " (449, 679),\n",
       " (449, 680),\n",
       " (449, 681),\n",
       " (449, 682),\n",
       " (449, 683),\n",
       " (449, 684),\n",
       " (449, 685),\n",
       " (449, 686),\n",
       " (449, 687),\n",
       " (449, 688),\n",
       " (449, 689),\n",
       " (449, 690),\n",
       " (449, 691),\n",
       " (449, 692),\n",
       " (449, 693),\n",
       " (450, 641),\n",
       " (450, 642),\n",
       " (450, 643),\n",
       " (450, 644),\n",
       " (450, 645),\n",
       " (450, 646),\n",
       " (450, 647),\n",
       " (450, 648),\n",
       " (450, 649),\n",
       " (450, 650),\n",
       " (450, 651),\n",
       " (450, 652),\n",
       " (450, 653),\n",
       " (450, 654),\n",
       " (450, 655),\n",
       " (450, 656),\n",
       " (450, 657),\n",
       " (450, 658),\n",
       " (450, 659),\n",
       " (450, 660),\n",
       " (450, 661),\n",
       " (450, 662),\n",
       " (450, 663),\n",
       " (450, 664),\n",
       " (450, 665),\n",
       " (450, 666),\n",
       " (450, 667),\n",
       " (450, 668),\n",
       " (450, 669),\n",
       " (450, 670),\n",
       " (450, 671),\n",
       " (450, 672),\n",
       " (450, 673),\n",
       " (450, 674),\n",
       " (450, 675),\n",
       " (450, 676),\n",
       " (450, 677),\n",
       " (450, 678),\n",
       " (450, 679),\n",
       " (450, 680),\n",
       " (450, 681),\n",
       " (450, 682),\n",
       " (450, 683),\n",
       " (450, 684),\n",
       " (450, 685),\n",
       " (450, 686),\n",
       " (450, 687),\n",
       " (450, 688),\n",
       " (450, 689),\n",
       " (450, 690),\n",
       " (450, 691),\n",
       " (450, 692),\n",
       " (450, 693),\n",
       " (451, 641),\n",
       " (451, 642),\n",
       " (451, 643),\n",
       " (451, 644),\n",
       " (451, 645),\n",
       " (451, 646),\n",
       " (451, 647),\n",
       " (451, 648),\n",
       " (451, 649),\n",
       " (451, 650),\n",
       " (451, 651),\n",
       " (451, 652),\n",
       " (451, 653),\n",
       " (451, 654),\n",
       " (451, 655),\n",
       " (451, 656),\n",
       " (451, 657),\n",
       " (451, 658),\n",
       " (451, 659),\n",
       " (451, 660),\n",
       " (451, 661),\n",
       " (451, 662),\n",
       " (451, 663),\n",
       " (451, 664),\n",
       " (451, 665),\n",
       " (451, 666),\n",
       " (451, 667),\n",
       " (451, 668),\n",
       " (451, 669),\n",
       " (451, 670),\n",
       " (451, 671),\n",
       " (451, 672),\n",
       " (451, 673),\n",
       " (451, 674),\n",
       " (451, 675),\n",
       " (451, 676),\n",
       " (451, 677),\n",
       " (451, 678),\n",
       " (451, 679),\n",
       " (451, 680),\n",
       " (451, 681),\n",
       " (451, 682),\n",
       " (451, 683),\n",
       " (451, 684),\n",
       " (451, 685),\n",
       " (451, 686),\n",
       " (451, 687),\n",
       " (451, 688),\n",
       " (451, 689),\n",
       " (451, 690),\n",
       " (451, 691),\n",
       " (451, 692),\n",
       " (452, 641),\n",
       " (452, 642),\n",
       " (452, 643),\n",
       " (452, 644),\n",
       " (452, 645),\n",
       " (452, 646),\n",
       " (452, 647),\n",
       " (452, 648),\n",
       " (452, 649),\n",
       " (452, 650),\n",
       " (452, 651),\n",
       " (452, 652),\n",
       " (452, 653),\n",
       " (452, 654),\n",
       " (452, 655),\n",
       " (452, 656),\n",
       " (452, 657),\n",
       " (452, 658),\n",
       " (452, 659),\n",
       " (452, 660),\n",
       " (452, 661),\n",
       " (452, 662),\n",
       " ...)"
      ]
     },
     "execution_count": 51,
     "metadata": {},
     "output_type": "execute_result"
    }
   ],
   "source": [
    "tuple(map(tuple,splash_arr))"
   ]
  },
  {
   "cell_type": "code",
   "execution_count": 60,
   "metadata": {},
   "outputs": [
    {
     "data": {
      "text/plain": [
       "array([0.9267784, 0.9282416, 0.9322611, ..., 1.0604843, 1.0615085,\n",
       "       1.0594268], dtype=float32)"
      ]
     },
     "execution_count": 60,
     "metadata": {},
     "output_type": "execute_result"
    }
   ],
   "source": [
    "im5[tuple(splash_arr.T)]"
   ]
  },
  {
   "cell_type": "code",
   "execution_count": 58,
   "metadata": {},
   "outputs": [],
   "source": [
    "from scipy.stats import trim_mean"
   ]
  },
  {
   "cell_type": "code",
   "execution_count": 59,
   "metadata": {},
   "outputs": [
    {
     "name": "stderr",
     "output_type": "stream",
     "text": [
      "/Users/sashakapralov/anaconda3/envs/py36_2/lib/python3.6/site-packages/scipy/stats/stats.py:2831: FutureWarning: Using a non-tuple sequence for multidimensional indexing is deprecated; use `arr[tuple(seq)]` instead of `arr[seq]`. In the future this will be interpreted as an array index, `arr[np.array(seq)]`, which will result either in an error or a different result.\n",
      "  return np.mean(atmp[sl], axis=axis)\n"
     ]
    },
    {
     "data": {
      "text/plain": [
       "0.9858812"
      ]
     },
     "execution_count": 59,
     "metadata": {},
     "output_type": "execute_result"
    }
   ],
   "source": [
    "trim_mean(im5[tuple(splash_arr.T)],0.1)"
   ]
  },
  {
   "cell_type": "code",
   "execution_count": 61,
   "metadata": {},
   "outputs": [],
   "source": [
    "arr_for_trim_mean = im5[tuple(splash_arr.T)]"
   ]
  },
  {
   "cell_type": "code",
   "execution_count": 62,
   "metadata": {},
   "outputs": [
    {
     "name": "stderr",
     "output_type": "stream",
     "text": [
      "/Users/sashakapralov/anaconda3/envs/py36_2/lib/python3.6/site-packages/scipy/stats/stats.py:2831: FutureWarning: Using a non-tuple sequence for multidimensional indexing is deprecated; use `arr[tuple(seq)]` instead of `arr[seq]`. In the future this will be interpreted as an array index, `arr[np.array(seq)]`, which will result either in an error or a different result.\n",
      "  return np.mean(atmp[sl], axis=axis)\n"
     ]
    },
    {
     "data": {
      "text/plain": [
       "0.9858812"
      ]
     },
     "execution_count": 62,
     "metadata": {},
     "output_type": "execute_result"
    }
   ],
   "source": [
    "trim_mean(arr_for_trim_mean,0.1)"
   ]
  },
  {
   "cell_type": "code",
   "execution_count": null,
   "metadata": {},
   "outputs": [],
   "source": []
  }
 ],
 "metadata": {
  "kernelspec": {
   "display_name": "Python 3",
   "language": "python",
   "name": "python3"
  },
  "language_info": {
   "codemirror_mode": {
    "name": "ipython",
    "version": 3
   },
   "file_extension": ".py",
   "mimetype": "text/x-python",
   "name": "python",
   "nbconvert_exporter": "python",
   "pygments_lexer": "ipython3",
   "version": "3.6.6"
  }
 },
 "nbformat": 4,
 "nbformat_minor": 2
}
