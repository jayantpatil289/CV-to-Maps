{
 "cells": [
  {
   "cell_type": "code",
   "execution_count": 1,
   "metadata": {},
   "outputs": [],
   "source": [
    "import pickle\n",
    "import time\n",
    "import numpy as np\n",
    "import cv2\n",
    "import matplotlib.pyplot as plt\n",
    "%matplotlib inline\n",
    "from scipy.stats import trim_mean"
   ]
  },
  {
   "cell_type": "code",
   "execution_count": 2,
   "metadata": {},
   "outputs": [],
   "source": [
    "#load dictionary of masks (pixel locations of correctly identified towers)\n",
    "with open(\"masks_dict.pkl\", \"rb\") as md:\n",
    "    final_mask_dict = pickle.load(md)"
   ]
  },
  {
   "cell_type": "code",
   "execution_count": 3,
   "metadata": {},
   "outputs": [
    {
     "data": {
      "text/plain": [
       "dict_keys(['frame11288_splash.jpg', 'frame11289_splash.jpg', 'frame12048_splash.jpg', 'frame12049_splash.jpg', 'frame12050_splash.jpg', 'frame12052_splash.jpg', 'frame12053_splash.jpg', 'frame12054_splash.jpg', 'frame12055_splash.jpg', 'frame12056_splash.jpg', 'frame12057_splash.jpg', 'frame12058_splash.jpg', 'frame12349_splash.jpg', 'frame12350_splash.jpg', 'frame12351_splash.jpg', 'frame12669_splash.jpg', 'frame12670_splash.jpg', 'frame12672_splash.jpg', 'frame13731_splash.jpg', 'frame13732_splash.jpg', 'frame14431_splash.jpg', 'frame16433_splash.jpg', 'frame16434_splash.jpg', 'frame18135_splash.jpg', 'frame33152_splash.jpg', 'frame7920_splash.jpg', 'frame7973_splash.jpg'])"
      ]
     },
     "execution_count": 3,
     "metadata": {},
     "output_type": "execute_result"
    }
   ],
   "source": [
    "final_mask_dict.keys()"
   ]
  },
  {
   "cell_type": "code",
   "execution_count": 4,
   "metadata": {},
   "outputs": [
    {
     "name": "stdout",
     "output_type": "stream",
     "text": [
      "Loading the model\n",
      "INFO:tensorflow:Restoring parameters from ../../../../FCRN-DepthPrediction/tensorflow/NYU_FCRN.ckpt\n"
     ]
    },
    {
     "name": "stderr",
     "output_type": "stream",
     "text": [
      "/Users/sashakapralov/anaconda3/envs/py36_2/lib/python3.6/site-packages/scipy/stats/stats.py:2831: FutureWarning: Using a non-tuple sequence for multidimensional indexing is deprecated; use `arr[tuple(seq)]` instead of `arr[seq]`. In the future this will be interpreted as an array index, `arr[np.array(seq)]`, which will result either in an error or a different result.\n",
      "  return np.mean(atmp[sl], axis=axis)\n"
     ]
    },
    {
     "name": "stdout",
     "output_type": "stream",
     "text": [
      "frame11288_splash.jpg  processing completed\n",
      "Loading the model\n",
      "INFO:tensorflow:Restoring parameters from ../../../../FCRN-DepthPrediction/tensorflow/NYU_FCRN.ckpt\n",
      "frame11289_splash.jpg  processing completed\n",
      "Loading the model\n",
      "INFO:tensorflow:Restoring parameters from ../../../../FCRN-DepthPrediction/tensorflow/NYU_FCRN.ckpt\n",
      "frame12048_splash.jpg  processing completed\n",
      "Loading the model\n",
      "INFO:tensorflow:Restoring parameters from ../../../../FCRN-DepthPrediction/tensorflow/NYU_FCRN.ckpt\n",
      "frame12049_splash.jpg  processing completed\n",
      "Loading the model\n",
      "INFO:tensorflow:Restoring parameters from ../../../../FCRN-DepthPrediction/tensorflow/NYU_FCRN.ckpt\n",
      "frame12050_splash.jpg  processing completed\n",
      "Loading the model\n",
      "INFO:tensorflow:Restoring parameters from ../../../../FCRN-DepthPrediction/tensorflow/NYU_FCRN.ckpt\n",
      "frame12052_splash.jpg  processing completed\n",
      "Loading the model\n",
      "INFO:tensorflow:Restoring parameters from ../../../../FCRN-DepthPrediction/tensorflow/NYU_FCRN.ckpt\n",
      "frame12053_splash.jpg  processing completed\n",
      "Loading the model\n",
      "INFO:tensorflow:Restoring parameters from ../../../../FCRN-DepthPrediction/tensorflow/NYU_FCRN.ckpt\n",
      "frame12054_splash.jpg  processing completed\n",
      "Loading the model\n",
      "INFO:tensorflow:Restoring parameters from ../../../../FCRN-DepthPrediction/tensorflow/NYU_FCRN.ckpt\n",
      "frame12055_splash.jpg  processing completed\n",
      "Loading the model\n",
      "INFO:tensorflow:Restoring parameters from ../../../../FCRN-DepthPrediction/tensorflow/NYU_FCRN.ckpt\n",
      "frame12056_splash.jpg  processing completed\n",
      "Loading the model\n",
      "INFO:tensorflow:Restoring parameters from ../../../../FCRN-DepthPrediction/tensorflow/NYU_FCRN.ckpt\n",
      "frame12057_splash.jpg  processing completed\n",
      "Loading the model\n",
      "INFO:tensorflow:Restoring parameters from ../../../../FCRN-DepthPrediction/tensorflow/NYU_FCRN.ckpt\n",
      "frame12058_splash.jpg  processing completed\n",
      "Loading the model\n",
      "INFO:tensorflow:Restoring parameters from ../../../../FCRN-DepthPrediction/tensorflow/NYU_FCRN.ckpt\n",
      "frame12349_splash.jpg  processing completed\n",
      "Loading the model\n",
      "INFO:tensorflow:Restoring parameters from ../../../../FCRN-DepthPrediction/tensorflow/NYU_FCRN.ckpt\n",
      "frame12350_splash.jpg  processing completed\n",
      "Loading the model\n",
      "INFO:tensorflow:Restoring parameters from ../../../../FCRN-DepthPrediction/tensorflow/NYU_FCRN.ckpt\n",
      "frame12351_splash.jpg  processing completed\n",
      "Loading the model\n",
      "INFO:tensorflow:Restoring parameters from ../../../../FCRN-DepthPrediction/tensorflow/NYU_FCRN.ckpt\n",
      "frame12669_splash.jpg  processing completed\n",
      "Loading the model\n",
      "INFO:tensorflow:Restoring parameters from ../../../../FCRN-DepthPrediction/tensorflow/NYU_FCRN.ckpt\n",
      "frame12670_splash.jpg  processing completed\n",
      "Loading the model\n",
      "INFO:tensorflow:Restoring parameters from ../../../../FCRN-DepthPrediction/tensorflow/NYU_FCRN.ckpt\n",
      "frame12672_splash.jpg  processing completed\n",
      "Loading the model\n",
      "INFO:tensorflow:Restoring parameters from ../../../../FCRN-DepthPrediction/tensorflow/NYU_FCRN.ckpt\n",
      "frame13731_splash.jpg  processing completed\n",
      "Loading the model\n",
      "INFO:tensorflow:Restoring parameters from ../../../../FCRN-DepthPrediction/tensorflow/NYU_FCRN.ckpt\n",
      "frame13732_splash.jpg  processing completed\n",
      "Loading the model\n",
      "INFO:tensorflow:Restoring parameters from ../../../../FCRN-DepthPrediction/tensorflow/NYU_FCRN.ckpt\n",
      "frame14431_splash.jpg  processing completed\n",
      "Loading the model\n",
      "INFO:tensorflow:Restoring parameters from ../../../../FCRN-DepthPrediction/tensorflow/NYU_FCRN.ckpt\n",
      "frame16433_splash.jpg  processing completed\n",
      "Loading the model\n",
      "INFO:tensorflow:Restoring parameters from ../../../../FCRN-DepthPrediction/tensorflow/NYU_FCRN.ckpt\n",
      "frame16434_splash.jpg  processing completed\n",
      "Loading the model\n",
      "INFO:tensorflow:Restoring parameters from ../../../../FCRN-DepthPrediction/tensorflow/NYU_FCRN.ckpt\n",
      "frame18135_splash.jpg  processing completed\n",
      "Loading the model\n",
      "INFO:tensorflow:Restoring parameters from ../../../../FCRN-DepthPrediction/tensorflow/NYU_FCRN.ckpt\n",
      "frame33152_splash.jpg  processing completed\n",
      "Loading the model\n",
      "INFO:tensorflow:Restoring parameters from ../../../../FCRN-DepthPrediction/tensorflow/NYU_FCRN.ckpt\n",
      "frame7920_splash.jpg  processing completed\n",
      "Loading the model\n",
      "INFO:tensorflow:Restoring parameters from ../../../../FCRN-DepthPrediction/tensorflow/NYU_FCRN.ckpt\n",
      "frame7973_splash.jpg  processing completed\n"
     ]
    }
   ],
   "source": [
    "depth_vls = {}\n",
    "for img_file in final_mask_dict.keys():\n",
    "    #remove one incorrect mask from one image\n",
    "    if img_file == 'frame12048_splash.jpg':\n",
    "        final_mask_dict[img_file] = np.delete(final_mask_dict[img_file],1,2)\n",
    "    #identify locations (indices) of pixels where splash is located\n",
    "    splash_locs = np.argwhere(final_mask_dict[img_file][:,:,0]==True)\n",
    "    #run predict.py depth prediction code for that image\n",
    "    img_path = \"~/Documents/GitHub/CV-to-Maps/Mask_RCNN/samples/water_towers/splash/\" + img_file\n",
    "    %run '../../../../FCRN-DepthPrediction/tensorflow/predict_nomain.py' \\\n",
    "    '../../../../FCRN-DepthPrediction/tensorflow/NYU_FCRN.ckpt' $img_path \n",
    "    time.sleep(5)\n",
    "    #load depth prediction array for one image\n",
    "    with open(\"../../../../FCRN-DepthPrediction/tensorflow/pred_array.pkl\", \"rb\") as pa:\n",
    "        depth_array = pickle.load(pa)[0,:,:,0]\n",
    "    #enlarge the array to match the size of the mask array\n",
    "    resized_depth_arr = cv2.resize(depth_array, (1920,1080), interpolation = cv2.INTER_CUBIC)\n",
    "    #access the pixels of mask in the depth prediction array and compute 10% trimmed mean over those depth values\n",
    "    #depth_vls[img_file] = trim_mean(resized_depth_arr[splash_locs[:,0],splash_locs[:,1]],0.1)\n",
    "    depth_vls[img_file] = trim_mean(resized_depth_arr[tuple(splash_locs.T)],0.1)\n",
    "    print(img_file, \" processing completed\")"
   ]
  },
  {
   "cell_type": "code",
   "execution_count": 5,
   "metadata": {},
   "outputs": [
    {
     "data": {
      "text/plain": [
       "{'frame11288_splash.jpg': 1.1417814,\n",
       " 'frame11289_splash.jpg': 1.0169624,\n",
       " 'frame12048_splash.jpg': 0.9858812,\n",
       " 'frame12049_splash.jpg': 0.96916014,\n",
       " 'frame12050_splash.jpg': 0.9155358,\n",
       " 'frame12052_splash.jpg': 0.91025686,\n",
       " 'frame12053_splash.jpg': 0.9102273,\n",
       " 'frame12054_splash.jpg': 0.9096894,\n",
       " 'frame12055_splash.jpg': 0.9093233,\n",
       " 'frame12056_splash.jpg': 0.9055825,\n",
       " 'frame12057_splash.jpg': 0.89271754,\n",
       " 'frame12058_splash.jpg': 1.2999741,\n",
       " 'frame12349_splash.jpg': 1.0757191,\n",
       " 'frame12350_splash.jpg': 0.9950051,\n",
       " 'frame12351_splash.jpg': 1.2459457,\n",
       " 'frame12669_splash.jpg': 2.1056335,\n",
       " 'frame12670_splash.jpg': 2.0850503,\n",
       " 'frame12672_splash.jpg': 0.9919193,\n",
       " 'frame13731_splash.jpg': 1.6799518,\n",
       " 'frame13732_splash.jpg': 0.95637995,\n",
       " 'frame14431_splash.jpg': 0.84524286,\n",
       " 'frame16433_splash.jpg': 1.5303446,\n",
       " 'frame16434_splash.jpg': 1.3227637,\n",
       " 'frame18135_splash.jpg': 1.0443932,\n",
       " 'frame33152_splash.jpg': 1.2270098,\n",
       " 'frame7920_splash.jpg': 1.3969398,\n",
       " 'frame7973_splash.jpg': 0.9277557}"
      ]
     },
     "execution_count": 5,
     "metadata": {},
     "output_type": "execute_result"
    }
   ],
   "source": [
    "depth_vls"
   ]
  },
  {
   "cell_type": "code",
   "execution_count": 7,
   "metadata": {},
   "outputs": [],
   "source": [
    "#save depth values dictionary to pickle file\n",
    "with open(\"depth_values.pkl\", \"wb\") as dv:\n",
    "    pickle.dump(depth_vls,dv)"
   ]
  },
  {
   "cell_type": "code",
   "execution_count": null,
   "metadata": {},
   "outputs": [],
   "source": []
  }
 ],
 "metadata": {
  "kernelspec": {
   "display_name": "Python 3",
   "language": "python",
   "name": "python3"
  },
  "language_info": {
   "codemirror_mode": {
    "name": "ipython",
    "version": 3
   },
   "file_extension": ".py",
   "mimetype": "text/x-python",
   "name": "python",
   "nbconvert_exporter": "python",
   "pygments_lexer": "ipython3",
   "version": "3.6.6"
  }
 },
 "nbformat": 4,
 "nbformat_minor": 2
}
